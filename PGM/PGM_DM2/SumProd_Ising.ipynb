{
 "cells": [
  {
   "cell_type": "code",
   "execution_count": 451,
   "metadata": {},
   "outputs": [],
   "source": [
    "import numpy as np\n",
    "import itertools\n",
    "import matplotlib.pyplot as plt"
   ]
  },
  {
   "cell_type": "markdown",
   "metadata": {},
   "source": [
    "- Supposing that the random variables of the chain can only take K values, the factors $\\psi_{i,i+1}$ are matrices of shape (K,K). And the $\\psi_i$ have a shape (K,1)\n",
    "- We are not going to bother about the normalization of the messages."
   ]
  },
  {
   "cell_type": "code",
   "execution_count": 393,
   "metadata": {},
   "outputs": [],
   "source": [
    "def chain(N, K):\n",
    "    \n",
    "    list_phi_i = np.zeros((N,K))\n",
    "    for i in range(N):\n",
    "        list_phi_i[i] = np.random.rand(K)\n",
    "    \n",
    "    list_phi_i_j = np.zeros((N-1,K,K))\n",
    "    for i in range(N-1):\n",
    "        list_phi_i_j[i] = np.random.rand(K,K)\n",
    "        \n",
    "    return list_phi_i, list_phi_i_j"
   ]
  },
  {
   "cell_type": "code",
   "execution_count": 394,
   "metadata": {},
   "outputs": [],
   "source": [
    "factors_i, factors_i_j = chain(5,2)"
   ]
  },
  {
   "cell_type": "markdown",
   "metadata": {},
   "source": [
    "- The forward messages of the leaves are initialized to a column vector of ones "
   ]
  },
  {
   "cell_type": "code",
   "execution_count": 395,
   "metadata": {},
   "outputs": [],
   "source": [
    "def sum_product_chain(factors_i, factors_i_j):\n",
    "    \n",
    "    num_edges = factors_i_j.shape[0]\n",
    "    num_state = factors_i_j.shape[1]\n",
    "        \n",
    "    messages = dict()\n",
    "    messages[\"forward\"] = np.zeros((num_edges,num_state, 1))        \n",
    "    messages[\"backward\"] = np.zeros((num_edges,num_state, 1))\n",
    "    \n",
    "    # iniatilization of the messages of the leaves\n",
    "\n",
    "    messages[\"forward\"][0] = factors_i_j[0] @ (factors_i[0] * np.ones(num_state))[:,None]\n",
    "    messages[\"backward\"][-1] = factors_i_j[-1] @ (factors_i[-1] *np.ones(num_state))[:,None]\n",
    "\n",
    "    \n",
    "    for i in range(num_edges -1 ) :\n",
    "        messages[\"forward\"][i+1] = factors_i_j[i+1] @ (np.exp(np.log(factors_i[i][:,None]) + np.log(messages[\"forward\"][i])))\n",
    "#     for i in range(num_edges):\n",
    "#         messages[\"forward\"][i] = messages[\"forward\"][i]/ messages[\"forward\"][i].sum()\n",
    "        \n",
    "    for i in range(num_edges-2,- 1,-1):\n",
    "        messages[\"backward\"][i] = factors_i_j[i] @ (np.exp(np.log(factors_i[i+1][:,None]) + np.log(messages[\"backward\"][i+1])))\n",
    "#     for i in range(num_edges):\n",
    "#         messages[\"backward\"][i] = messages[\"backward\"][i]/ messages[\"backward\"][i].sum()\n",
    "    return messages"
   ]
  },
  {
   "cell_type": "code",
   "execution_count": 396,
   "metadata": {},
   "outputs": [
    {
     "data": {
      "text/plain": [
       "{'forward': array([[[0.28299934],\n",
       "         [0.36936069]],\n",
       " \n",
       "        [[0.01160519],\n",
       "         [0.19049732]],\n",
       " \n",
       "        [[0.05570755],\n",
       "         [0.05504272]],\n",
       " \n",
       "        [[0.03432478],\n",
       "         [0.02591819]]]), 'backward': array([[[0.02476665],\n",
       "         [0.04274632]],\n",
       " \n",
       "        [[0.00585401],\n",
       "         [0.14867611]],\n",
       " \n",
       "        [[0.33161352],\n",
       "         [0.15947978]],\n",
       " \n",
       "        [[0.5622843 ],\n",
       "         [0.53168411]]])}"
      ]
     },
     "execution_count": 396,
     "metadata": {},
     "output_type": "execute_result"
    }
   ],
   "source": [
    "sum_product_chain(factors_i, factors_i_j)"
   ]
  },
  {
   "cell_type": "code",
   "execution_count": 464,
   "metadata": {},
   "outputs": [],
   "source": [
    "def number_equal_neighbors(L):\n",
    "    \n",
    "    return np.count_nonzero(np.diff(L)==0)\n",
    "\n",
    "def factors_i_func(h, w, beta) : \n",
    "    \n",
    "    states = np.array(list(itertools.product([0, 1], repeat=w)))\n",
    "    factors_i = np.apply_along_axis(number_equal_neighbors, 1, states)\n",
    "#     factors_i = factors_i/factors_i.sum()\n",
    "    factors_i = np.tile(np.exp(beta * factors_i), (h-1,1))\n",
    "    \n",
    "    factors_i_j = np.zeros((2**w, 2**w))\n",
    "    np.fill_diagonal(factors_i_j, w)\n",
    "    for i in range(len(states)):\n",
    "        for j in range(i+1, len(states)):\n",
    "            count = np.count_nonzero((states[i] - states[j])==0)\n",
    "            factors_i_j[i][j] = count\n",
    "            factors_i_j[j][i] = count\n",
    "#     factors_i_j= factors_i_j/factors_i_j.sum(axis=1)\n",
    "        \n",
    "    factors_i_j = np.exp(beta * factors_i_j)\n",
    "    factors_i_j = np.tile(factors_i_j, (h-1,1,1))\n",
    "    \n",
    "    return factors_i, factors_i_j\n"
   ]
  },
  {
   "cell_type": "code",
   "execution_count": 504,
   "metadata": {},
   "outputs": [],
   "source": [
    "list_beta = np.linspace(-5,-1,21)\n",
    "list_Z = np.zeros(len(list_beta))\n",
    "ind = 0\n",
    "for beta in list_beta :\n",
    "    factors_i, factors_i_j = factors_i_func(100,10, beta)\n",
    "    messages = sum_product_chain(factors_i, factors_i_j)\n",
    "    Z = np.array([0])\n",
    "    for i in range(len(factors_i)) :\n",
    "        Z= np.add(Z,factors_i[i] @ (messages[\"forward\"][i] * messages[\"backward\"][i]))\n",
    "        \n",
    "    list_Z[ind] = Z\n",
    "    ind+=1"
   ]
  },
  {
   "cell_type": "code",
   "execution_count": 505,
   "metadata": {},
   "outputs": [
    {
     "data": {
      "image/png": "[encoded data removed]",
      "text/plain": [
       "<Figure size 1080x504 with 1 Axes>"
      ]
     },
     "metadata": {
      "needs_background": "light"
     },
     "output_type": "display_data"
    }
   ],
   "source": [
    "plt.figure(figsize = (15,7))\n",
    "plt.grid()\n",
    "plt.title(r\"Evolution of log(Z) wrt $\\beta$\")\n",
    "plt.xlabel(r\"$\\beta$\")\n",
    "plt.ylabel(r\"$log(Z)$\")\n",
    "plt.plot(list_beta, np.log(list_Z));"
   ]
  },
  {
   "cell_type": "code",
   "execution_count": null,
   "metadata": {},
   "outputs": [],
   "source": []
  },
  {
   "cell_type": "code",
   "execution_count": null,
   "metadata": {},
   "outputs": [],
   "source": []
  },
  {
   "cell_type": "code",
   "execution_count": null,
   "metadata": {},
   "outputs": [],
   "source": []
  },
  {
   "cell_type": "code",
   "execution_count": null,
   "metadata": {},
   "outputs": [],
   "source": []
  },
  {
   "cell_type": "code",
   "execution_count": null,
   "metadata": {},
   "outputs": [],
   "source": []
  },
  {
   "cell_type": "code",
   "execution_count": null,
   "metadata": {},
   "outputs": [],
   "source": []
  },
  {
   "cell_type": "code",
   "execution_count": null,
   "metadata": {},
   "outputs": [],
   "source": []
  },
  {
   "cell_type": "code",
   "execution_count": null,
   "metadata": {},
   "outputs": [],
   "source": []
  }
 ],
 "metadata": {
  "kernelspec": {
   "display_name": "Python 3",
   "language": "python",
   "name": "python3"
  },
  "language_info": {
   "codemirror_mode": {
    "name": "ipython",
    "version": 3
   },
   "file_extension": ".py",
   "mimetype": "text/x-python",
   "name": "python",
   "nbconvert_exporter": "python",
   "pygments_lexer": "ipython3",
   "version": "3.7.3"
  }
 },
 "nbformat": 4,
 "nbformat_minor": 2
}
