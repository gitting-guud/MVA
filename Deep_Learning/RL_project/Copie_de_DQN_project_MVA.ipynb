{
  "nbformat": 4,
  "nbformat_minor": 0,
  "metadata": {
    "kernelspec": {
      "name": "python3",
      "display_name": "Python 3"
    },
    "language_info": {
      "codemirror_mode": {
        "name": "ipython",
        "version": 3
      },
      "file_extension": ".py",
      "mimetype": "text/x-python",
      "name": "python",
      "nbconvert_exporter": "python",
      "pygments_lexer": "ipython3",
      "version": "3.7.3"
    },
    "colab": {
      "name": "Copie de DQN_project_MVA.ipynb",
      "provenance": [],
      "collapsed_sections": [
        "EpiUvHdQnIdO"
      ]
    },
    "accelerator": "GPU"
  },
  "cells": [
    {
      "cell_type": "markdown",
      "metadata": {
        "id": "apRnWvF3nIcm",
        "colab_type": "text"
      },
      "source": [
        "**You may need to install [OpenCV](https://pypi.python.org/pypi/opencv-python) and [scikit-video](http://www.scikit-video.org/stable/).**"
      ]
    },
    {
      "cell_type": "code",
      "metadata": {
        "id": "8Qvh9u4xnR6f",
        "colab_type": "code",
        "outputId": "309471aa-112c-4847-f942-d9ed6acc80c1",
        "colab": {
          "base_uri": "https://localhost:8080/",
          "height": 151
        }
      },
      "source": [
        "!pip install scikit-video"
      ],
      "execution_count": 0,
      "outputs": [
        {
          "output_type": "stream",
          "text": [
            "Collecting scikit-video\n",
            "\u001b[?25l  Downloading https://files.pythonhosted.org/packages/b1/a6/c69cad508139a342810ae46e946ebb3256aa6e42f690d901bb68f50582e3/scikit_video-1.1.11-py2.py3-none-any.whl (2.3MB)\n",
            "\u001b[K     |████████████████████████████████| 2.3MB 2.8MB/s \n",
            "\u001b[?25hRequirement already satisfied: pillow in /usr/local/lib/python3.6/dist-packages (from scikit-video) (6.2.2)\n",
            "Requirement already satisfied: numpy in /usr/local/lib/python3.6/dist-packages (from scikit-video) (1.17.5)\n",
            "Requirement already satisfied: scipy in /usr/local/lib/python3.6/dist-packages (from scikit-video) (1.4.1)\n",
            "Installing collected packages: scikit-video\n",
            "Successfully installed scikit-video-1.1.11\n"
          ],
          "name": "stdout"
        }
      ]
    },
    {
      "cell_type": "code",
      "metadata": {
        "id": "0QzP1aQ-nIcq",
        "colab_type": "code",
        "colab": {}
      },
      "source": [
        "import keras\n",
        "import numpy as np\n",
        "import io\n",
        "import base64\n",
        "from IPython.display import HTML\n",
        "# import skvideo\n",
        "# skvideo.setFFmpegPath(\"D:\\Anaconda\\Lib\\site-packages\\\\ffmpeg\")\n",
        "import skvideo.io\n",
        "import cv2\n",
        "import json\n",
        "\n",
        "import tensorflow as tf\n",
        "from keras.models import Sequential,model_from_json\n",
        "from keras.layers.core import Dense\n",
        "from keras.optimizers import sgd\n",
        "from keras.layers import Conv2D, MaxPooling2D, Activation, AveragePooling2D,Reshape,BatchNormalization, Flatten"
      ],
      "execution_count": 0,
      "outputs": []
    },
    {
      "cell_type": "markdown",
      "metadata": {
        "id": "OVNmsg29nIcw",
        "colab_type": "text"
      },
      "source": [
        "# MiniProject on Deep Reinforcement Learning"
      ]
    },
    {
      "cell_type": "markdown",
      "metadata": {
        "id": "a_4xnadYnIcy",
        "colab_type": "text"
      },
      "source": [
        "__Notations__: $E_p$ is the expectation under probability $p$. Please justify each of your answer and widely comment your code."
      ]
    },
    {
      "cell_type": "markdown",
      "metadata": {
        "id": "lpJ0tYo2nIc0",
        "colab_type": "text"
      },
      "source": [
        "# Context"
      ]
    },
    {
      "cell_type": "markdown",
      "metadata": {
        "id": "H1UttgcFnIc2",
        "colab_type": "text"
      },
      "source": [
        "In a reinforcement learning algorithm, we modelize each step $t$ as an action $a_t$ obtained from a state $s_t$, i.e. $\\{(a_{t},s_{t})_{t\\leq T}\\}$ having the Markov property. We consider a discount factor $\\gamma \\in [0,1]$ that ensures convergence. The goal is to find among all the policies $\\pi$, one that maximizes the expected reward:\n",
        "\n",
        "\\begin{equation*}\n",
        "R(\\pi)=\\sum_{t\\leq T}E_{p^{\\pi}}[\\gamma^t r(s_{t},a_{t})] \\> ,\n",
        "\\end{equation*}\n",
        "\n",
        "where: \n",
        "\\begin{equation*}p^{\\pi}(a_{0},a_{1},s_{1},...,a_{T},s_{T})=p(a_{0})\\prod_{t=1}^{T}\\pi(a_{t}|s_{t})p(s_{t+1}|s_{t},a_{t}) \\> .\n",
        "\\end{equation*}\n",
        "\n",
        "We note the $Q$-function:\n",
        "\n",
        "\\begin{equation*}Q^\\pi(s,a)=E_{p^{\\pi}}[\\sum_{t\\leq T}\\gamma^{t}r(s_{t},a_{t})|s_{0}=s,a_{0}=a] \\> .\n",
        "\\end{equation*}\n",
        "\n",
        "Thus, the optimal Q function is:\n",
        "\\begin{equation*}\n",
        "Q^*(s,a)=\\max_{\\pi}Q^\\pi(s,a) \\> .\n",
        "\\end{equation*}\n",
        "\n",
        "In this project, we will apply the deep reinforcement learning techniques to a simple game: an agent will have to learn from scratch a policy that will permit it maximizing a reward."
      ]
    },
    {
      "cell_type": "markdown",
      "metadata": {
        "id": "OLVXET_tnIc4",
        "colab_type": "text"
      },
      "source": [
        "## The environment, the agent and the game"
      ]
    },
    {
      "cell_type": "markdown",
      "metadata": {
        "id": "FZXRU7KInIc6",
        "colab_type": "text"
      },
      "source": [
        "### The environment"
      ]
    },
    {
      "cell_type": "markdown",
      "metadata": {
        "id": "QR4xD8oWnIc8",
        "colab_type": "text"
      },
      "source": [
        "```Environment``` is an abstract class that represents the states, rewards, and actions to obtain the new state."
      ]
    },
    {
      "cell_type": "code",
      "metadata": {
        "id": "u6vi0oyTnIc9",
        "colab_type": "code",
        "colab": {}
      },
      "source": [
        "class Environment(object):\n",
        "    def __init__(self):\n",
        "        pass\n",
        "\n",
        "    def act(self, act):\n",
        "        \"\"\"\n",
        "        One can act on the environment and obtain its reaction:\n",
        "        - the new state\n",
        "        - the reward of the new state\n",
        "        - should we continue the game?\n",
        "\n",
        "        :return: state, reward, game_over\n",
        "        \"\"\"\n",
        "        pass\n",
        "\n",
        "\n",
        "    def reset(self):\n",
        "        \"\"\"\n",
        "        Reinitialize the environment to a random state and returns\n",
        "        the original state\n",
        "\n",
        "        :return: state\n",
        "        \"\"\"\n",
        "        pass\n",
        "    \n",
        "    def draw(self):\n",
        "        \"\"\"\n",
        "        Visualize in the console or graphically the current state\n",
        "        \"\"\"\n",
        "        pass"
      ],
      "execution_count": 0,
      "outputs": []
    },
    {
      "cell_type": "markdown",
      "metadata": {
        "id": "LgyIdxqvnIdC",
        "colab_type": "text"
      },
      "source": [
        "The method ```act``` allows to act on the environment at a given state $s_t$ (stored internally), via action $a_t$. The method will return the new state $s_{t+1}$, the reward $r(s_{t},a_{t})$ and determines if $t\\leq T$ (*game_over*).\n",
        "\n",
        "The method ```reset``` simply reinitializes the environment to a random state $s_0$.\n",
        "\n",
        "The method ```draw``` displays the current state $s_t$ (this is useful to check the behavior of the Agent).\n",
        "\n",
        "We modelize $s_t$ as a tensor, while $a_t$ is an integer."
      ]
    },
    {
      "cell_type": "markdown",
      "metadata": {
        "id": "hC7F4ECOnIdD",
        "colab_type": "text"
      },
      "source": [
        "### The Agent"
      ]
    },
    {
      "cell_type": "markdown",
      "metadata": {
        "id": "SnkhtVoTnIdF",
        "colab_type": "text"
      },
      "source": [
        "The goal of the ```Agent``` is to interact with the ```Environment``` by proposing actions $a_t$ obtained from a given state $s_t$ to attempt to maximize its __reward__ $r(s_t,a_t)$. We propose the following abstract class:"
      ]
    },
    {
      "cell_type": "code",
      "metadata": {
        "id": "hy8U62QdnIdG",
        "colab_type": "code",
        "colab": {}
      },
      "source": [
        "class Agent(object):\n",
        "    def __init__(self, epsilon=0.1, n_action=4):\n",
        "        self.epsilon = epsilon\n",
        "        self.n_action = n_action\n",
        "    \n",
        "    def set_epsilon(self,e):\n",
        "        self.epsilon = e\n",
        "\n",
        "    def act(self,s,train=True):\n",
        "        \"\"\" This function should return the next action to do:\n",
        "        an integer between 0 and 4 (not included) with a random exploration of epsilon\"\"\"\n",
        "        if train:\n",
        "            if np.random.rand() <= self.epsilon:\n",
        "                a = np.random.randint(0, self.n_action, size=1)[0]\n",
        "            else:\n",
        "                a = self.learned_act(s)\n",
        "        else: # in some cases, this can improve the performance.. remove it if poor performances\n",
        "            a = self.learned_act(s)\n",
        "\n",
        "        return a\n",
        "\n",
        "    def learned_act(self,s):\n",
        "        \"\"\" Act via the policy of the agent, from a given state s\n",
        "        it proposes an action a\"\"\"\n",
        "        pass\n",
        "\n",
        "    def reinforce(self, s, n_s, a, r, game_over_):\n",
        "        \"\"\" This function is the core of the learning algorithm. \n",
        "        It takes as an input the current state s_, the next state n_s_\n",
        "        the action a_ used to move from s_ to n_s_ and the reward r_.\n",
        "        \n",
        "        Its goal is to learn a policy.\n",
        "        \"\"\"\n",
        "        pass\n",
        "\n",
        "    def save(self):\n",
        "        \"\"\" This function returns basic stats if applicable: the\n",
        "        loss and/or the model\"\"\"\n",
        "        pass\n",
        "\n",
        "    def load(self):\n",
        "        \"\"\" This function allows to restore a model\"\"\"\n",
        "        pass"
      ],
      "execution_count": 0,
      "outputs": []
    },
    {
      "cell_type": "markdown",
      "metadata": {
        "id": "FEunwNh6nIdL",
        "colab_type": "text"
      },
      "source": [
        "***\n",
        "__Question 1__:\n",
        "Explain the function act. Why is ```epsilon``` essential?"
      ]
    },
    {
      "cell_type": "markdown",
      "metadata": {
        "id": "8fxoMM3XnIdN",
        "colab_type": "text"
      },
      "source": [
        "The act function returns the action to perform given the current state.  𝜖  is essential there to force the exploration behaviour of the agent. Indeed, with this called  𝜖 -greedy policy, the agents performs a random action with probability  𝜖  that leads him to go to other states not dictated by its \"optimal up to now\" policy and maybe find out that there are other actions that are far more rewarding"
      ]
    },
    {
      "cell_type": "markdown",
      "metadata": {
        "id": "EpiUvHdQnIdO",
        "colab_type": "text"
      },
      "source": [
        "***\n",
        "### The Game"
      ]
    },
    {
      "cell_type": "markdown",
      "metadata": {
        "id": "D47jFxmQnIdP",
        "colab_type": "text"
      },
      "source": [
        "The ```Agent``` and the ```Environment``` work in an interlaced way as in the following (take some time to understand this code as it is the core of the project)\n",
        "\n",
        "```python\n",
        "\n",
        "epoch = 300\n",
        "env = Environment()\n",
        "agent = Agent()\n",
        "\n",
        "\n",
        "# Number of won games\n",
        "score = 0\n",
        "loss = 0\n",
        "\n",
        "\n",
        "for e in range(epoch):\n",
        "    # At each epoch, we restart to a fresh game and get the initial state\n",
        "    state = env.reset()\n",
        "    # This assumes that the games will end\n",
        "    game_over = False\n",
        "\n",
        "    win = 0\n",
        "    lose = 0\n",
        "    \n",
        "    while not game_over:\n",
        "        # The agent performs an action\n",
        "        action = agent.act(state)\n",
        "\n",
        "        # Apply an action to the environment, get the next state, the reward\n",
        "        # and if the games end\n",
        "        prev_state = state\n",
        "        state, reward, game_over = env.act(action)\n",
        "\n",
        "        # Update the counters\n",
        "        if reward > 0:\n",
        "            win = win + reward\n",
        "        if reward < 0:\n",
        "            lose = lose -reward\n",
        "\n",
        "        # Apply the reinforcement strategy\n",
        "        loss = agent.reinforce(prev_state, state,  action, reward, game_over)\n",
        "\n",
        "    # Save as a mp4\n",
        "    if e % 10 == 0:\n",
        "        env.draw(e)\n",
        "\n",
        "    # Update stats\n",
        "    score += win-lose\n",
        "\n",
        "    print(\"Epoch {:03d}/{:03d} | Loss {:.4f} | Win/lose count {}/{} ({})\"\n",
        "          .format(e, epoch, loss, win, lose, win-lose))\n",
        "    agent.save()\n",
        "```"
      ]
    },
    {
      "cell_type": "markdown",
      "metadata": {
        "id": "3g4kJfrVnIdS",
        "colab_type": "text"
      },
      "source": [
        "# The game, *eat cheese*"
      ]
    },
    {
      "cell_type": "markdown",
      "metadata": {
        "id": "DfaiS2nknIdT",
        "colab_type": "text"
      },
      "source": [
        "A rat runs on an island and tries to eat as much as possible. The island is subdivided into $N\\times N$ cells, in which there are cheese (+0.5) and poisonous cells (-1). The rat has a visibility of 2 cells (thus it can see $5^2$ cells). The rat is given a time $T$ to accumulate as much food as possible. It can perform 4 actions: going up, down, left, right. \n",
        "\n",
        "The goal is to code an agent to solve this task that will learn by trial and error. We propose the following environment:"
      ]
    },
    {
      "cell_type": "code",
      "metadata": {
        "id": "CvNxqe9knIdV",
        "colab_type": "code",
        "colab": {}
      },
      "source": [
        "class Environment(object):\n",
        "    def __init__(self, grid_size=10, max_time=500, temperature=0.1):\n",
        "        grid_size = grid_size+4\n",
        "        self.grid_size = grid_size\n",
        "        self.max_time = max_time\n",
        "        self.temperature = temperature\n",
        "\n",
        "        #board on which one plays\n",
        "        self.board = np.zeros((grid_size,grid_size))\n",
        "        self.position = np.zeros((grid_size,grid_size))\n",
        "\n",
        "        # coordinate of the cat\n",
        "        self.x = 0\n",
        "        self.y = 1\n",
        "\n",
        "        # self time\n",
        "        self.t = 0\n",
        "\n",
        "        self.scale=16\n",
        "\n",
        "        self.to_draw = np.zeros((max_time+2, grid_size*self.scale, grid_size*self.scale, 3))\n",
        "\n",
        "\n",
        "    def draw(self,e):\n",
        "        skvideo.io.vwrite(str(e) + '.mp4', self.to_draw)\n",
        "\n",
        "    def get_frame(self,t):\n",
        "        b = np.zeros((self.grid_size,self.grid_size,3))+128\n",
        "        b[self.board>0,0] = 256\n",
        "        b[self.board < 0, 2] = 256\n",
        "        b[self.x,self.y,:]=256\n",
        "        b[-2:,:,:]=0\n",
        "        b[:,-2:,:]=0\n",
        "        b[:2,:,:]=0\n",
        "        b[:,:2,:]=0\n",
        "        \n",
        "        b =  cv2.resize(b, None, fx=self.scale, fy=self.scale, interpolation=cv2.INTER_NEAREST)\n",
        "\n",
        "        self.to_draw[t,:,:,:]=b\n",
        "\n",
        "\n",
        "    def act(self, action):\n",
        "        \"\"\"This function returns the new state, reward and decides if the\n",
        "        game ends.\"\"\"\n",
        "\n",
        "        self.get_frame(int(self.t))\n",
        "\n",
        "        self.position = np.zeros((self.grid_size, self.grid_size))\n",
        "\n",
        "        self.position[0:2,:]= -1\n",
        "        self.position[:,0:2] = -1\n",
        "        self.position[-2:, :] = -1\n",
        "        self.position[-2:, :] = -1\n",
        "\n",
        "        self.position[self.x, self.y] = 1\n",
        "        if action == 0:\n",
        "            if self.x == self.grid_size-3:\n",
        "                self.x = self.x-1\n",
        "            else:\n",
        "                self.x = self.x + 1\n",
        "        elif action == 1:\n",
        "            if self.x == 2:\n",
        "                self.x = self.x+1\n",
        "            else:\n",
        "                self.x = self.x-1\n",
        "        elif action == 2:\n",
        "            if self.y == self.grid_size - 3:\n",
        "                self.y = self.y - 1\n",
        "            else:\n",
        "                self.y = self.y + 1\n",
        "        elif action == 3:\n",
        "            if self.y == 2:\n",
        "                self.y = self.y + 1\n",
        "            else:\n",
        "                self.y = self.y - 1\n",
        "        else:\n",
        "            RuntimeError('Error: action not recognized')\n",
        "\n",
        "        self.t = self.t + 1\n",
        "        reward = self.board[self.x, self.y]\n",
        "        self.board[self.x, self.y] = 0\n",
        "        game_over = self.t > self.max_time\n",
        "        state = np.concatenate((self.board.reshape(self.grid_size, self.grid_size,1),\n",
        "                        self.position.reshape(self.grid_size, self.grid_size,1)),axis=2)\n",
        "        state = state[self.x-2:self.x+3,self.y-2:self.y+3,:]\n",
        "\n",
        "        return state, reward, game_over\n",
        "\n",
        "    def reset(self):\n",
        "        \"\"\"This function resets the game and returns the initial state\"\"\"\n",
        "\n",
        "        self.x = np.random.randint(3, self.grid_size-3, size=1)[0]\n",
        "        self.y = np.random.randint(3, self.grid_size-3, size=1)[0]\n",
        "\n",
        "\n",
        "        bonus = 0.5*np.random.binomial(1,self.temperature,size=self.grid_size**2)\n",
        "        bonus = bonus.reshape(self.grid_size,self.grid_size)\n",
        "\n",
        "        malus = -1.0*np.random.binomial(1,self.temperature,size=self.grid_size**2)\n",
        "        malus = malus.reshape(self.grid_size, self.grid_size)\n",
        "\n",
        "        self.to_draw = np.zeros((self.max_time+2, self.grid_size*self.scale, self.grid_size*self.scale, 3))\n",
        "\n",
        "\n",
        "        malus[bonus>0]=0\n",
        "\n",
        "        self.board = bonus + malus\n",
        "\n",
        "        self.position = np.zeros((self.grid_size, self.grid_size))\n",
        "        self.position[0:2,:]= -1\n",
        "        self.position[:,0:2] = -1\n",
        "        self.position[-2:, :] = -1\n",
        "        self.position[-2:, :] = -1\n",
        "        self.board[self.x,self.y] = 0\n",
        "        self.t = 0\n",
        "\n",
        "        state = np.concatenate((\n",
        "                               self.board.reshape(self.grid_size, self.grid_size,1),\n",
        "                        self.position.reshape(self.grid_size, self.grid_size,1)),axis=2)\n",
        "\n",
        "        state = state[self.x - 2:self.x + 3, self.y - 2:self.y + 3, :]\n",
        "        return state"
      ],
      "execution_count": 0,
      "outputs": []
    },
    {
      "cell_type": "markdown",
      "metadata": {
        "id": "QFmAtzRinIda",
        "colab_type": "text"
      },
      "source": [
        "The following elements are important because they correspond to the hyper parameters for this project:"
      ]
    },
    {
      "cell_type": "code",
      "metadata": {
        "id": "aIHOOTFknIdc",
        "colab_type": "code",
        "colab": {}
      },
      "source": [
        "# parameters\n",
        "size = 13\n",
        "T=200\n",
        "temperature=0.3\n",
        "epochs_train=30 # set small when debugging\n",
        "epochs_test=30 # set small when debugging\n",
        "\n",
        "# display videos\n",
        "def display_videos(name):\n",
        "    video = io.open(name, 'r+b').read()\n",
        "    encoded = base64.b64encode(video)\n",
        "    return '''<video alt=\"test\" controls>\n",
        "                <source src=\"data:video/mp4;base64,{0}\" type=\"video/mp4\" />\n",
        "             </video>'''.format(encoded.decode('ascii'))"
      ],
      "execution_count": 0,
      "outputs": []
    },
    {
      "cell_type": "markdown",
      "metadata": {
        "id": "iY2Lxl90nIdi",
        "colab_type": "text"
      },
      "source": [
        "__Question 2__ Explain the use of the arrays ```position``` and ```board```."
      ]
    },
    {
      "cell_type": "markdown",
      "metadata": {
        "id": "kTO5nqhRnIdj",
        "colab_type": "text"
      },
      "source": [
        "The board is the grid where the agent will move around. Its cells are either 0.5 (a cheese), 0 (normal path) or -1 (a poison).\n",
        "\n",
        "The position array tracks the movement of the agent on the board : the value of each cell where the agent passes is set to 1. It has the same shape as the board array but its boundaries are padded by -1 values ( left-right and up-down) to warn the agent (that has a visibility of two cells) that it reached the boundary of the environment"
      ]
    },
    {
      "cell_type": "markdown",
      "metadata": {
        "id": "fij-1deRnIdl",
        "colab_type": "text"
      },
      "source": [
        "## Random Agent"
      ]
    },
    {
      "cell_type": "markdown",
      "metadata": {
        "id": "0CTFpWHRnIdm",
        "colab_type": "text"
      },
      "source": [
        "***\n",
        "__Question 3__ Implement a random Agent (only ```learned_act``` needs to be implemented):"
      ]
    },
    {
      "cell_type": "code",
      "metadata": {
        "id": "th6Pp9zRnIdn",
        "colab_type": "code",
        "colab": {}
      },
      "source": [
        "class RandomAgent(Agent):\n",
        "    def __init__(self):\n",
        "        super(RandomAgent, self).__init__()\n",
        "        pass\n",
        "\n",
        "    def learned_act(self, s):\n",
        "        a = np.random.randint(0, self.n_action, size=1)[0]\n",
        "        return a"
      ],
      "execution_count": 0,
      "outputs": []
    },
    {
      "cell_type": "markdown",
      "metadata": {
        "id": "_pzCyB-HnIdr",
        "colab_type": "text"
      },
      "source": [
        "***\n",
        "***\n",
        "__Question 4__ Visualize the game moves. You need to fill in the following function for the evaluation:"
      ]
    },
    {
      "cell_type": "code",
      "metadata": {
        "id": "3VDbLBNOnIds",
        "colab_type": "code",
        "colab": {}
      },
      "source": [
        "def test(agent, env, epochs, prefix=''):\n",
        "    # Number of won games\n",
        "    score = 0\n",
        "        \n",
        "    for e in range(epochs):\n",
        "        \n",
        "        ##### FILL IN HERE\n",
        "        s = env.reset()\n",
        "        game_over = False\n",
        "\n",
        "        win = 0\n",
        "        lose = 0\n",
        "\n",
        "        while not game_over:\n",
        "            # For testing, we use the learned policy and the the epsilon greedy, it is the exploitation phase\n",
        "            a = agent.act(s, train=False) \n",
        "            old_s= s\n",
        "            s, r, game_over = env.act(a)\n",
        "            if r >0:\n",
        "                win = win +r \n",
        "            if r < 0:\n",
        "                lose = lose-r\n",
        "                \n",
        "        # Save as a mp4\n",
        "        env.draw(prefix+str(e))\n",
        "\n",
        "        # Update stats\n",
        "        score = score + win-lose\n",
        "\n",
        "        print(\"Win/lose count {}/{}. Average score ({})\"\n",
        "              .format(win, lose, score/(1+e)))\n",
        "    print('Final score: '+str(score/epochs))"
      ],
      "execution_count": 0,
      "outputs": []
    },
    {
      "cell_type": "code",
      "metadata": {
        "id": "quPk_Ow0nIdx",
        "colab_type": "code",
        "outputId": "2e457871-03c0-45d5-a0aa-e8c252346669",
        "colab": {
          "base_uri": "https://localhost:8080/",
          "height": 814
        }
      },
      "source": [
        "# Initialize the game\n",
        "env = Environment(grid_size=size, max_time=T,temperature=temperature)\n",
        "\n",
        "# Initialize the agent!\n",
        "agent = RandomAgent()\n",
        "\n",
        "test(agent,env,epochs_test,prefix='random')\n",
        "HTML(display_videos('random0.mp4'))"
      ],
      "execution_count": 0,
      "outputs": [
        {
          "output_type": "stream",
          "text": [
            "Win/lose count 12.0/10.0. Average score (2.0)\n",
            "Win/lose count 15.5/10.0. Average score (3.75)\n",
            "Win/lose count 7.0/18.0. Average score (-1.1666666666666667)\n",
            "Win/lose count 8.5/11.0. Average score (-1.5)\n",
            "Win/lose count 12.5/9.0. Average score (-0.5)\n",
            "Win/lose count 9.0/11.0. Average score (-0.75)\n",
            "Win/lose count 9.0/8.0. Average score (-0.5)\n",
            "Win/lose count 11.5/17.0. Average score (-1.125)\n",
            "Win/lose count 6.0/14.0. Average score (-1.8888888888888888)\n",
            "Win/lose count 8.0/17.0. Average score (-2.6)\n",
            "Win/lose count 11.5/15.0. Average score (-2.6818181818181817)\n",
            "Win/lose count 8.5/25.0. Average score (-3.8333333333333335)\n",
            "Win/lose count 9.0/10.0. Average score (-3.6153846153846154)\n",
            "Win/lose count 11.5/12.0. Average score (-3.392857142857143)\n",
            "Win/lose count 12.0/13.0. Average score (-3.2333333333333334)\n",
            "Win/lose count 9.0/7.0. Average score (-2.90625)\n",
            "Win/lose count 8.0/15.0. Average score (-3.1470588235294117)\n",
            "Win/lose count 12.5/18.0. Average score (-3.2777777777777777)\n",
            "Win/lose count 13.0/23.0. Average score (-3.6315789473684212)\n",
            "Win/lose count 17.0/9.0. Average score (-3.05)\n",
            "Win/lose count 8.5/20.0. Average score (-3.4523809523809526)\n",
            "Win/lose count 10.5/21.0. Average score (-3.772727272727273)\n",
            "Win/lose count 9.5/11.0. Average score (-3.6739130434782608)\n",
            "Win/lose count 8.5/15.0. Average score (-3.7916666666666665)\n",
            "Win/lose count 9.5/13.0. Average score (-3.78)\n",
            "Win/lose count 13.0/18.0. Average score (-3.826923076923077)\n",
            "Win/lose count 8.5/13.0. Average score (-3.8518518518518516)\n",
            "Win/lose count 10.5/15.0. Average score (-3.875)\n",
            "Win/lose count 9.0/14.0. Average score (-3.913793103448276)\n",
            "Win/lose count 10.5/19.0. Average score (-4.066666666666666)\n",
            "Final score: -4.066666666666666\n"
          ],
          "name": "stdout"
        },
        {
          "output_type": "execute_result",
          "data": {
            "text/html": [
              "<video alt=\"test\" controls>\n",
              "                <source src=\"data:video/mp4;base64,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\" type=\"video/mp4\" />\n",
              "             </video>"
            ],
            "text/plain": [
              "<IPython.core.display.HTML object>"
            ]
          },
          "metadata": {
            "tags": []
          },
          "execution_count": 9
        }
      ]
    },
    {
      "cell_type": "markdown",
      "metadata": {
        "id": "pQ_ouxiCnId2",
        "colab_type": "text"
      },
      "source": [
        "***\n",
        "## DQN"
      ]
    },
    {
      "cell_type": "markdown",
      "metadata": {
        "id": "BRo3lBHenId3",
        "colab_type": "text"
      },
      "source": [
        "Let us assume here that $T=\\infty$.\n",
        "\n",
        "***\n",
        "__Question 5__ Let $\\pi$ be a policy, show that:\n",
        "\n",
        "\\begin{equation*}\n",
        "Q^{\\pi}(s,a)=E_{(s',a')\\sim p(.|s,a)}[r(s,a)+\\gamma Q^{\\pi}(s',a')]\n",
        "\\end{equation*}\n",
        "\n",
        "Then, show that for the optimal policy $\\pi^*$ (we assume its existence), the following holds: \n",
        "\n",
        "\\begin{equation*}\n",
        "Q^{*}(s,a)=E_{s'\\sim \\pi^*(.|s,a)}[r(s,a)+\\gamma\\max_{a'}Q^{*}(s',a')].\n",
        "\\end{equation*}\n",
        "Finally, deduce that a plausible objective is:\n",
        "\n",
        "\\begin{equation*}\n",
        "\\mathcal{L}(\\theta)=E_{s' \\sim \\pi^*(.|s,a)}\\Vert r+\\gamma\\max\\max_{a'}Q(s',a',\\theta)-Q(s,a,\\theta)\\Vert^{2}.\n",
        "\\end{equation*}\n",
        "\n",
        "\n"
      ]
    },
    {
      "cell_type": "markdown",
      "metadata": {
        "id": "p5eqnn4lnId4",
        "colab_type": "text"
      },
      "source": [
        "We have that : (using Markov property and a change of \"time\")\n",
        "$$\n",
        "\\begin{split}\n",
        "Q^{\\pi}(s, a)    & = \\mathbb{E}_{\\pi}[\\sum_{t=0}^{\\infty} \\gamma^{t} r(s_t, a_t) | s_0=s, a_0=a] \\\\\n",
        "                 & = \\mathbb{E}_{\\pi}[r(s,a) + \\sum_{t=1}^{\\infty} \\gamma^{t} r(s_t, a_t) | s_0=s, a_0=a]\\\\\n",
        "                 & = r(s,a) + \\gamma \\mathbb{E}_{\\pi}[ \\sum_{t=1}^{\\infty} \\gamma^{t-1} r(s_{t}, a_{t}) | s_0=s, a_0=a]\\\\\n",
        "                 & = r(s,a) + \\gamma \\sum_{s'} \\mathbb{P}(s_1 = s'|s_0 = s, a_0 = a) \\mathbb{E}_{\\pi}[ \\sum_{t=1}^{\\infty} \\gamma^{t-1} r(s_{t}, a_{t}) | s_1=s', a_1=\\pi(s')]\\\\\n",
        "                 & = r(s,a) + \\gamma \\sum_{s'} \\mathbb{P}(s_1 = s'|s_0 = s, a_0 = a) \\mathbb{E}_{\\pi}[ \\sum_{t'=0}^{\\infty} \\gamma^{t'} r(s_{t'}, a_{t'}) | s_{0'}=s', a_{0'}=\\pi(s')]\\\\\n",
        "                 & = r(s,a) + \\gamma \\sum_{s'} \\mathbb{P}(s_1 = s'|s_0 = s, a_0 = a) \\mathbb{E}_{a' \\sim \\pi}[ \\sum_{t'=0}^{\\infty} \\gamma^{t'} r(s_{t'}, a_{t'}) | s_{0'}=s', a_{0'}=a']\\\\\n",
        "                 & = r(s,a) + \\gamma \\sum_{s'} \\mathbb{P}(s_1 = s'|s_0 = s, a_0 = a) Q^{\\pi}(s', a') \\\\\n",
        "                 & = r(s,a) + \\gamma \\mathbb{E}_{(s',a')\\sim p(.|s,a)}[Q^{\\pi}(s', a'))] \\\\\n",
        "                 & = \\mathbb{E}_{(s',a')\\sim p(.|s,a)}[r(s,a) + \\gamma Q^{\\pi}(s', a'))]\n",
        "\\end{split}\n",
        "$$\n",
        "\n",
        "(We showed that Q verifies the **Bellman equation** )\n",
        "***\n",
        "\n",
        "For the next equality :\n",
        "$$\n",
        "\\begin{split}\n",
        "Q^{*}(s, a)    & = \\max_{(a,\\pi)} [ r(s,a) + \\gamma \\sum_{s'} \\mathbb{P}(s_1 = s'|s_0 = s, a_0 = a) Q^{\\pi}(s', a')] \\\\\n",
        "               & = \\max_a [ r(s,a) + \\gamma \\max_{\\pi} \\sum_{s'} \\mathbb{P}(s_1 = s'|s_0 = s, a_0 = a)  Q^{\\pi}(s', a')] \\\\\n",
        "\\end{split}\n",
        "$$\n",
        "\n",
        "We have that :\n",
        "\n",
        "$$ \\max_{\\pi} \\sum_{s'} \\mathbb{P}(s_1 = s'|s_0 = s, a_0 = a)  Q^{\\pi}(s', a') \\leq \\sum_{s'} \\mathbb{P}(s_1 = s'|s_0 = s, a_0 = a) \\max_{\\pi} Q^{\\pi}(s', a') $$\n",
        "\n",
        "By denoting $\\pi^* = argmax_{\\pi} Q^{\\pi}$ : \n",
        "$$ \\sum_{s'} \\mathbb{P}(s_1 = s'|s_0 = s, a_0 = a) \\max_{\\pi} Q^{\\pi}(s', a') = \\sum_{s'} \\mathbb{P}(s_1 = s'|s_0 = s, a_0 = a)  Q^{\\pi^{*}}(s', a')$$\n",
        "\n",
        "But we also have :\n",
        "$$ \\sum_{s'} \\mathbb{P}(s_1 = s'|s_0 = s, a_0 = a)  Q^{\\pi^{*}}(s', a') \\leq \\max_{\\pi} \\sum_{s'} \\mathbb{P}(s_1 = s'|s_0 = s, a_0 = a)  Q^{\\pi}(s', a') $$ \n",
        "\n",
        "Thus we get that : \n",
        "\n",
        "$$ \\max_{\\pi} \\sum_{s'} \\mathbb{P}(s_1 = s'|s_0 = s, a_0 = a)  Q^{\\pi}(s', a') = \\sum_{s'} \\mathbb{P}(s_1 = s'|s_0 = s, a_0 = a) \\max_{\\pi} Q^{\\pi}(s', a') $$\n",
        "\n",
        "So we have : \n",
        "\n",
        "$$\n",
        "\\begin{split}\n",
        "Q^{*}(s, a)    & = \\max_{(a,\\pi)} [ r(s,a) + \\gamma \\sum_{s'} \\mathbb{P}(s_1 = s'|s_0 = s, a_0 = a) Q^{\\pi}(s', a')] \\\\\n",
        "               & = \\max_a [ r(s,a) + \\gamma \\sum_{s'} \\mathbb{P}(s_1 = s'|s_0 = s, a_0 = a) \\max_{\\pi} Q^{\\pi}(s', a') ] \\\\\n",
        "               & = \\max_a [ r(s,a) + \\gamma \\sum_{s'} \\mathbb{P}(s_1 = s'|s_0 = s, a_0 = a) \\max_{(\\pi,a')} Q^{\\pi}(s', a') ] \\\\\n",
        "               & = \\max_a [ r(s,a) + \\gamma \\sum_{s'} \\mathbb{P}(s_1 = s'|s_0 = s, a_0 = a) \\max_{a'} Q^{*}(s', a') ] \\\\\n",
        "               & = r(s,a) + \\gamma \\mathbb{E}_{s'\\sim \\pi^{*}(.|s,a)}[\\max_{a'} Q^{*}(s', a'))] \\\\\n",
        "               & = \\mathbb{E}_{s'\\sim \\pi^*(.|s,a)}[r(s,a)+\\gamma\\max_{a'}Q^{*}(s',a')].\n",
        "\\end{split}\n",
        "$$\n",
        "***\n",
        "\n",
        "Since we have :\n",
        "\n",
        "$$ \n",
        "\\mathbb{E}_{s' \\sim \\pi^*(.|s,a)}[ r+\\gamma\\max_{a'}Q^*(s',a',\\theta)-Q^*(s,a,\\theta)]= 0\n",
        "$$\n",
        "\n",
        "Our neural network predicting the Q value will converge if we ensure this equality, thus we can minimize the L2-norm of this quantity. And that is exactly $\\mathcal{L}$ proposed."
      ]
    },
    {
      "cell_type": "markdown",
      "metadata": {
        "id": "E3qY8t2CnId6",
        "colab_type": "text"
      },
      "source": [
        "***\n",
        "The DQN-learning algorithm relies on these derivations to train the parameters $\\theta$ of a Deep Neural Network:\n",
        "\n",
        "1. At the state $s_t$, select the action $a_t$ with best reward using $Q_t$ and store the results;\n",
        "\n",
        "2. Obtain the new state $s_{t+1}$ from the environment $p$;\n",
        "\n",
        "3. Store $(s_t,a_t,s_{t+1})$;\n",
        "\n",
        "4. Obtain $Q_{t+1}$ by minimizing  $\\mathcal{L}$ from a recovered batch from the previously stored results.\n",
        "\n",
        "***\n",
        "__Question 6__ Implement the class ```Memory``` that stores moves (in a replay buffer) via ```remember``` and provides a ```random_access``` to these. Specify a maximum memory size to avoid side effects. You can for example use a ```list()``` and set by default ```max_memory=100```."
      ]
    },
    {
      "cell_type": "code",
      "metadata": {
        "id": "glvXpO5TnId7",
        "colab_type": "code",
        "colab": {}
      },
      "source": [
        "class Memory(object):\n",
        "    def __init__(self, max_memory=100):\n",
        "        self.max_memory = max_memory\n",
        "        self.memory = list()\n",
        "\n",
        "    def remember(self, m):\n",
        "        self.memory.append(m)\n",
        "        if len(self.memory) > self.max_memory :\n",
        "            self.memory = self.memory[1:]\n",
        "\n",
        "    def random_access(self):\n",
        "        random_index = np.random.randint(len(self.memory))\n",
        "        return self.memory[random_index]"
      ],
      "execution_count": 0,
      "outputs": []
    },
    {
      "cell_type": "markdown",
      "metadata": {
        "id": "Mt2jKMJFnIeA",
        "colab_type": "text"
      },
      "source": [
        "***\n",
        "The pipeline we will use for training is given below:"
      ]
    },
    {
      "cell_type": "code",
      "metadata": {
        "id": "XVMd-NNgnIeC",
        "colab_type": "code",
        "colab": {}
      },
      "source": [
        "def train(agent,env,epoch,prefix=''):\n",
        "    # Number of won games\n",
        "    score = 0\n",
        "    loss = 0\n",
        "\n",
        "    for e in range(epoch):\n",
        "        # At each epoch, we restart to a fresh game and get the initial state\n",
        "        state = env.reset()\n",
        "        # This assumes that the games will terminate\n",
        "        game_over = False\n",
        "\n",
        "        win = 0\n",
        "        lose = 0\n",
        "\n",
        "        while not game_over:\n",
        "            # The agent performs an action\n",
        "            action = agent.act(state)\n",
        "\n",
        "            # Apply an action to the environment, get the next state, the reward\n",
        "            # and if the games end\n",
        "            prev_state = state\n",
        "            state, reward, game_over = env.act(action)\n",
        "\n",
        "            # Update the counters\n",
        "            if reward > 0:\n",
        "                win = win + reward\n",
        "            if reward < 0:\n",
        "                lose = lose -reward\n",
        "\n",
        "            # Apply the reinforcement strategy\n",
        "            loss = agent.reinforce(prev_state, state,  action, reward, game_over)\n",
        "\n",
        "        # Save as a mp4\n",
        "        if e % 10 == 0:\n",
        "            env.draw(prefix+str(e))\n",
        "\n",
        "        # Update stats\n",
        "        score += win-lose\n",
        "\n",
        "        print(\"Epoch {:03d}/{:03d} | Loss {:.4f} | Win/lose count {}/{} ({})\"\n",
        "              .format(e, epoch, loss, win, lose, win-lose))\n",
        "        agent.save(name_weights=prefix+'model.h5',name_model=prefix+'model.json')"
      ],
      "execution_count": 0,
      "outputs": []
    },
    {
      "cell_type": "markdown",
      "metadata": {
        "id": "6ZpJEoqZnIeI",
        "colab_type": "text"
      },
      "source": [
        "***\n",
        "__Question 7__ Implement the DQN training algorithm using a cascade of fully connected layers. You can use different learning rate, batch size or memory size parameters. In particular, the loss might oscillate while the player will start to win the games. You have to find a good criterium."
      ]
    },
    {
      "cell_type": "code",
      "metadata": {
        "id": "7Xx2-AIbnIeJ",
        "colab_type": "code",
        "colab": {}
      },
      "source": [
        "class DQN(Agent):\n",
        "    def __init__(self, grid_size,  epsilon = 0.1, memory_size=100, batch_size = 16,n_state=2):\n",
        "        super(DQN, self).__init__(epsilon = epsilon)\n",
        "\n",
        "        # Discount for Q learning\n",
        "        self.discount = 0.99\n",
        "        \n",
        "        self.grid_size = grid_size\n",
        "        \n",
        "        # number of state\n",
        "        self.n_state = n_state\n",
        "\n",
        "        # Memory\n",
        "        self.memory = Memory(memory_size)\n",
        "        \n",
        "        # Batch size when learning\n",
        "        self.batch_size = batch_size\n",
        "\n",
        "    def learned_act(self, s):\n",
        "        shape = tf.keras.backend.expand_dims(s, axis=0).shape\n",
        "        pred = self.model.predict(s.reshape(shape))\n",
        "        return pred.argmax()\n",
        "\n",
        "    def reinforce(self, s_, n_s_, a_, r_, game_over_):\n",
        "        # Two steps: first memorize the states, second learn from the pool\n",
        "\n",
        "        self.memory.remember([s_, n_s_, a_, r_, game_over_])\n",
        "        \n",
        "        input_states = np.zeros((self.batch_size, 5,5,self.n_state))\n",
        "        target_q = np.zeros((self.batch_size, 4))\n",
        "        \n",
        "        for i in range(self.batch_size):\n",
        "            ######## FILL IN\n",
        "            # Sample a minibatch of transitions from the replay buffer\n",
        "            s_, n_s_, a_, r_, game_over_ = self.memory.random_access()\n",
        "            \n",
        "            # store the states, rewards in the right arrays to be used for the SGD\n",
        "            input_states[i] = s_ # the starting state\n",
        "            \n",
        "            if game_over_:\n",
        "                ######## FILL IN\n",
        "                target_q[i, a_] = r_ # the reward associated to that (state,action) performed if terminal state\n",
        "            else:\n",
        "                ######## FILL IN\n",
        "                pred = self.model.predict(n_s_.reshape(1, 5, 5, self.n_state))\n",
        "                target_q[i, a_] = r_ + self.discount * np.max(pred) # the reward associated to that (state,action) performed if not terminal\n",
        "        ######## FILL IN\n",
        "        \n",
        "        # HINT: Clip the target to avoid exploiding gradients.. -- clipping is a bit tighter\n",
        "        target_q = np.clip(target_q, -3, 3)\n",
        "        l = self.model.train_on_batch(input_states, target_q)\n",
        "        \n",
        "        return l\n",
        "\n",
        "    def save(self,name_weights='model.h5',name_model='model.json'):\n",
        "        self.model.save_weights(name_weights, overwrite=True)\n",
        "        with open(name_model, \"w\") as outfile:\n",
        "            json.dump(self.model.to_json(), outfile)\n",
        "            \n",
        "    def load(self,name_weights='model.h5',name_model='model.json'):\n",
        "        with open(name_model, \"r\") as jfile:\n",
        "            model = model_from_json(json.load(jfile))\n",
        "        model.load_weights(name_weights)\n",
        "        model.compile(\"sgd\", \"mse\")\n",
        "        self.model = model\n",
        "\n",
        "            \n",
        "class DQN_FC(DQN):\n",
        "    def __init__(self, *args, lr=0.1,**kwargs):\n",
        "        super(DQN_FC, self).__init__( *args,**kwargs)\n",
        "        \n",
        "        # NN Model\n",
        "        ####### FILL IN\n",
        "        model = Sequential()\n",
        "        model.add(Flatten(input_shape=(5, 5, self.n_state)))\n",
        "        model.add(Dense(40, activation=\"relu\"))\n",
        "#         model.add(Dense(10, activation=\"relu\"))\n",
        "        model.add(Dense(4))\n",
        "        \n",
        "        \n",
        "        model.compile(sgd(lr=lr, decay=1e-4, momentum=0.0), \"mse\")\n",
        "        self.model = model\n",
        "        print(model.summary())\n",
        "        "
      ],
      "execution_count": 0,
      "outputs": []
    },
    {
      "cell_type": "code",
      "metadata": {
        "id": "1ZQj-aBwnIeN",
        "colab_type": "code",
        "outputId": "67c771fa-4232-4a58-8439-5ccf73095b71",
        "colab": {
          "base_uri": "https://localhost:8080/",
          "height": 1000
        }
      },
      "source": [
        "env = Environment(grid_size=size, max_time=T, temperature=0.3)\n",
        "agent = DQN_FC(size, lr=.1, epsilon = 0.1, memory_size=2000, batch_size = 32)\n",
        "train(agent, env, epochs_train, prefix='fc_train')\n",
        "HTML(display_videos('fc_train10.mp4'))"
      ],
      "execution_count": 0,
      "outputs": [
        {
          "output_type": "stream",
          "text": [
            "Model: \"sequential_4\"\n",
            "_________________________________________________________________\n",
            "Layer (type)                 Output Shape              Param #   \n",
            "=================================================================\n",
            "flatten_2 (Flatten)          (None, 50)                0         \n",
            "_________________________________________________________________\n",
            "dense_3 (Dense)              (None, 40)                2040      \n",
            "_________________________________________________________________\n",
            "dense_4 (Dense)              (None, 4)                 164       \n",
            "=================================================================\n",
            "Total params: 2,204\n",
            "Trainable params: 2,204\n",
            "Non-trainable params: 0\n",
            "_________________________________________________________________\n",
            "None\n",
            "Epoch 000/030 | Loss 0.0197 | Win/lose count 6.0/5.0 (1.0)\n",
            "Epoch 001/030 | Loss 0.0099 | Win/lose count 3.0/6.0 (-3.0)\n",
            "Epoch 002/030 | Loss 0.0035 | Win/lose count 1.0/2.0 (-1.0)\n",
            "Epoch 003/030 | Loss 0.0070 | Win/lose count 3.5/2.0 (1.5)\n",
            "Epoch 004/030 | Loss 0.0153 | Win/lose count 3.0/1.0 (2.0)\n",
            "Epoch 005/030 | Loss 0.0075 | Win/lose count 7.0/4.0 (3.0)\n",
            "Epoch 006/030 | Loss 0.0191 | Win/lose count 2.5/2.0 (0.5)\n",
            "Epoch 007/030 | Loss 0.0120 | Win/lose count 5.0/5.0 (0.0)\n",
            "Epoch 008/030 | Loss 0.0050 | Win/lose count 0.5/1.0 (-0.5)\n",
            "Epoch 009/030 | Loss 0.0107 | Win/lose count 4.0/3.0 (1.0)\n",
            "Epoch 010/030 | Loss 0.0070 | Win/lose count 2.5/5.0 (-2.5)\n",
            "Epoch 011/030 | Loss 0.0029 | Win/lose count 10.5/7.0 (3.5)\n",
            "Epoch 012/030 | Loss 0.0210 | Win/lose count 10.0/7.0 (3.0)\n",
            "Epoch 013/030 | Loss 0.0158 | Win/lose count 8.0/2.0 (6.0)\n",
            "Epoch 014/030 | Loss 0.0081 | Win/lose count 7.0/7.0 (0.0)\n",
            "Epoch 015/030 | Loss 0.0084 | Win/lose count 7.5/5.0 (2.5)\n",
            "Epoch 016/030 | Loss 0.0172 | Win/lose count 11.5/9.0 (2.5)\n",
            "Epoch 017/030 | Loss 0.0131 | Win/lose count 4.0/6.0 (-2.0)\n",
            "Epoch 018/030 | Loss 0.0123 | Win/lose count 8.0/5.0 (3.0)\n",
            "Epoch 019/030 | Loss 0.0072 | Win/lose count 6.0/4.0 (2.0)\n",
            "Epoch 020/030 | Loss 0.0224 | Win/lose count 7.0/1.0 (6.0)\n",
            "Epoch 021/030 | Loss 0.0143 | Win/lose count 16.0/5.0 (11.0)\n",
            "Epoch 022/030 | Loss 0.0261 | Win/lose count 6.0/1.0 (5.0)\n",
            "Epoch 023/030 | Loss 0.0119 | Win/lose count 5.0/8.0 (-3.0)\n",
            "Epoch 024/030 | Loss 0.0038 | Win/lose count 2.5/2.0 (0.5)\n",
            "Epoch 025/030 | Loss 0.0051 | Win/lose count 8.5/10.0 (-1.5)\n",
            "Epoch 026/030 | Loss 0.0042 | Win/lose count 3.0/3.0 (0.0)\n",
            "Epoch 027/030 | Loss 0.0117 | Win/lose count 13.5/10.0 (3.5)\n",
            "Epoch 028/030 | Loss 0.0085 | Win/lose count 10.5/5.0 (5.5)\n",
            "Epoch 029/030 | Loss 0.0159 | Win/lose count 11.5/4.0 (7.5)\n"
          ],
          "name": "stdout"
        },
        {
          "output_type": "execute_result",
          "data": {
            "text/html": [
              "<video alt=\"test\" controls>\n",
              "                <source src=\"data:video/mp4;base64,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\" type=\"video/mp4\" />\n",
              "             </video>"
            ],
            "text/plain": [
              "<IPython.core.display.HTML object>"
            ]
          },
          "metadata": {
            "tags": []
          },
          "execution_count": 18
        }
      ]
    },
    {
      "cell_type": "markdown",
      "metadata": {
        "id": "JaBoreOvpSBZ",
        "colab_type": "text"
      },
      "source": [
        "We see that even with this NN the mouse get stuck in some cells and keeps oscillating between some states and do not got to explore"
      ]
    },
    {
      "cell_type": "markdown",
      "metadata": {
        "id": "x6Cy-qlpnIeQ",
        "colab_type": "text"
      },
      "source": [
        "***\n",
        "***\n",
        "__Question 8__ Implement the DQN training algorithm using a CNN (for example, 2 convolutional layers and one final fully connected layer)."
      ]
    },
    {
      "cell_type": "code",
      "metadata": {
        "id": "f97wLBUKnIeR",
        "colab_type": "code",
        "colab": {}
      },
      "source": [
        "class DQN_CNN(DQN):\n",
        "    def __init__(self, *args,lr=0.1,**kwargs):\n",
        "        super(DQN_CNN, self).__init__(*args,**kwargs)\n",
        "        \n",
        "        ###### FILL IN\n",
        "        model = Sequential()\n",
        "        model.add(Conv2D(40,\n",
        "                         (2,2), \n",
        "                         input_shape=(5,5,self.n_state,),\n",
        "                         activation='relu'))\n",
        "        model.add(Conv2D(20,\n",
        "                         (2,2),\n",
        "                         activation='relu'))\n",
        "        model.add(Flatten())\n",
        "        model.add(Dense(4))\n",
        "        \n",
        "        model.compile(sgd(lr=lr, decay=1e-4, momentum=0.0), \"mse\")\n",
        "        self.model = model\n",
        "        print(model.summary())"
      ],
      "execution_count": 0,
      "outputs": []
    },
    {
      "cell_type": "code",
      "metadata": {
        "id": "Pu9_iOzUnIeU",
        "colab_type": "code",
        "outputId": "7e7718cd-7e6b-4df3-93fa-07a1aff0ad18",
        "colab": {
          "base_uri": "https://localhost:8080/",
          "height": 1000
        }
      },
      "source": [
        "env = Environment(grid_size=size, max_time=T, temperature=0.3)\n",
        "agent = DQN_CNN(size, lr=.1, epsilon = 0.1, memory_size=2000, batch_size = 32)\n",
        "train(agent,env,epochs_train,prefix='cnn_train')\n",
        "HTML(display_videos('cnn_train10.mp4'))"
      ],
      "execution_count": 0,
      "outputs": [
        {
          "output_type": "stream",
          "text": [
            "Model: \"sequential_5\"\n",
            "_________________________________________________________________\n",
            "Layer (type)                 Output Shape              Param #   \n",
            "=================================================================\n",
            "conv2d_1 (Conv2D)            (None, 4, 4, 40)          360       \n",
            "_________________________________________________________________\n",
            "conv2d_2 (Conv2D)            (None, 3, 3, 20)          3220      \n",
            "_________________________________________________________________\n",
            "flatten_3 (Flatten)          (None, 180)               0         \n",
            "_________________________________________________________________\n",
            "dense_5 (Dense)              (None, 4)                 724       \n",
            "=================================================================\n",
            "Total params: 4,304\n",
            "Trainable params: 4,304\n",
            "Non-trainable params: 0\n",
            "_________________________________________________________________\n",
            "None\n",
            "Epoch 000/030 | Loss 0.0011 | Win/lose count 3.5/8.0 (-4.5)\n",
            "Epoch 001/030 | Loss 0.0106 | Win/lose count 1.5/1.0 (0.5)\n",
            "Epoch 002/030 | Loss 0.0027 | Win/lose count 2.5/4.0 (-1.5)\n",
            "Epoch 003/030 | Loss 0.0085 | Win/lose count 2.0/5.0 (-3.0)\n",
            "Epoch 004/030 | Loss 0.0077 | Win/lose count 4.5/4.0 (0.5)\n",
            "Epoch 005/030 | Loss 0.0024 | Win/lose count 5.0/2.0 (3.0)\n",
            "Epoch 006/030 | Loss 0.0072 | Win/lose count 7.5/4.0 (3.5)\n",
            "Epoch 007/030 | Loss 0.0046 | Win/lose count 2.5/4.0 (-1.5)\n",
            "Epoch 008/030 | Loss 0.0051 | Win/lose count 6.0/1.0 (5.0)\n",
            "Epoch 009/030 | Loss 0.0052 | Win/lose count 2.0/2.0 (0.0)\n",
            "Epoch 010/030 | Loss 0.0022 | Win/lose count 6.5/1.0 (5.5)\n",
            "Epoch 011/030 | Loss 0.0026 | Win/lose count 6.5/3.0 (3.5)\n",
            "Epoch 012/030 | Loss 0.0027 | Win/lose count 4.0/2.0 (2.0)\n",
            "Epoch 013/030 | Loss 0.0066 | Win/lose count 4.5/3.0 (1.5)\n",
            "Epoch 014/030 | Loss 0.0105 | Win/lose count 3.0/5.0 (-2.0)\n",
            "Epoch 015/030 | Loss 0.0119 | Win/lose count 5.5/4.0 (1.5)\n",
            "Epoch 016/030 | Loss 0.0089 | Win/lose count 1.0/1.0 (0.0)\n",
            "Epoch 017/030 | Loss 0.0023 | Win/lose count 7.0/4.0 (3.0)\n",
            "Epoch 018/030 | Loss 0.0058 | Win/lose count 3.0/2.0 (1.0)\n",
            "Epoch 019/030 | Loss 0.0101 | Win/lose count 6.0/4.0 (2.0)\n",
            "Epoch 020/030 | Loss 0.0307 | Win/lose count 8.0/3.0 (5.0)\n",
            "Epoch 021/030 | Loss 0.0049 | Win/lose count 10.0/3.0 (7.0)\n",
            "Epoch 022/030 | Loss 0.0043 | Win/lose count 7.5/1.0 (6.5)\n",
            "Epoch 023/030 | Loss 0.0048 | Win/lose count 6.0/4.0 (2.0)\n",
            "Epoch 024/030 | Loss 0.0062 | Win/lose count 5.0/2.0 (3.0)\n",
            "Epoch 025/030 | Loss 0.0084 | Win/lose count 9.0/0 (9.0)\n",
            "Epoch 026/030 | Loss 0.0067 | Win/lose count 4.5/1.0 (3.5)\n",
            "Epoch 027/030 | Loss 0.0031 | Win/lose count 4.5/2.0 (2.5)\n",
            "Epoch 028/030 | Loss 0.0078 | Win/lose count 3.5/1.0 (2.5)\n",
            "Epoch 029/030 | Loss 0.0015 | Win/lose count 6.0/2.0 (4.0)\n"
          ],
          "name": "stdout"
        },
        {
          "output_type": "execute_result",
          "data": {
            "text/html": [
              "<video alt=\"test\" controls>\n",
              "                <source src=\"data:video/mp4;base64,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\" type=\"video/mp4\" />\n",
              "             </video>"
            ],
            "text/plain": [
              "<IPython.core.display.HTML object>"
            ]
          },
          "metadata": {
            "tags": []
          },
          "execution_count": 20
        }
      ]
    },
    {
      "cell_type": "markdown",
      "metadata": {
        "id": "izy3t_DfnIeY",
        "colab_type": "text"
      },
      "source": [
        "I tested 3 different FC architectures that I trained for 30 epochs : \n",
        "- 1 layer of 40 neurons and a final 4 neurons layer (output of regression) : On average, the learner achieves positive rewards at each epoch leading us to think that it is indeed learning. But even in this case, the reward is not that great and is always under 10 due to the lack of exploration always. We observe the same problem of getting stuck in some states too.\n",
        "- 2 layers of 10 neurons followed by relu and a final 4 neurons layer (output of regression) : Does not learn at all (very low of negative rewards)\n",
        "- 4 layers of 5 neurons followed by relu and a final 4 neurons layer (output of regression) : Same as the previous one.\n",
        "\n",
        "After that I moved on with trying with the other parameters with the \"best\" architecture I got and thus changed the $\\epsilon$ parameter and the learning rate, it turned out that the couple (0.1 , 0.1) was a good hyperparams set since it game on aveage on all 30 epochs the best reward (win/lose count)"
      ]
    },
    {
      "cell_type": "markdown",
      "metadata": {
        "id": "9OZtzwg4nIeZ",
        "colab_type": "text"
      },
      "source": [
        "***\n",
        "***\n",
        "__Question 9__ Test both algorithms and compare their performances. Which issue(s) do you observe? Observe also different behaviors by changing the temperature."
      ]
    },
    {
      "cell_type": "code",
      "metadata": {
        "id": "nvESXI27nIea",
        "colab_type": "code",
        "outputId": "8dd0c6c6-c937-49d9-b60e-72e017853718",
        "colab": {
          "base_uri": "https://localhost:8080/",
          "height": 1000
        }
      },
      "source": [
        "env = Environment(grid_size=size, max_time=T,temperature=0.3)\n",
        "agent_cnn = DQN_CNN(size, lr=.1, epsilon = 0.1, memory_size=2000, batch_size = 32)\n",
        "agent_cnn.load(name_weights='cnn_trainmodel.h5',name_model='cnn_trainmodel.json')\n",
        "\n",
        "agent_fc = DQN_FC(size, lr=.1, epsilon = 0.1, memory_size=2000, batch_size = 32)\n",
        "agent_cnn.load(name_weights='fc_trainmodel.h5',name_model='fc_trainmodel.json')\n",
        "print('Test of the CNN')\n",
        "test(agent_cnn,env,epochs_test,prefix='cnn_test')\n",
        "print('Test of the FC')\n",
        "test(agent_fc,env,epochs_test,prefix='fc_test')"
      ],
      "execution_count": 0,
      "outputs": [
        {
          "output_type": "stream",
          "text": [
            "Model: \"sequential_6\"\n",
            "_________________________________________________________________\n",
            "Layer (type)                 Output Shape              Param #   \n",
            "=================================================================\n",
            "conv2d_3 (Conv2D)            (None, 4, 4, 40)          360       \n",
            "_________________________________________________________________\n",
            "conv2d_4 (Conv2D)            (None, 3, 3, 20)          3220      \n",
            "_________________________________________________________________\n",
            "flatten_4 (Flatten)          (None, 180)               0         \n",
            "_________________________________________________________________\n",
            "dense_6 (Dense)              (None, 4)                 724       \n",
            "=================================================================\n",
            "Total params: 4,304\n",
            "Trainable params: 4,304\n",
            "Non-trainable params: 0\n",
            "_________________________________________________________________\n",
            "None\n",
            "Model: \"sequential_7\"\n",
            "_________________________________________________________________\n",
            "Layer (type)                 Output Shape              Param #   \n",
            "=================================================================\n",
            "flatten_5 (Flatten)          (None, 50)                0         \n",
            "_________________________________________________________________\n",
            "dense_7 (Dense)              (None, 40)                2040      \n",
            "_________________________________________________________________\n",
            "dense_8 (Dense)              (None, 4)                 164       \n",
            "=================================================================\n",
            "Total params: 2,204\n",
            "Trainable params: 2,204\n",
            "Non-trainable params: 0\n",
            "_________________________________________________________________\n",
            "None\n",
            "Test of the CNN\n",
            "Win/lose count 0.5/0. Average score (0.5)\n",
            "Win/lose count 6.5/1.0. Average score (3.0)\n",
            "Win/lose count 0/0. Average score (2.0)\n",
            "Win/lose count 1.0/0. Average score (1.75)\n",
            "Win/lose count 1.0/0. Average score (1.6)\n",
            "Win/lose count 1.5/0. Average score (1.5833333333333333)\n",
            "Win/lose count 5.5/0. Average score (2.142857142857143)\n",
            "Win/lose count 0/0. Average score (1.875)\n",
            "Win/lose count 3.5/0. Average score (2.0555555555555554)\n",
            "Win/lose count 2.5/0. Average score (2.1)\n",
            "Win/lose count 3.0/0. Average score (2.1818181818181817)\n",
            "Win/lose count 1.5/1.0. Average score (2.0416666666666665)\n",
            "Win/lose count 0.5/0. Average score (1.9230769230769231)\n",
            "Win/lose count 4.0/1.0. Average score (2.0)\n",
            "Win/lose count 5.0/1.0. Average score (2.1333333333333333)\n",
            "Win/lose count 1.5/0. Average score (2.09375)\n",
            "Win/lose count 1.0/0. Average score (2.0294117647058822)\n",
            "Win/lose count 4.0/1.0. Average score (2.0833333333333335)\n",
            "Win/lose count 1.0/0. Average score (2.026315789473684)\n",
            "Win/lose count 2.5/1.0. Average score (2.0)\n",
            "Win/lose count 0.5/0. Average score (1.9285714285714286)\n",
            "Win/lose count 0.5/0. Average score (1.8636363636363635)\n",
            "Win/lose count 1.0/0. Average score (1.826086956521739)\n",
            "Win/lose count 4.0/0. Average score (1.9166666666666667)\n",
            "Win/lose count 0.5/0. Average score (1.86)\n",
            "Win/lose count 1.5/0. Average score (1.8461538461538463)\n",
            "Win/lose count 1.5/0. Average score (1.8333333333333333)\n",
            "Win/lose count 1.5/0. Average score (1.8214285714285714)\n",
            "Win/lose count 0.5/0. Average score (1.7758620689655173)\n",
            "Win/lose count 5.5/0. Average score (1.9)\n",
            "Final score: 1.9\n",
            "Test of the FC\n",
            "Win/lose count 1.5/0. Average score (1.5)\n",
            "Win/lose count 1.5/0. Average score (1.5)\n",
            "Win/lose count 0.5/0. Average score (1.1666666666666667)\n",
            "Win/lose count 1.5/5.0. Average score (0.0)\n",
            "Win/lose count 0.5/1.0. Average score (-0.1)\n",
            "Win/lose count 0.5/0. Average score (0.0)\n",
            "Win/lose count 2.5/3.0. Average score (-0.07142857142857142)\n",
            "Win/lose count 0.5/1.0. Average score (-0.125)\n",
            "Win/lose count 0.5/0. Average score (-0.05555555555555555)\n",
            "Win/lose count 0.5/0. Average score (0.0)\n",
            "Win/lose count 0/0. Average score (0.0)\n",
            "Win/lose count 0/0. Average score (0.0)\n",
            "Win/lose count 0.5/0. Average score (0.038461538461538464)\n",
            "Win/lose count 0.5/0. Average score (0.07142857142857142)\n",
            "Win/lose count 1.0/1.0. Average score (0.06666666666666667)\n",
            "Win/lose count 1.0/1.0. Average score (0.0625)\n",
            "Win/lose count 0/1.0. Average score (0.0)\n",
            "Win/lose count 0/0. Average score (0.0)\n",
            "Win/lose count 0.5/1.0. Average score (-0.02631578947368421)\n",
            "Win/lose count 0/1.0. Average score (-0.075)\n",
            "Win/lose count 0.5/0. Average score (-0.047619047619047616)\n",
            "Win/lose count 0/1.0. Average score (-0.09090909090909091)\n",
            "Win/lose count 0/1.0. Average score (-0.13043478260869565)\n",
            "Win/lose count 0/2.0. Average score (-0.20833333333333334)\n",
            "Win/lose count 0.5/0. Average score (-0.18)\n",
            "Win/lose count 0/0. Average score (-0.17307692307692307)\n",
            "Win/lose count 0.5/1.0. Average score (-0.18518518518518517)\n",
            "Win/lose count 0.5/1.0. Average score (-0.19642857142857142)\n",
            "Win/lose count 0.5/0. Average score (-0.1724137931034483)\n",
            "Win/lose count 1.5/2.0. Average score (-0.18333333333333332)\n",
            "Final score: -0.18333333333333332\n"
          ],
          "name": "stdout"
        }
      ]
    },
    {
      "cell_type": "code",
      "metadata": {
        "id": "XbB3MSQ6nIee",
        "colab_type": "code",
        "outputId": "5be2aec5-08a3-4ca3-e1f7-cfb6163a5eec",
        "colab": {
          "base_uri": "https://localhost:8080/",
          "height": 293
        }
      },
      "source": [
        "HTML(display_videos('cnn_test10.mp4'))"
      ],
      "execution_count": 0,
      "outputs": [
        {
          "output_type": "execute_result",
          "data": {
            "text/html": [
              "<video alt=\"test\" controls>\n",
              "                <source src=\"data:video/mp4;base64,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\" type=\"video/mp4\" />\n",
              "             </video>"
            ],
            "text/plain": [
              "<IPython.core.display.HTML object>"
            ]
          },
          "metadata": {
            "tags": []
          },
          "execution_count": 22
        }
      ]
    },
    {
      "cell_type": "code",
      "metadata": {
        "id": "q6nHLbVWnIei",
        "colab_type": "code",
        "outputId": "35c2af22-d741-4eed-ee1b-0431a706da89",
        "colab": {
          "base_uri": "https://localhost:8080/",
          "height": 293
        }
      },
      "source": [
        "HTML(display_videos('fc_test10.mp4'))"
      ],
      "execution_count": 0,
      "outputs": [
        {
          "output_type": "execute_result",
          "data": {
            "text/html": [
              "<video alt=\"test\" controls>\n",
              "                <source src=\"data:video/mp4;base64,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\" type=\"video/mp4\" />\n",
              "             </video>"
            ],
            "text/plain": [
              "<IPython.core.display.HTML object>"
            ]
          },
          "metadata": {
            "tags": []
          },
          "execution_count": 23
        }
      ]
    },
    {
      "cell_type": "markdown",
      "metadata": {
        "id": "Nde0MJgWnIel",
        "colab_type": "text"
      },
      "source": [
        "The CNN has a better performance than the FC network, since it looks like he is good at dodging the negative rewards but the problem for both models is that they get stuck in some actions and seem not to exit them.\n",
        "\n",
        "The temperature's impact on the agents score is that :\n",
        "- Set to a low value (0.05, or 0.1 like before), the agents do not manage to retrieve high rewarding states. \n",
        "- Set to a high value (tested with 0.8), the agents get positive average rewards. "
      ]
    },
    {
      "cell_type": "markdown",
      "metadata": {
        "id": "xZnEkLXinIem",
        "colab_type": "text"
      },
      "source": [
        "***\n",
        "\n",
        "The algorithm tends to not explore the map which can be an issue. We propose two ideas in order to encourage exploration:\n",
        "1. Incorporating a decreasing $\\epsilon$-greedy exploration. You can use the method ```set_epsilon```\n",
        "2. Append via the environment a new state that describes if a cell has been visited or not\n",
        "\n",
        "***\n",
        "__Question 10__ Design a new ```train_explore``` function and environment class ```EnvironmentExploring``` to tackle the issue of exploration.\n",
        "\n"
      ]
    },
    {
      "cell_type": "code",
      "metadata": {
        "id": "om3Vx0DBnIeo",
        "colab_type": "code",
        "colab": {}
      },
      "source": [
        "def train_explore(agent,env,epoch,epsilon_decay=1,prefix=''):\n",
        "    # Number of won games\n",
        "    score = 0\n",
        "    loss = 0\n",
        "\n",
        "    for e in range(1, epoch+1):\n",
        "        # At each epoch, we restart to a fresh game and get the initial state\n",
        "        state = env.reset()\n",
        "        # This assumes that the games will terminate\n",
        "        game_over = False\n",
        "\n",
        "        win = 0\n",
        "        lose = 0\n",
        "\n",
        "        while not game_over:\n",
        "            # The agent performs an action\n",
        "            action = agent.act(state)\n",
        "\n",
        "            # Apply an action to the environment, get the next state, the reward\n",
        "            # and if the games end\n",
        "            prev_state = state\n",
        "            state, reward, game_over = env.act(action, train=True)\n",
        "\n",
        "            # Update the counters\n",
        "            if reward > 0:\n",
        "                win = win + reward\n",
        "            if reward < 0:\n",
        "                lose = lose -reward\n",
        "\n",
        "            # Apply the reinforcement strategy\n",
        "            loss = agent.reinforce(prev_state, state,  action, reward, game_over)\n",
        "        \n",
        "        # Decrease the exploration rate\n",
        "        agent.set_epsilon(agent.epsilon * epsilon_decay)\n",
        "\n",
        "        # Save as a mp4\n",
        "        if e % 10 == 0:\n",
        "            env.draw(prefix+str(e))\n",
        "            \n",
        "        # Update stats\n",
        "        score += win-lose\n",
        "\n",
        "        print(\"Epoch {:03d}/{:03d} | Loss {:.4f} | Win/lose count {}/{} ({})\"\n",
        "              .format(e, epoch, loss, round(win, 2), round(lose, 2), round(win-lose, 2)))\n",
        "        agent.save(name_weights=prefix+'model.h5', name_model=prefix+'model.json')"
      ],
      "execution_count": 0,
      "outputs": []
    },
    {
      "cell_type": "code",
      "metadata": {
        "id": "UDfCRxswnIes",
        "colab_type": "code",
        "colab": {}
      },
      "source": [
        "class EnvironmentExploring(object):\n",
        "    def __init__(self, grid_size=10, max_time=500, temperature=0.1):\n",
        "        grid_size = grid_size+4\n",
        "        self.grid_size = grid_size\n",
        "        self.max_time = max_time\n",
        "        self.temperature = temperature\n",
        "\n",
        "        #board on which one plays\n",
        "        self.board = np.zeros((grid_size,grid_size))\n",
        "        self.position = np.zeros((grid_size,grid_size))\n",
        "        self.malus_position = np.zeros((grid_size,grid_size))\n",
        "\n",
        "        # coordinate of the cat\n",
        "        self.x = 0\n",
        "        self.y = 1\n",
        "\n",
        "        # self time\n",
        "        self.t = 0\n",
        "\n",
        "        self.scale=16\n",
        "\n",
        "        self.to_draw = np.zeros((max_time+2, grid_size*self.scale, grid_size*self.scale, 3))\n",
        "\n",
        "\n",
        "    def draw(self, e):\n",
        "        skvideo.io.vwrite(str(e) + '.mp4', self.to_draw)\n",
        "        \n",
        "    def get_frame(self, t):\n",
        "        b = np.zeros((self.grid_size,self.grid_size,3))+128\n",
        "        b[self.board>0,0] = 256\n",
        "        b[self.board < 0, 2] = 256\n",
        "        b[self.x,self.y,:]=256\n",
        "        b[-2:,:,:]=0\n",
        "        b[:,-2:,:]=0\n",
        "        b[:2,:,:]=0\n",
        "        b[:,:2,:]=0\n",
        "        \n",
        "        b =  cv2.resize(b, None, fx=self.scale, fy=self.scale, interpolation=cv2.INTER_NEAREST)\n",
        "\n",
        "        self.to_draw[t,:,:,:]=b\n",
        "\n",
        "\n",
        "    def act(self, action, train=False):\n",
        "        \"\"\"This function returns the new state, reward and decides if the\n",
        "        game ends.\"\"\"\n",
        "\n",
        "        self.get_frame(int(self.t))\n",
        "\n",
        "        self.position = np.zeros((self.grid_size, self.grid_size))\n",
        "\n",
        "        self.position[0:2,:]= -1\n",
        "        self.position[:,0:2] = -1\n",
        "        self.position[-2:, :] = -1\n",
        "        self.position[-2:, :] = -1\n",
        "\n",
        "        self.position[self.x, self.y] = 1\n",
        "        if action == 0:\n",
        "            if self.x == self.grid_size-3:\n",
        "                self.x = self.x-1\n",
        "            else:\n",
        "                self.x = self.x + 1\n",
        "        elif action == 1:\n",
        "            if self.x == 2:\n",
        "                self.x = self.x+1\n",
        "            else:\n",
        "                self.x = self.x-1\n",
        "        elif action == 2:\n",
        "            if self.y == self.grid_size - 3:\n",
        "                self.y = self.y - 1\n",
        "            else:\n",
        "                self.y = self.y + 1\n",
        "        elif action == 3:\n",
        "            if self.y == 2:\n",
        "                self.y = self.y + 1\n",
        "            else:\n",
        "                self.y = self.y - 1\n",
        "        else:\n",
        "            RuntimeError('Error: action not recognized')\n",
        "\n",
        "        self.t = self.t + 1\n",
        "        \n",
        "        reward = 0\n",
        "        # Exploration malus\n",
        "        if train:\n",
        "            reward = -self.malus_position[self.x, self.y] # Punish the agent if the state was visited before\n",
        "        self.malus_position[self.x, self.y] = 0.1 # Mark the current state as visited\n",
        "        # Normal bonus\n",
        "        reward = reward + self.board[self.x, self.y]\n",
        "        \n",
        "        self.board[self.x, self.y] = 0\n",
        "        game_over = self.t > self.max_time\n",
        "        state = np.concatenate((self.malus_position.reshape(self.grid_size, self.grid_size,1),\n",
        "                                self.board.reshape(self.grid_size, self.grid_size,1),\n",
        "                        self.position.reshape(self.grid_size, self.grid_size,1)),axis=2)\n",
        "        state = state[self.x-2:self.x+3,self.y-2:self.y+3,:]\n",
        "        \n",
        "        return state, reward, game_over\n",
        "\n",
        "    def reset(self):\n",
        "        \"\"\"This function resets the game and returns the initial state\"\"\"\n",
        "\n",
        "        self.x = np.random.randint(3, self.grid_size-3, size=1)[0]\n",
        "        self.y = np.random.randint(3, self.grid_size-3, size=1)[0]\n",
        "\n",
        "\n",
        "        bonus = 0.5*np.random.binomial(1,self.temperature,size=self.grid_size**2)\n",
        "        bonus = bonus.reshape(self.grid_size,self.grid_size)\n",
        "\n",
        "        malus = -1.0*np.random.binomial(1,self.temperature,size=self.grid_size**2)\n",
        "        malus = malus.reshape(self.grid_size, self.grid_size)\n",
        "\n",
        "        self.to_draw = np.zeros((self.max_time+2, self.grid_size*self.scale, self.grid_size*self.scale, 3))\n",
        "\n",
        "\n",
        "        malus[bonus>0]=0\n",
        "\n",
        "        self.board = bonus + malus\n",
        "\n",
        "        self.position = np.zeros((self.grid_size, self.grid_size))\n",
        "        self.position[0:2,:]= -1\n",
        "        self.position[:,0:2] = -1\n",
        "        self.position[-2:, :] = -1\n",
        "        self.position[-2:, :] = -1\n",
        "        self.board[self.x,self.y] = 0\n",
        "        self.t = 0\n",
        "\n",
        "        # The state now includes wether the surrounding states were visited before\n",
        "        # 3 \"feature\" states instead of 2\n",
        "        state = np.concatenate((self.malus_position.reshape(self.grid_size, self.grid_size,1),\n",
        "                                self.board.reshape(self.grid_size, self.grid_size,1),\n",
        "                        self.position.reshape(self.grid_size, self.grid_size,1)),axis=2)\n",
        "    \n",
        "        state = state[self.x - 2:self.x + 3, self.y - 2:self.y + 3, :]\n",
        "        return state\n"
      ],
      "execution_count": 0,
      "outputs": []
    },
    {
      "cell_type": "code",
      "metadata": {
        "id": "bLpRz5YNnIev",
        "colab_type": "code",
        "outputId": "4012c98b-f6bf-4922-a6e8-ead3651c823b",
        "colab": {
          "base_uri": "https://localhost:8080/",
          "height": 1000
        }
      },
      "source": [
        "# Training\n",
        "env = EnvironmentExploring(grid_size=size, max_time=T, temperature=0.3)\n",
        "agent = DQN_CNN(size, lr=.1, epsilon = 0.1, memory_size=2000, batch_size = 32,n_state=3)\n",
        "train_explore(agent, env, epochs_train, prefix='cnn_train_explore')\n",
        "HTML(display_videos('cnn_train_explore10.mp4'))"
      ],
      "execution_count": 0,
      "outputs": [
        {
          "output_type": "stream",
          "text": [
            "Model: \"sequential_8\"\n",
            "_________________________________________________________________\n",
            "Layer (type)                 Output Shape              Param #   \n",
            "=================================================================\n",
            "conv2d_5 (Conv2D)            (None, 4, 4, 40)          520       \n",
            "_________________________________________________________________\n",
            "conv2d_6 (Conv2D)            (None, 3, 3, 20)          3220      \n",
            "_________________________________________________________________\n",
            "flatten_6 (Flatten)          (None, 180)               0         \n",
            "_________________________________________________________________\n",
            "dense_9 (Dense)              (None, 4)                 724       \n",
            "=================================================================\n",
            "Total params: 4,464\n",
            "Trainable params: 4,464\n",
            "Non-trainable params: 0\n",
            "_________________________________________________________________\n",
            "None\n",
            "Epoch 001/030 | Loss 0.0152 | Win/lose count 7.0/22.3 (-15.3)\n",
            "Epoch 002/030 | Loss 0.0077 | Win/lose count 2.0/18.0 (-16.0)\n",
            "Epoch 003/030 | Loss 0.0122 | Win/lose count 3.5/28.5 (-25.0)\n",
            "Epoch 004/030 | Loss 0.0070 | Win/lose count 7.2/22.1 (-14.9)\n",
            "Epoch 005/030 | Loss 0.0104 | Win/lose count 6.6/28.2 (-21.6)\n",
            "Epoch 006/030 | Loss 0.0022 | Win/lose count 8.5/24.7 (-16.2)\n",
            "Epoch 007/030 | Loss 0.0194 | Win/lose count 5.3/26.2 (-20.9)\n",
            "Epoch 008/030 | Loss 0.0042 | Win/lose count 7.7/24.6 (-16.9)\n",
            "Epoch 009/030 | Loss 0.0264 | Win/lose count 5.6/25.7 (-20.1)\n",
            "Epoch 010/030 | Loss 0.0103 | Win/lose count 4.8/23.9 (-19.1)\n",
            "Epoch 011/030 | Loss 0.0227 | Win/lose count 6.5/22.1 (-15.6)\n",
            "Epoch 012/030 | Loss 0.0239 | Win/lose count 10.4/25.5 (-15.1)\n",
            "Epoch 013/030 | Loss 0.0046 | Win/lose count 10.4/20.5 (-10.1)\n",
            "Epoch 014/030 | Loss 0.0139 | Win/lose count 11.1/22.6 (-11.5)\n",
            "Epoch 015/030 | Loss 0.0033 | Win/lose count 6.0/24.5 (-18.5)\n",
            "Epoch 016/030 | Loss 0.0260 | Win/lose count 13.3/20.6 (-7.3)\n",
            "Epoch 017/030 | Loss 0.0073 | Win/lose count 10.4/23.5 (-13.1)\n",
            "Epoch 018/030 | Loss 0.0084 | Win/lose count 4.4/23.0 (-18.6)\n",
            "Epoch 019/030 | Loss 0.0130 | Win/lose count 7.2/20.3 (-13.1)\n",
            "Epoch 020/030 | Loss 0.0048 | Win/lose count 8.8/24.9 (-16.1)\n",
            "Epoch 021/030 | Loss 0.0199 | Win/lose count 2.4/20.5 (-18.1)\n",
            "Epoch 022/030 | Loss 0.0063 | Win/lose count 1.6/21.7 (-20.1)\n",
            "Epoch 023/030 | Loss 0.0152 | Win/lose count 7.7/21.2 (-13.5)\n",
            "Epoch 024/030 | Loss 0.0060 | Win/lose count 6.8/19.4 (-12.6)\n",
            "Epoch 025/030 | Loss 0.0027 | Win/lose count 5.6/19.7 (-14.1)\n",
            "Epoch 026/030 | Loss 0.0040 | Win/lose count 5.2/22.8 (-17.6)\n",
            "Epoch 027/030 | Loss 0.0142 | Win/lose count 10.8/31.4 (-20.6)\n",
            "Epoch 028/030 | Loss 0.0063 | Win/lose count 2.8/24.4 (-21.6)\n",
            "Epoch 029/030 | Loss 0.0048 | Win/lose count 4.0/22.1 (-18.1)\n",
            "Epoch 030/030 | Loss 0.0110 | Win/lose count 8.8/21.9 (-13.1)\n"
          ],
          "name": "stdout"
        },
        {
          "output_type": "execute_result",
          "data": {
            "text/html": [
              "<video alt=\"test\" controls>\n",
              "                <source src=\"data:video/mp4;base64,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\" type=\"video/mp4\" />\n",
              "             </video>"
            ],
            "text/plain": [
              "<IPython.core.display.HTML object>"
            ]
          },
          "metadata": {
            "tags": []
          },
          "execution_count": 26
        }
      ]
    },
    {
      "cell_type": "code",
      "metadata": {
        "id": "SfSDSOxunIe0",
        "colab_type": "code",
        "outputId": "1860c068-d6f7-43d2-86ee-cc39bf27b64e",
        "colab": {
          "base_uri": "https://localhost:8080/",
          "height": 814
        }
      },
      "source": [
        "# Evaluation\n",
        "test(agent,env,epochs_test,prefix='cnn_test_explore')\n",
        "HTML(display_videos('cnn_test_explore10.mp4'))"
      ],
      "execution_count": 0,
      "outputs": [
        {
          "output_type": "stream",
          "text": [
            "Win/lose count 1.0/0. Average score (1.0)\n",
            "Win/lose count 5.5/2.0. Average score (2.25)\n",
            "Win/lose count 5.5/0. Average score (3.3333333333333335)\n",
            "Win/lose count 7.5/2.0. Average score (3.875)\n",
            "Win/lose count 4.5/0. Average score (4.0)\n",
            "Win/lose count 2.5/2.0. Average score (3.4166666666666665)\n",
            "Win/lose count 8.5/1.0. Average score (4.0)\n",
            "Win/lose count 2.5/0. Average score (3.8125)\n",
            "Win/lose count 6.0/0. Average score (4.055555555555555)\n",
            "Win/lose count 6.0/1.0. Average score (4.15)\n",
            "Win/lose count 1.5/0. Average score (3.909090909090909)\n",
            "Win/lose count 7.0/1.0. Average score (4.083333333333333)\n",
            "Win/lose count 11.5/2.0. Average score (4.5)\n",
            "Win/lose count 2.0/0. Average score (4.321428571428571)\n",
            "Win/lose count 6.0/1.0. Average score (4.366666666666666)\n",
            "Win/lose count 13.5/2.0. Average score (4.8125)\n",
            "Win/lose count 1.0/0. Average score (4.588235294117647)\n",
            "Win/lose count 5.5/2.0. Average score (4.527777777777778)\n",
            "Win/lose count 6.5/0. Average score (4.631578947368421)\n",
            "Win/lose count 1.0/0. Average score (4.45)\n",
            "Win/lose count 4.5/1.0. Average score (4.404761904761905)\n",
            "Win/lose count 7.5/0. Average score (4.545454545454546)\n",
            "Win/lose count 7.0/1.0. Average score (4.608695652173913)\n",
            "Win/lose count 1.5/0. Average score (4.479166666666667)\n",
            "Win/lose count 6.5/0. Average score (4.56)\n",
            "Win/lose count 4.0/2.0. Average score (4.461538461538462)\n",
            "Win/lose count 6.0/1.0. Average score (4.481481481481482)\n",
            "Win/lose count 1.0/1.0. Average score (4.321428571428571)\n",
            "Win/lose count 4.0/0. Average score (4.310344827586207)\n",
            "Win/lose count 7.0/1.0. Average score (4.366666666666666)\n",
            "Final score: 4.366666666666666\n"
          ],
          "name": "stdout"
        },
        {
          "output_type": "execute_result",
          "data": {
            "text/html": [
              "<video alt=\"test\" controls>\n",
              "                <source src=\"data:video/mp4;base64,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\" type=\"video/mp4\" />\n",
              "             </video>"
            ],
            "text/plain": [
              "<IPython.core.display.HTML object>"
            ]
          },
          "metadata": {
            "tags": []
          },
          "execution_count": 27
        }
      ]
    },
    {
      "cell_type": "markdown",
      "metadata": {
        "id": "yUkSGpqMnIe4",
        "colab_type": "text"
      },
      "source": [
        "Using the two proposed modifications for the traning helped increase exploration of the environment, and thus led to improving the rewards collected (From 1 on average to 4 on average). But what is weird here is that it seems that it does not learn in the training phase (negative rewards always) and I expected more average reward in the test phase."
      ]
    },
    {
      "cell_type": "markdown",
      "metadata": {
        "id": "_g4-Svz7nIe5",
        "colab_type": "text"
      },
      "source": [
        "***\n",
        "***\n",
        "__BONUS question__ Use the expert DQN from the previous question to generate some winning games. Train a model that mimicks its behavior. Compare the performances."
      ]
    },
    {
      "cell_type": "markdown",
      "metadata": {
        "id": "zu-H2oh-nIe6",
        "colab_type": "text"
      },
      "source": [
        ""
      ]
    },
    {
      "cell_type": "markdown",
      "metadata": {
        "id": "GhU5FwUpnIe8",
        "colab_type": "text"
      },
      "source": [
        "***"
      ]
    },
    {
      "cell_type": "code",
      "metadata": {
        "id": "BOfNXTacnbHM",
        "colab_type": "code",
        "colab": {}
      },
      "source": [
        ""
      ],
      "execution_count": 0,
      "outputs": []
    }
  ]
}