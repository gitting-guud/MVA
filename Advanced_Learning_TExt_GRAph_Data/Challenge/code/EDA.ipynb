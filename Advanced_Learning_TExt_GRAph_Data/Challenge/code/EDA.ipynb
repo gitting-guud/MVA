{
 "cells": [
  {
   "cell_type": "markdown",
   "metadata": {
    "toc": true
   },
   "source": [
    "<h1>Table of Contents<span class=\"tocSkip\"></span></h1>\n",
    "<div class=\"toc\"><ul class=\"toc-item\"><li><span><a href=\"#Reading-the-data\" data-toc-modified-id=\"Reading-the-data-1\"><span class=\"toc-item-num\">1&nbsp;&nbsp;</span>Reading the data</a></span></li><li><span><a href=\"#Processing-the-data\" data-toc-modified-id=\"Processing-the-data-2\"><span class=\"toc-item-num\">2&nbsp;&nbsp;</span>Processing the data</a></span></li><li><span><a href=\"#Splitting-the-data--:-local-holdout-test-set\" data-toc-modified-id=\"Splitting-the-data--:-local-holdout-test-set-3\"><span class=\"toc-item-num\">3&nbsp;&nbsp;</span>Splitting the data  : local holdout test set</a></span></li><li><span><a href=\"#Data-analysis\" data-toc-modified-id=\"Data-analysis-4\"><span class=\"toc-item-num\">4&nbsp;&nbsp;</span>Data analysis</a></span><ul class=\"toc-item\"><li><span><a href=\"#word-frequencies\" data-toc-modified-id=\"word-frequencies-4.1\"><span class=\"toc-item-num\">4.1&nbsp;&nbsp;</span>word frequencies</a></span></li><li><span><a href=\"#sentence-frequencies\" data-toc-modified-id=\"sentence-frequencies-4.2\"><span class=\"toc-item-num\">4.2&nbsp;&nbsp;</span>sentence frequencies</a></span></li><li><span><a href=\"#hyperlinks-analysis\" data-toc-modified-id=\"hyperlinks-analysis-4.3\"><span class=\"toc-item-num\">4.3&nbsp;&nbsp;</span>hyperlinks analysis</a></span></li><li><span><a href=\"#&quot;Pure&quot;-nodes-to-include-in-training\" data-toc-modified-id=\"&quot;Pure&quot;-nodes-to-include-in-training-4.4\"><span class=\"toc-item-num\">4.4&nbsp;&nbsp;</span>\"Pure\" nodes to include in training</a></span></li></ul></li><li><span><a href=\"#Check-vocabulary-coverage\" data-toc-modified-id=\"Check-vocabulary-coverage-5\"><span class=\"toc-item-num\">5&nbsp;&nbsp;</span>Check vocabulary coverage</a></span></li><li><span><a href=\"#Trying-CamemBERT\" data-toc-modified-id=\"Trying-CamemBERT-6\"><span class=\"toc-item-num\">6&nbsp;&nbsp;</span>Trying CamemBERT</a></span><ul class=\"toc-item\"><li><span><a href=\"#Concatenate-SVD-reducted-tfidf-with-approach-3\" data-toc-modified-id=\"Concatenate-SVD-reducted-tfidf-with-approach-3-6.1\"><span class=\"toc-item-num\">6.1&nbsp;&nbsp;</span>Concatenate SVD reducted tfidf with approach 3</a></span><ul class=\"toc-item\"><li><span><a href=\"#LogReg\" data-toc-modified-id=\"LogReg-6.1.1\"><span class=\"toc-item-num\">6.1.1&nbsp;&nbsp;</span>LogReg</a></span></li><li><span><a href=\"#SVM\" data-toc-modified-id=\"SVM-6.1.2\"><span class=\"toc-item-num\">6.1.2&nbsp;&nbsp;</span>SVM</a></span></li><li><span><a href=\"#SVD-reducted-concatenated-matrix-from-6.1\" data-toc-modified-id=\"SVD-reducted-concatenated-matrix-from-6.1-6.1.3\"><span class=\"toc-item-num\">6.1.3&nbsp;&nbsp;</span>SVD reducted concatenated matrix from 6.1</a></span><ul class=\"toc-item\"><li><span><a href=\"#LogReg\" data-toc-modified-id=\"LogReg-6.1.3.1\"><span class=\"toc-item-num\">6.1.3.1&nbsp;&nbsp;</span>LogReg</a></span></li><li><span><a href=\"#SVM\" data-toc-modified-id=\"SVM-6.1.3.2\"><span class=\"toc-item-num\">6.1.3.2&nbsp;&nbsp;</span>SVM</a></span></li></ul></li><li><span><a href=\"#Concatenate-just-ater-tfidf-then-apply-SVD\" data-toc-modified-id=\"Concatenate-just-ater-tfidf-then-apply-SVD-6.1.4\"><span class=\"toc-item-num\">6.1.4&nbsp;&nbsp;</span>Concatenate just ater tfidf then apply SVD</a></span></li></ul></li><li><span><a href=\"#Approach-3-with-SVM\" data-toc-modified-id=\"Approach-3-with-SVM-6.2\"><span class=\"toc-item-num\">6.2&nbsp;&nbsp;</span>Approach 3 with SVM</a></span></li><li><span><a href=\"#Approach-3\" data-toc-modified-id=\"Approach-3-6.3\"><span class=\"toc-item-num\">6.3&nbsp;&nbsp;</span>Approach 3</a></span></li><li><span><a href=\"#Approach-2\" data-toc-modified-id=\"Approach-2-6.4\"><span class=\"toc-item-num\">6.4&nbsp;&nbsp;</span>Approach 2</a></span></li><li><span><a href=\"#Approach-1-:\" data-toc-modified-id=\"Approach-1-:-6.5\"><span class=\"toc-item-num\">6.5&nbsp;&nbsp;</span>Approach 1 :</a></span></li></ul></li><li><span><a href=\"#Trying-tfidf\" data-toc-modified-id=\"Trying-tfidf-7\"><span class=\"toc-item-num\">7&nbsp;&nbsp;</span>Trying tfidf</a></span><ul class=\"toc-item\"><li><span><a href=\"#SVM\" data-toc-modified-id=\"SVM-7.1\"><span class=\"toc-item-num\">7.1&nbsp;&nbsp;</span>SVM</a></span></li><li><span><a href=\"#LogReg\" data-toc-modified-id=\"LogReg-7.2\"><span class=\"toc-item-num\">7.2&nbsp;&nbsp;</span>LogReg</a></span></li><li><span><a href=\"#SVD-+-SVM\" data-toc-modified-id=\"SVD-+-SVM-7.3\"><span class=\"toc-item-num\">7.3&nbsp;&nbsp;</span>SVD + SVM</a></span><ul class=\"toc-item\"><li><span><a href=\"#Approach-1-:\" data-toc-modified-id=\"Approach-1-:-7.3.1\"><span class=\"toc-item-num\">7.3.1&nbsp;&nbsp;</span>Approach 1 :</a></span></li><li><span><a href=\"#Approach-5\" data-toc-modified-id=\"Approach-5-7.3.2\"><span class=\"toc-item-num\">7.3.2&nbsp;&nbsp;</span>Approach 5</a></span></li><li><span><a href=\"#Approach-4\" data-toc-modified-id=\"Approach-4-7.3.3\"><span class=\"toc-item-num\">7.3.3&nbsp;&nbsp;</span>Approach 4</a></span></li><li><span><a href=\"#Approach-3-:\" data-toc-modified-id=\"Approach-3-:-7.3.4\"><span class=\"toc-item-num\">7.3.4&nbsp;&nbsp;</span>Approach 3 :</a></span></li><li><span><a href=\"#Approach-2-:\" data-toc-modified-id=\"Approach-2-:-7.3.5\"><span class=\"toc-item-num\">7.3.5&nbsp;&nbsp;</span>Approach 2 :</a></span></li></ul></li><li><span><a href=\"#SVD-+-LogReg\" data-toc-modified-id=\"SVD-+-LogReg-7.4\"><span class=\"toc-item-num\">7.4&nbsp;&nbsp;</span>SVD + LogReg</a></span></li><li><span><a href=\"#SVD-+-NN-classifier\" data-toc-modified-id=\"SVD-+-NN-classifier-7.5\"><span class=\"toc-item-num\">7.5&nbsp;&nbsp;</span>SVD + NN classifier</a></span></li></ul></li><li><span><a href=\"#Tfidf-features-+-GNN\" data-toc-modified-id=\"Tfidf-features-+-GNN-8\"><span class=\"toc-item-num\">8&nbsp;&nbsp;</span>Tfidf features + GNN</a></span></li><li><span><a href=\"#Trying-a-bi-LSTM\" data-toc-modified-id=\"Trying-a-bi-LSTM-9\"><span class=\"toc-item-num\">9&nbsp;&nbsp;</span>Trying a bi-LSTM</a></span></li><li><span><a href=\"#Analysis-of-the-predictions\" data-toc-modified-id=\"Analysis-of-the-predictions-10\"><span class=\"toc-item-num\">10&nbsp;&nbsp;</span>Analysis of the predictions</a></span></li></ul></div>"
   ]
  },
  {
   "cell_type": "code",
   "execution_count": 1,
   "metadata": {},
   "outputs": [],
   "source": [
    "from utils.utils import *\n",
    "from Preprocessing.preprocessing_text import *\n",
    "from feature_extractor.build_features import *\n",
    "from models.models import *\n",
    "\n",
    "\n",
    "import matplotlib.pyplot as plt\n",
    "import pandas as pd\n",
    "\n",
    "%load_ext autoreload\n",
    "%autoreload 2"
   ]
  },
  {
   "cell_type": "code",
   "execution_count": 2,
   "metadata": {},
   "outputs": [],
   "source": [
    "import time\n",
    "\n",
    "from ast import literal_eval\n",
    "from collections import Counter\n",
    "from collections import OrderedDict\n",
    "from sklearn.linear_model import LogisticRegression\n",
    "from sklearn.svm import SVC\n",
    "\n",
    "from sklearn.decomposition import TruncatedSVD\n",
    "\n",
    "from sklearn.model_selection import GridSearchCV\n",
    "from sklearn.metrics import make_scorer"
   ]
  },
  {
   "cell_type": "code",
   "execution_count": 3,
   "metadata": {},
   "outputs": [],
   "source": [
    "import torch.nn.functional as F\n",
    "import torch\n",
    "import torch.optim as optim"
   ]
  },
  {
   "cell_type": "markdown",
   "metadata": {},
   "source": [
    "# Reading the data"
   ]
  },
  {
   "cell_type": "code",
   "execution_count": 4,
   "metadata": {},
   "outputs": [],
   "source": [
    "train_path = \"./data/train_noduplicates.csv\" \n",
    "test_path = \"./data/test.csv\"\n",
    "\n",
    "train_hosts, test_hosts = build_train_test(train_path, test_path)"
   ]
  },
  {
   "cell_type": "code",
   "execution_count": 132,
   "metadata": {},
   "outputs": [],
   "source": [
    "# train_hosts['text'] = train_hosts[\"index\"].apply(text_from_id)\n",
    "# train_hosts[\"class_codes\"] = pd.Categorical(train_hosts[\"class\"]).codes\n",
    "# train_hosts.to_csv(\"train_hosts_UPLOAD_DRIVE.csv\")"
   ]
  },
  {
   "cell_type": "code",
   "execution_count": 4,
   "metadata": {},
   "outputs": [],
   "source": [
    "# test_hosts['text'] = test_hosts[\"index\"].apply(text_from_id)\n",
    "# test_hosts.to_csv(\"test_hosts_UPLOAD_DRIVE.csv\")"
   ]
  },
  {
   "cell_type": "code",
   "execution_count": 5,
   "metadata": {},
   "outputs": [],
   "source": [
    "train_hosts = pd.read_csv(\"train_hosts_UPLOAD_DRIVE.csv\", index_col=0)\n",
    "train_hosts.text = train_hosts.text.apply(literal_eval)\n",
    "\n",
    "test_hosts = pd.read_csv(\"test_hosts_UPLOAD_DRIVE.csv\", index_col=0)\n",
    "test_hosts.text = test_hosts.text.apply(literal_eval)"
   ]
  },
  {
   "cell_type": "code",
   "execution_count": 6,
   "metadata": {},
   "outputs": [
    {
     "data": {
      "text/html": [
       "<div>\n",
       "<style scoped>\n",
       "    .dataframe tbody tr th:only-of-type {\n",
       "        vertical-align: middle;\n",
       "    }\n",
       "\n",
       "    .dataframe tbody tr th {\n",
       "        vertical-align: top;\n",
       "    }\n",
       "\n",
       "    .dataframe thead th {\n",
       "        text-align: right;\n",
       "    }\n",
       "</style>\n",
       "<table border=\"1\" class=\"dataframe\">\n",
       "  <thead>\n",
       "    <tr style=\"text-align: right;\">\n",
       "      <th></th>\n",
       "      <th>index</th>\n",
       "      <th>class</th>\n",
       "      <th>text</th>\n",
       "      <th>class_codes</th>\n",
       "    </tr>\n",
       "  </thead>\n",
       "  <tbody>\n",
       "    <tr>\n",
       "      <th>0</th>\n",
       "      <td>9032</td>\n",
       "      <td>health/medical</td>\n",
       "      <td>[   #Polepharma » Flux Polepharma » Flux des c...</td>\n",
       "      <td>3</td>\n",
       "    </tr>\n",
       "    <tr>\n",
       "      <th>1</th>\n",
       "      <td>5346</td>\n",
       "      <td>entertainment</td>\n",
       "      <td>[                            301 Moved Permane...</td>\n",
       "      <td>2</td>\n",
       "    </tr>\n",
       "    <tr>\n",
       "      <th>2</th>\n",
       "      <td>18778</td>\n",
       "      <td>entertainment</td>\n",
       "      <td>[   (BUTTON) Fermer\\n, \\n,    En poursuivant v...</td>\n",
       "      <td>2</td>\n",
       "    </tr>\n",
       "    <tr>\n",
       "      <th>3</th>\n",
       "      <td>11939</td>\n",
       "      <td>education/research</td>\n",
       "      <td>[   #HAL\\n, \\n,    (BUTTON) Toggle navigation\\...</td>\n",
       "      <td>1</td>\n",
       "    </tr>\n",
       "    <tr>\n",
       "      <th>4</th>\n",
       "      <td>17502</td>\n",
       "      <td>tech/science</td>\n",
       "      <td>[   User-Agent: * Disallow: Disallow: /publish...</td>\n",
       "      <td>7</td>\n",
       "    </tr>\n",
       "  </tbody>\n",
       "</table>\n",
       "</div>"
      ],
      "text/plain": [
       "   index               class  \\\n",
       "0   9032      health/medical   \n",
       "1   5346       entertainment   \n",
       "2  18778       entertainment   \n",
       "3  11939  education/research   \n",
       "4  17502        tech/science   \n",
       "\n",
       "                                                text  class_codes  \n",
       "0  [   #Polepharma » Flux Polepharma » Flux des c...            3  \n",
       "1  [                            301 Moved Permane...            2  \n",
       "2  [   (BUTTON) Fermer\\n, \\n,    En poursuivant v...            2  \n",
       "3  [   #HAL\\n, \\n,    (BUTTON) Toggle navigation\\...            1  \n",
       "4  [   User-Agent: * Disallow: Disallow: /publish...            7  "
      ]
     },
     "execution_count": 6,
     "metadata": {},
     "output_type": "execute_result"
    }
   ],
   "source": [
    "train_hosts.head()"
   ]
  },
  {
   "cell_type": "markdown",
   "metadata": {},
   "source": [
    "# Processing the data"
   ]
  },
  {
   "cell_type": "code",
   "execution_count": 9,
   "metadata": {},
   "outputs": [],
   "source": [
    "start_fraction = 0\n",
    "end_fraction = 1"
   ]
  },
  {
   "cell_type": "code",
   "execution_count": 10,
   "metadata": {
    "code_folding": [
     0
    ]
   },
   "outputs": [],
   "source": [
    "def whole_preprocessing(id, \n",
    "                        start_fraction=start_fraction, \n",
    "                        end_fraction= end_fraction):\n",
    "    \n",
    "    list_text = text_from_id(id)\n",
    "    list_text = process_text(list_text, start_fraction, end_fraction)\n",
    "    text = join_with_SEP(list_text)\n",
    "    series_text = pd.Series([text])\n",
    "    series_text = replace_by_special_token(series_text)\n",
    "    series_text = punctuation_by_space(series_text)\n",
    "    series_text = series_text.apply(remove_stop_words)\n",
    "    series_text = series_text.apply(split_by_SEP)\n",
    "    series_text = series_text.apply(remove_empty_rows)\n",
    "    series_text = series_text.apply(remove_single_characters)\n",
    "    series_text = series_text.apply(lambda x : list(OrderedDict.fromkeys(x)))\n",
    "    \n",
    "    return series_text.iloc[0]"
   ]
  },
  {
   "cell_type": "code",
   "execution_count": 11,
   "metadata": {},
   "outputs": [],
   "source": [
    "train_hosts[\"text_processed\"] = train_hosts.text.apply(process_text, args=(start_fraction, end_fraction,))\n",
    "train_hosts[\"text_processed\"] = train_hosts.text_processed.apply(join_with_SEP)\n",
    "train_hosts[\"text_processed\"] = replace_by_special_token(train_hosts[\"text_processed\"])\n",
    "train_hosts[\"text_processed\"] = punctuation_by_space(train_hosts[\"text_processed\"])\n",
    "train_hosts[\"text_processed\"] = train_hosts.text_processed.apply(remove_stop_words)\n",
    "train_hosts[\"text_processed\"] = train_hosts.text_processed.apply(split_by_SEP)\n",
    "train_hosts[\"text_processed\"] = train_hosts.text_processed.apply(remove_empty_rows)\n",
    "train_hosts[\"text_processed\"] = train_hosts.text_processed.apply(remove_single_characters)"
   ]
  },
  {
   "cell_type": "code",
   "execution_count": 12,
   "metadata": {},
   "outputs": [],
   "source": [
    "train_hosts[\"text_processed_no_single_words\"] = train_hosts.text_processed.apply(remove_single_word_rows)\n",
    "train_hosts[\"text_processed_no_dupl\"] = train_hosts.text_processed.apply(lambda x : list(OrderedDict.fromkeys(x)))"
   ]
  },
  {
   "cell_type": "code",
   "execution_count": 13,
   "metadata": {},
   "outputs": [],
   "source": [
    "dico = dict()\n",
    "for cla in train_hosts[\"class\"].unique() :\n",
    "    dico[cla] = Counter(dict())\n",
    "    df = train_hosts[train_hosts[\"class\"] == cla]\n",
    "    for i in range(df.shape[0]) :\n",
    "        dico[cla] += Counter(df.text_processed_no_dupl.iloc[i])\n",
    "    dico[cla] = dict(dico[cla])\n",
    "    dico[cla] = {k: v * df.shape[0]/train_hosts.shape[0] for k, v in dico[cla].items()}\n",
    "    dico[cla] = {k: v for k, v in sorted(dico[cla].items(), reverse=True, key=lambda item: item[1])}\n",
    "\n",
    "counter = Counter({})\n",
    "for cla in train_hosts[\"class\"].unique():\n",
    "    counter+= Counter(dico[cla])\n",
    "counter = {k: v for k, v in sorted(counter.items(), reverse=True, key=lambda item: item[1])}\n",
    "\n",
    "introduced_tokens = [\"date\", \"prix\", \"heure\"]\n",
    "L = [k for k, v in counter.items() if v > 100]\n",
    "for tok in introduced_tokens :\n",
    "    if tok in L :\n",
    "        L.remove(tok)\n",
    "        \n",
    "train_hosts[\"text_processed_2\"] = train_hosts.text_processed_no_dupl.apply(filtering_most_repetitive_rows, args=(L,))\n"
   ]
  },
  {
   "cell_type": "code",
   "execution_count": 14,
   "metadata": {},
   "outputs": [],
   "source": [
    "test_hosts[\"text_processed\"] = test_hosts.text.apply(process_text, args=(start_fraction, end_fraction,)) \n",
    "test_hosts[\"text_processed\"] = test_hosts.text_processed.apply(join_with_SEP)\n",
    "test_hosts[\"text_processed\"] = replace_by_special_token(test_hosts[\"text_processed\"])\n",
    "test_hosts[\"text_processed\"] = punctuation_by_space(test_hosts[\"text_processed\"])\n",
    "test_hosts[\"text_processed\"] = test_hosts.text_processed.apply(remove_stop_words)\n",
    "test_hosts[\"text_processed\"] = test_hosts.text_processed.apply(split_by_SEP)\n",
    "test_hosts[\"text_processed\"] = test_hosts.text_processed.apply(remove_empty_rows)\n",
    "test_hosts[\"text_processed\"] = test_hosts.text_processed.apply(remove_single_characters)\n",
    "test_hosts[\"text_processed_no_single_words\"] = test_hosts.text_processed.apply(remove_single_word_rows)\n",
    "test_hosts[\"text_processed_no_dupl\"] = test_hosts.text_processed.apply(lambda x : list(OrderedDict.fromkeys(x)))\n",
    "test_hosts[\"text_processed_2\"] = test_hosts.text_processed_no_dupl.apply(filtering_most_repetitive_rows, args=(L,))"
   ]
  },
  {
   "cell_type": "code",
   "execution_count": 61,
   "metadata": {},
   "outputs": [
    {
     "data": {
      "text/html": [
       "<div>\n",
       "<style scoped>\n",
       "    .dataframe tbody tr th:only-of-type {\n",
       "        vertical-align: middle;\n",
       "    }\n",
       "\n",
       "    .dataframe tbody tr th {\n",
       "        vertical-align: top;\n",
       "    }\n",
       "\n",
       "    .dataframe thead th {\n",
       "        text-align: right;\n",
       "    }\n",
       "</style>\n",
       "<table border=\"1\" class=\"dataframe\">\n",
       "  <thead>\n",
       "    <tr style=\"text-align: right;\">\n",
       "      <th></th>\n",
       "      <th>index</th>\n",
       "      <th>class</th>\n",
       "      <th>text</th>\n",
       "      <th>class_codes</th>\n",
       "      <th>text_processed</th>\n",
       "      <th>text_processed_no_single_words</th>\n",
       "      <th>text_processed_no_dupl</th>\n",
       "    </tr>\n",
       "  </thead>\n",
       "  <tbody>\n",
       "    <tr>\n",
       "      <th>0</th>\n",
       "      <td>9032</td>\n",
       "      <td>health/medical</td>\n",
       "      <td>[   #Polepharma » Flux Polepharma » Flux des c...</td>\n",
       "      <td>3</td>\n",
       "      <td>[polepharma, polepharma, polepharma, organigra...</td>\n",
       "      <td>[chiffres cles, region centre val loire, regio...</td>\n",
       "      <td>[polepharma, organigramme, chiffres cles, rese...</td>\n",
       "    </tr>\n",
       "    <tr>\n",
       "      <th>1</th>\n",
       "      <td>5346</td>\n",
       "      <td>entertainment</td>\n",
       "      <td>[                            301 Moved Permane...</td>\n",
       "      <td>2</td>\n",
       "      <td>[301 moved permanently, nginx, 301 moved perma...</td>\n",
       "      <td>[301 moved permanently, 301 moved permanently,...</td>\n",
       "      <td>[301 moved permanently, nginx]</td>\n",
       "    </tr>\n",
       "    <tr>\n",
       "      <th>2</th>\n",
       "      <td>18778</td>\n",
       "      <td>entertainment</td>\n",
       "      <td>[   (BUTTON) Fermer\\n, \\n,    En poursuivant v...</td>\n",
       "      <td>2</td>\n",
       "      <td>[poursuivant navigation sans modifier parametr...</td>\n",
       "      <td>[poursuivant navigation sans modifier parametr...</td>\n",
       "      <td>[poursuivant navigation sans modifier parametr...</td>\n",
       "    </tr>\n",
       "    <tr>\n",
       "      <th>3</th>\n",
       "      <td>11939</td>\n",
       "      <td>education/research</td>\n",
       "      <td>[   #HAL\\n, \\n,    (BUTTON) Toggle navigation\\...</td>\n",
       "      <td>1</td>\n",
       "      <td>[hal, ccsd, hal, hal, halshs, medihal, liste p...</td>\n",
       "      <td>[liste portails, episciences org, episciences ...</td>\n",
       "      <td>[hal, ccsd, halshs, medihal, liste portails, a...</td>\n",
       "    </tr>\n",
       "    <tr>\n",
       "      <th>4</th>\n",
       "      <td>17502</td>\n",
       "      <td>tech/science</td>\n",
       "      <td>[   User-Agent: * Disallow: Disallow: /publish...</td>\n",
       "      <td>7</td>\n",
       "      <td>[user agent disallow disallow publishers user ...</td>\n",
       "      <td>[user agent disallow disallow publishers user ...</td>\n",
       "      <td>[user agent disallow disallow publishers user ...</td>\n",
       "    </tr>\n",
       "  </tbody>\n",
       "</table>\n",
       "</div>"
      ],
      "text/plain": [
       "   index               class  \\\n",
       "0   9032      health/medical   \n",
       "1   5346       entertainment   \n",
       "2  18778       entertainment   \n",
       "3  11939  education/research   \n",
       "4  17502        tech/science   \n",
       "\n",
       "                                                text  class_codes  \\\n",
       "0  [   #Polepharma » Flux Polepharma » Flux des c...            3   \n",
       "1  [                            301 Moved Permane...            2   \n",
       "2  [   (BUTTON) Fermer\\n, \\n,    En poursuivant v...            2   \n",
       "3  [   #HAL\\n, \\n,    (BUTTON) Toggle navigation\\...            1   \n",
       "4  [   User-Agent: * Disallow: Disallow: /publish...            7   \n",
       "\n",
       "                                      text_processed  \\\n",
       "0  [polepharma, polepharma, polepharma, organigra...   \n",
       "1  [301 moved permanently, nginx, 301 moved perma...   \n",
       "2  [poursuivant navigation sans modifier parametr...   \n",
       "3  [hal, ccsd, hal, hal, halshs, medihal, liste p...   \n",
       "4  [user agent disallow disallow publishers user ...   \n",
       "\n",
       "                      text_processed_no_single_words  \\\n",
       "0  [chiffres cles, region centre val loire, regio...   \n",
       "1  [301 moved permanently, 301 moved permanently,...   \n",
       "2  [poursuivant navigation sans modifier parametr...   \n",
       "3  [liste portails, episciences org, episciences ...   \n",
       "4  [user agent disallow disallow publishers user ...   \n",
       "\n",
       "                              text_processed_no_dupl  \n",
       "0  [polepharma, organigramme, chiffres cles, rese...  \n",
       "1                     [301 moved permanently, nginx]  \n",
       "2  [poursuivant navigation sans modifier parametr...  \n",
       "3  [hal, ccsd, halshs, medihal, liste portails, a...  \n",
       "4  [user agent disallow disallow publishers user ...  "
      ]
     },
     "execution_count": 61,
     "metadata": {},
     "output_type": "execute_result"
    }
   ],
   "source": [
    "train_hosts.head()"
   ]
  },
  {
   "cell_type": "code",
   "execution_count": 24,
   "metadata": {
    "scrolled": true
   },
   "outputs": [],
   "source": [
    "# test_hosts.text_processed_no_single_words.iloc[2]"
   ]
  },
  {
   "cell_type": "code",
   "execution_count": 19,
   "metadata": {},
   "outputs": [],
   "source": [
    "dicc = dict(np.array(train_hosts[[\"class\",\"class_codes\"]].drop_duplicates()))\n",
    "inv_dicc = {v:k for k, v in dicc.items()}\n"
   ]
  },
  {
   "cell_type": "code",
   "execution_count": 20,
   "metadata": {},
   "outputs": [
    {
     "data": {
      "text/plain": [
       "{'health/medical': 3,\n",
       " 'entertainment': 2,\n",
       " 'education/research': 1,\n",
       " 'tech/science': 7,\n",
       " 'politics/government/law': 5,\n",
       " 'news/press': 4,\n",
       " 'sports': 6,\n",
       " 'business/finance': 0}"
      ]
     },
     "execution_count": 20,
     "metadata": {},
     "output_type": "execute_result"
    }
   ],
   "source": [
    "dicc"
   ]
  },
  {
   "cell_type": "markdown",
   "metadata": {},
   "source": [
    "# Splitting the data  : local holdout test set"
   ]
  },
  {
   "cell_type": "code",
   "execution_count": 19,
   "metadata": {},
   "outputs": [],
   "source": [
    "local_train, local_test = train_test_split(train_hosts, random_state=55)"
   ]
  },
  {
   "cell_type": "code",
   "execution_count": 20,
   "metadata": {},
   "outputs": [
    {
     "data": {
      "text/plain": [
       "((1495, 4), (499, 4))"
      ]
     },
     "execution_count": 20,
     "metadata": {},
     "output_type": "execute_result"
    }
   ],
   "source": [
    "local_train.shape, local_test.shape"
   ]
  },
  {
   "cell_type": "markdown",
   "metadata": {},
   "source": [
    "# Data analysis"
   ]
  },
  {
   "cell_type": "code",
   "execution_count": 61,
   "metadata": {},
   "outputs": [
    {
     "data": {
      "image/png": "[encoded data removed]",
      "text/plain": [
       "<Figure size 1080x504 with 1 Axes>"
      ]
     },
     "metadata": {
      "needs_background": "light"
     },
     "output_type": "display_data"
    }
   ],
   "source": [
    "plt.figure(figsize=(15,7))\n",
    "local_train[\"class\"].value_counts().plot(kind='bar');\n",
    "plt.grid()\n",
    "plt.xticks(rotation=45);"
   ]
  },
  {
   "cell_type": "markdown",
   "metadata": {
    "heading_collapsed": true
   },
   "source": [
    "## word frequencies"
   ]
  },
  {
   "cell_type": "code",
   "execution_count": 89,
   "metadata": {
    "hidden": true
   },
   "outputs": [],
   "source": [
    "def counting_tokens(text):\n",
    "    text = \" \".join(text)\n",
    "    tokens = text.split()\n",
    "    return Counter(tokens)"
   ]
  },
  {
   "cell_type": "code",
   "execution_count": 94,
   "metadata": {
    "hidden": true
   },
   "outputs": [],
   "source": [
    "dico = dict()\n",
    "for cla in train_hosts[\"class\"].unique() :\n",
    "    dico[cla] = Counter(dict())\n",
    "    df = local_train[local_train[\"class\"] == cla]\n",
    "    for i in range(df.shape[0]) :\n",
    "        dico[cla] += counting_tokens(df.text_processed_no_single_words.iloc[i])\n",
    "    dico[cla] = dict(dico[cla])\n",
    "    dico[cla] = {k: v for k, v in sorted(dico[cla].items(), reverse=True, key=lambda item: item[1])}"
   ]
  },
  {
   "cell_type": "code",
   "execution_count": 17,
   "metadata": {
    "hidden": true
   },
   "outputs": [],
   "source": [
    "# dico[\"health/medical\"]"
   ]
  },
  {
   "cell_type": "code",
   "execution_count": 16,
   "metadata": {
    "hidden": true
   },
   "outputs": [],
   "source": [
    "# dico[\"education/research\"].keys()"
   ]
  },
  {
   "cell_type": "markdown",
   "metadata": {
    "heading_collapsed": true
   },
   "source": [
    "## sentence frequencies "
   ]
  },
  {
   "cell_type": "code",
   "execution_count": 79,
   "metadata": {
    "hidden": true
   },
   "outputs": [
    {
     "data": {
      "text/html": [
       "<div>\n",
       "<style scoped>\n",
       "    .dataframe tbody tr th:only-of-type {\n",
       "        vertical-align: middle;\n",
       "    }\n",
       "\n",
       "    .dataframe tbody tr th {\n",
       "        vertical-align: top;\n",
       "    }\n",
       "\n",
       "    .dataframe thead th {\n",
       "        text-align: right;\n",
       "    }\n",
       "</style>\n",
       "<table border=\"1\" class=\"dataframe\">\n",
       "  <thead>\n",
       "    <tr style=\"text-align: right;\">\n",
       "      <th></th>\n",
       "      <th>index</th>\n",
       "      <th>class</th>\n",
       "      <th>text</th>\n",
       "      <th>class_codes</th>\n",
       "      <th>text_processed</th>\n",
       "      <th>text_processed_no_single_words</th>\n",
       "      <th>text_processed_no_dupl</th>\n",
       "    </tr>\n",
       "  </thead>\n",
       "  <tbody>\n",
       "    <tr>\n",
       "      <th>0</th>\n",
       "      <td>9032</td>\n",
       "      <td>health/medical</td>\n",
       "      <td>[   #Polepharma » Flux Polepharma » Flux des c...</td>\n",
       "      <td>3</td>\n",
       "      <td>[polepharma, polepharma, polepharma, organigra...</td>\n",
       "      <td>[chiffres cles, region centre val loire, regio...</td>\n",
       "      <td>[polepharma, organigramme, chiffres cles, rese...</td>\n",
       "    </tr>\n",
       "    <tr>\n",
       "      <th>1</th>\n",
       "      <td>5346</td>\n",
       "      <td>entertainment</td>\n",
       "      <td>[                            301 Moved Permane...</td>\n",
       "      <td>2</td>\n",
       "      <td>[301 moved permanently, nginx, 301 moved perma...</td>\n",
       "      <td>[301 moved permanently, 301 moved permanently,...</td>\n",
       "      <td>[301 moved permanently, nginx]</td>\n",
       "    </tr>\n",
       "    <tr>\n",
       "      <th>2</th>\n",
       "      <td>18778</td>\n",
       "      <td>entertainment</td>\n",
       "      <td>[   (BUTTON) Fermer\\n, \\n,    En poursuivant v...</td>\n",
       "      <td>2</td>\n",
       "      <td>[poursuivant navigation sans modifier parametr...</td>\n",
       "      <td>[poursuivant navigation sans modifier parametr...</td>\n",
       "      <td>[poursuivant navigation sans modifier parametr...</td>\n",
       "    </tr>\n",
       "    <tr>\n",
       "      <th>3</th>\n",
       "      <td>11939</td>\n",
       "      <td>education/research</td>\n",
       "      <td>[   #HAL\\n, \\n,    (BUTTON) Toggle navigation\\...</td>\n",
       "      <td>1</td>\n",
       "      <td>[hal, ccsd, hal, hal, halshs, medihal, liste p...</td>\n",
       "      <td>[liste portails, episciences org, episciences ...</td>\n",
       "      <td>[hal, ccsd, halshs, medihal, liste portails, a...</td>\n",
       "    </tr>\n",
       "    <tr>\n",
       "      <th>4</th>\n",
       "      <td>17502</td>\n",
       "      <td>tech/science</td>\n",
       "      <td>[   User-Agent: * Disallow: Disallow: /publish...</td>\n",
       "      <td>7</td>\n",
       "      <td>[user agent disallow disallow publishers user ...</td>\n",
       "      <td>[user agent disallow disallow publishers user ...</td>\n",
       "      <td>[user agent disallow disallow publishers user ...</td>\n",
       "    </tr>\n",
       "  </tbody>\n",
       "</table>\n",
       "</div>"
      ],
      "text/plain": [
       "   index               class  \\\n",
       "0   9032      health/medical   \n",
       "1   5346       entertainment   \n",
       "2  18778       entertainment   \n",
       "3  11939  education/research   \n",
       "4  17502        tech/science   \n",
       "\n",
       "                                                text  class_codes  \\\n",
       "0  [   #Polepharma » Flux Polepharma » Flux des c...            3   \n",
       "1  [                            301 Moved Permane...            2   \n",
       "2  [   (BUTTON) Fermer\\n, \\n,    En poursuivant v...            2   \n",
       "3  [   #HAL\\n, \\n,    (BUTTON) Toggle navigation\\...            1   \n",
       "4  [   User-Agent: * Disallow: Disallow: /publish...            7   \n",
       "\n",
       "                                      text_processed  \\\n",
       "0  [polepharma, polepharma, polepharma, organigra...   \n",
       "1  [301 moved permanently, nginx, 301 moved perma...   \n",
       "2  [poursuivant navigation sans modifier parametr...   \n",
       "3  [hal, ccsd, hal, hal, halshs, medihal, liste p...   \n",
       "4  [user agent disallow disallow publishers user ...   \n",
       "\n",
       "                      text_processed_no_single_words  \\\n",
       "0  [chiffres cles, region centre val loire, regio...   \n",
       "1  [301 moved permanently, 301 moved permanently,...   \n",
       "2  [poursuivant navigation sans modifier parametr...   \n",
       "3  [liste portails, episciences org, episciences ...   \n",
       "4  [user agent disallow disallow publishers user ...   \n",
       "\n",
       "                              text_processed_no_dupl  \n",
       "0  [polepharma, organigramme, chiffres cles, rese...  \n",
       "1                     [301 moved permanently, nginx]  \n",
       "2  [poursuivant navigation sans modifier parametr...  \n",
       "3  [hal, ccsd, halshs, medihal, liste portails, a...  \n",
       "4  [user agent disallow disallow publishers user ...  "
      ]
     },
     "execution_count": 79,
     "metadata": {},
     "output_type": "execute_result"
    }
   ],
   "source": [
    "train_hosts.head()"
   ]
  },
  {
   "cell_type": "code",
   "execution_count": 184,
   "metadata": {
    "hidden": true
   },
   "outputs": [],
   "source": [
    "dico = dict()\n",
    "for cla in train_hosts[\"class\"].unique() :\n",
    "    dico[cla] = Counter(dict())\n",
    "    df = train_hosts[train_hosts[\"class\"] == cla]\n",
    "    for i in range(df.shape[0]) :\n",
    "        dico[cla] += Counter(df.text_processed_no_dupl.iloc[i])\n",
    "#     dico[cla] = dict(dico[cla])\n",
    "    dico[cla] = {k: v * df.shape[0]/train_hosts.shape[0] for k, v in dico[cla].items()}\n",
    "    dico[cla] = {k: v for k, v in sorted(dico[cla].items(), reverse=True, key=lambda item: item[1])}"
   ]
  },
  {
   "cell_type": "markdown",
   "metadata": {
    "hidden": true
   },
   "source": [
    "This way we unveil the sentences that are common to all websites and that we can discard focusing only on the content of each website"
   ]
  },
  {
   "cell_type": "code",
   "execution_count": 186,
   "metadata": {
    "hidden": true
   },
   "outputs": [],
   "source": [
    "counter = Counter({})\n",
    "for cla in train_hosts[\"class\"].unique():\n",
    "    counter+= Counter(dico[cla])\n",
    "counter = {k: v for k, v in sorted(counter.items(), reverse=True, key=lambda item: item[1])}"
   ]
  },
  {
   "cell_type": "code",
   "execution_count": 189,
   "metadata": {
    "hidden": true
   },
   "outputs": [],
   "source": [
    "introduced_tokens = [\"date\", \"prix\", \"heure\"]\n",
    "L = [k for k, v in counter.items() if v > 10]\n",
    "for tok in introduced_tokens :\n",
    "    if tok in L :\n",
    "        L.remove(tok)"
   ]
  },
  {
   "cell_type": "code",
   "execution_count": 190,
   "metadata": {
    "hidden": true
   },
   "outputs": [],
   "source": [
    "train_hosts[\"text_processed_2\"] = train_hosts.text_processed_no_dupl.apply(filtering_most_repetitive_rows, args=(L,))"
   ]
  },
  {
   "cell_type": "code",
   "execution_count": 192,
   "metadata": {
    "hidden": true
   },
   "outputs": [],
   "source": [
    "# train_hosts[\"text_processed_2\"].iloc[50]\n",
    "# train_hosts.iloc[50]"
   ]
  },
  {
   "cell_type": "code",
   "execution_count": 175,
   "metadata": {
    "hidden": true
   },
   "outputs": [],
   "source": [
    "# train_hosts[\"text_processed\"].iloc[50]"
   ]
  },
  {
   "cell_type": "markdown",
   "metadata": {},
   "source": [
    "## hyperlinks analysis"
   ]
  },
  {
   "cell_type": "code",
   "execution_count": 12,
   "metadata": {},
   "outputs": [
    {
     "name": "stdout",
     "output_type": "stream",
     "text": [
      "Number of nodes :  28002\n",
      "Number of edges :  319498\n"
     ]
    }
   ],
   "source": [
    "g = build_graph()"
   ]
  },
  {
   "cell_type": "code",
   "execution_count": 13,
   "metadata": {},
   "outputs": [],
   "source": [
    "g_sub = nx.subgraph(g, train_hosts[\"index\"].astype(str).to_list())"
   ]
  },
  {
   "cell_type": "code",
   "execution_count": 14,
   "metadata": {
    "scrolled": true
   },
   "outputs": [
    {
     "data": {
      "text/plain": [
       "5067"
      ]
     },
     "execution_count": 14,
     "metadata": {},
     "output_type": "execute_result"
    }
   ],
   "source": [
    "g_sub.number_of_edges()"
   ]
  },
  {
   "cell_type": "code",
   "execution_count": 15,
   "metadata": {},
   "outputs": [],
   "source": [
    "dico = {}\n",
    "classes = train_hosts[\"class\"].unique()\n",
    "for cla in classes :\n",
    "    nodes = train_hosts[train_hosts[\"class\"] == cla][\"index\"].astype(str).to_list()\n",
    "    sum_ = 0\n",
    "    for node in nodes :\n",
    "        sum_+=sum(1 for _ in g.neighbors(node))\n",
    "    dico[cla] = sum_"
   ]
  },
  {
   "cell_type": "code",
   "execution_count": 16,
   "metadata": {},
   "outputs": [
    {
     "data": {
      "text/html": [
       "<div>\n",
       "<style scoped>\n",
       "    .dataframe tbody tr th:only-of-type {\n",
       "        vertical-align: middle;\n",
       "    }\n",
       "\n",
       "    .dataframe tbody tr th {\n",
       "        vertical-align: top;\n",
       "    }\n",
       "\n",
       "    .dataframe thead th {\n",
       "        text-align: right;\n",
       "    }\n",
       "</style>\n",
       "<table border=\"1\" class=\"dataframe\">\n",
       "  <thead>\n",
       "    <tr style=\"text-align: right;\">\n",
       "      <th></th>\n",
       "      <th>number of edges</th>\n",
       "    </tr>\n",
       "  </thead>\n",
       "  <tbody>\n",
       "    <tr>\n",
       "      <th>health/medical</th>\n",
       "      <td>1134</td>\n",
       "    </tr>\n",
       "    <tr>\n",
       "      <th>entertainment</th>\n",
       "      <td>10949</td>\n",
       "    </tr>\n",
       "    <tr>\n",
       "      <th>education/research</th>\n",
       "      <td>4325</td>\n",
       "    </tr>\n",
       "    <tr>\n",
       "      <th>tech/science</th>\n",
       "      <td>4162</td>\n",
       "    </tr>\n",
       "    <tr>\n",
       "      <th>politics/government/law</th>\n",
       "      <td>7684</td>\n",
       "    </tr>\n",
       "    <tr>\n",
       "      <th>news/press</th>\n",
       "      <td>3686</td>\n",
       "    </tr>\n",
       "    <tr>\n",
       "      <th>sports</th>\n",
       "      <td>280</td>\n",
       "    </tr>\n",
       "    <tr>\n",
       "      <th>business/finance</th>\n",
       "      <td>8233</td>\n",
       "    </tr>\n",
       "  </tbody>\n",
       "</table>\n",
       "</div>"
      ],
      "text/plain": [
       "                         number of edges\n",
       "health/medical                      1134\n",
       "entertainment                      10949\n",
       "education/research                  4325\n",
       "tech/science                        4162\n",
       "politics/government/law             7684\n",
       "news/press                          3686\n",
       "sports                               280\n",
       "business/finance                    8233"
      ]
     },
     "execution_count": 16,
     "metadata": {},
     "output_type": "execute_result"
    }
   ],
   "source": [
    "pd.DataFrame.from_dict(dico, orient=\"index\",columns=[\"number of edges\"])"
   ]
  },
  {
   "cell_type": "code",
   "execution_count": 416,
   "metadata": {},
   "outputs": [
    {
     "name": "stderr",
     "output_type": "stream",
     "text": [
      "d:\\anaconda\\lib\\site-packages\\ipykernel_launcher.py:12: SettingWithCopyWarning: \n",
      "A value is trying to be set on a copy of a slice from a DataFrame.\n",
      "Try using .loc[row_indexer,col_indexer] = value instead\n",
      "\n",
      "See the caveats in the documentation: http://pandas.pydata.org/pandas-docs/stable/user_guide/indexing.html#returning-a-view-versus-a-copy\n",
      "  if sys.path[0] == '':\n",
      "d:\\anaconda\\lib\\site-packages\\ipykernel_launcher.py:13: SettingWithCopyWarning: \n",
      "A value is trying to be set on a copy of a slice from a DataFrame.\n",
      "Try using .loc[row_indexer,col_indexer] = value instead\n",
      "\n",
      "See the caveats in the documentation: http://pandas.pydata.org/pandas-docs/stable/user_guide/indexing.html#returning-a-view-versus-a-copy\n",
      "  del sys.path[0]\n",
      "d:\\anaconda\\lib\\site-packages\\ipykernel_launcher.py:22: SettingWithCopyWarning: \n",
      "A value is trying to be set on a copy of a slice from a DataFrame.\n",
      "Try using .loc[row_indexer,col_indexer] = value instead\n",
      "\n",
      "See the caveats in the documentation: http://pandas.pydata.org/pandas-docs/stable/user_guide/indexing.html#returning-a-view-versus-a-copy\n",
      "d:\\anaconda\\lib\\site-packages\\ipykernel_launcher.py:24: SettingWithCopyWarning: \n",
      "A value is trying to be set on a copy of a slice from a DataFrame.\n",
      "Try using .loc[row_indexer,col_indexer] = value instead\n",
      "\n",
      "See the caveats in the documentation: http://pandas.pydata.org/pandas-docs/stable/user_guide/indexing.html#returning-a-view-versus-a-copy\n"
     ]
    }
   ],
   "source": [
    "edge_list = pd.read_table(\"./data/edgelist.txt\", delimiter=\" \", header=None).rename(columns={0:\"start_node\",\n",
    "                                                                                             1:\"dest_node\",\n",
    "                                                                                             2:\"weight\"})\n",
    "\n",
    "dicc = dict(np.array(train_hosts[[\"class\",\"class_codes\"]].drop_duplicates()))\n",
    "inv_dicc = {v:k for k, v in dicc.items()}\n",
    "\n",
    "def class_index_train(id) :\n",
    "    return train_hosts[train_hosts[\"index\"] == id][\"class\"].iloc[0]\n",
    "\n",
    "edge_list_train = edge_list[edge_list.dest_node.isin(local_train[\"index\"].to_list())]\n",
    "edge_list_train[\"class_dest_node\"] = edge_list_train.dest_node.apply(class_index_train)\n",
    "edge_list_train[\"class_codes\"] = edge_list_train.class_dest_node.map(dicc)\n",
    "\n",
    "def build_edge_proba_vector(column) :\n",
    "    vector = np.zeros(8)\n",
    "    vector[column] = 1\n",
    "    return vector\n",
    "def to_proba_vector(vec):\n",
    "    vec = np.sum(vec)\n",
    "    return vec / np.sum(vec)\n",
    "edge_list_train[\"vector_probas_edge\"] = edge_list_train.class_codes.apply(build_edge_proba_vector) * edge_list_train.weight\n",
    "dico_vector_probas_start_nodes = edge_list_train.groupby('start_node')['vector_probas_edge'].apply(to_proba_vector).to_dict()\n",
    "edge_list_train[\"vector_probas_edge\"] = edge_list_train.start_node.map(dico_vector_probas_start_nodes)"
   ]
  },
  {
   "cell_type": "markdown",
   "metadata": {},
   "source": [
    "The follow up in in 7.3 Approach 5"
   ]
  },
  {
   "cell_type": "markdown",
   "metadata": {},
   "source": [
    "***"
   ]
  },
  {
   "cell_type": "code",
   "execution_count": 99,
   "metadata": {},
   "outputs": [
    {
     "data": {
      "image/png": "[encoded data removed]",
      "text/plain": [
       "<Figure size 432x288 with 1 Axes>"
      ]
     },
     "metadata": {
      "needs_background": "light"
     },
     "output_type": "display_data"
    }
   ],
   "source": [
    "edge_list_train[edge_list_train.class_codes == 6].weight.hist();"
   ]
  },
  {
   "cell_type": "code",
   "execution_count": 100,
   "metadata": {},
   "outputs": [
    {
     "data": {
      "text/html": [
       "<div>\n",
       "<style scoped>\n",
       "    .dataframe tbody tr th:only-of-type {\n",
       "        vertical-align: middle;\n",
       "    }\n",
       "\n",
       "    .dataframe tbody tr th {\n",
       "        vertical-align: top;\n",
       "    }\n",
       "\n",
       "    .dataframe thead th {\n",
       "        text-align: right;\n",
       "    }\n",
       "</style>\n",
       "<table border=\"1\" class=\"dataframe\">\n",
       "  <thead>\n",
       "    <tr style=\"text-align: right;\">\n",
       "      <th></th>\n",
       "      <th>start_node</th>\n",
       "      <th>dest_node</th>\n",
       "      <th>weight</th>\n",
       "      <th>class_dest_node</th>\n",
       "      <th>class_codes</th>\n",
       "    </tr>\n",
       "  </thead>\n",
       "  <tbody>\n",
       "    <tr>\n",
       "      <th>25</th>\n",
       "      <td>16687</td>\n",
       "      <td>5920</td>\n",
       "      <td>1</td>\n",
       "      <td>health/medical</td>\n",
       "      <td>3</td>\n",
       "    </tr>\n",
       "    <tr>\n",
       "      <th>29</th>\n",
       "      <td>19805</td>\n",
       "      <td>18954</td>\n",
       "      <td>4</td>\n",
       "      <td>health/medical</td>\n",
       "      <td>3</td>\n",
       "    </tr>\n",
       "    <tr>\n",
       "      <th>31</th>\n",
       "      <td>19805</td>\n",
       "      <td>12807</td>\n",
       "      <td>1</td>\n",
       "      <td>health/medical</td>\n",
       "      <td>3</td>\n",
       "    </tr>\n",
       "    <tr>\n",
       "      <th>39</th>\n",
       "      <td>4694</td>\n",
       "      <td>2651</td>\n",
       "      <td>3</td>\n",
       "      <td>news/press</td>\n",
       "      <td>4</td>\n",
       "    </tr>\n",
       "    <tr>\n",
       "      <th>44</th>\n",
       "      <td>4694</td>\n",
       "      <td>19658</td>\n",
       "      <td>1</td>\n",
       "      <td>business/finance</td>\n",
       "      <td>0</td>\n",
       "    </tr>\n",
       "    <tr>\n",
       "      <th>...</th>\n",
       "      <td>...</td>\n",
       "      <td>...</td>\n",
       "      <td>...</td>\n",
       "      <td>...</td>\n",
       "      <td>...</td>\n",
       "    </tr>\n",
       "    <tr>\n",
       "      <th>319479</th>\n",
       "      <td>10964</td>\n",
       "      <td>26227</td>\n",
       "      <td>1</td>\n",
       "      <td>entertainment</td>\n",
       "      <td>2</td>\n",
       "    </tr>\n",
       "    <tr>\n",
       "      <th>319483</th>\n",
       "      <td>10964</td>\n",
       "      <td>7179</td>\n",
       "      <td>1</td>\n",
       "      <td>tech/science</td>\n",
       "      <td>7</td>\n",
       "    </tr>\n",
       "    <tr>\n",
       "      <th>319492</th>\n",
       "      <td>19774</td>\n",
       "      <td>16540</td>\n",
       "      <td>1</td>\n",
       "      <td>politics/government/law</td>\n",
       "      <td>5</td>\n",
       "    </tr>\n",
       "    <tr>\n",
       "      <th>319494</th>\n",
       "      <td>19774</td>\n",
       "      <td>6854</td>\n",
       "      <td>2</td>\n",
       "      <td>entertainment</td>\n",
       "      <td>2</td>\n",
       "    </tr>\n",
       "    <tr>\n",
       "      <th>319495</th>\n",
       "      <td>19774</td>\n",
       "      <td>27619</td>\n",
       "      <td>1</td>\n",
       "      <td>politics/government/law</td>\n",
       "      <td>5</td>\n",
       "    </tr>\n",
       "  </tbody>\n",
       "</table>\n",
       "<p>35167 rows × 5 columns</p>\n",
       "</div>"
      ],
      "text/plain": [
       "        start_node  dest_node  weight          class_dest_node  class_codes\n",
       "25           16687       5920       1           health/medical            3\n",
       "29           19805      18954       4           health/medical            3\n",
       "31           19805      12807       1           health/medical            3\n",
       "39            4694       2651       3               news/press            4\n",
       "44            4694      19658       1         business/finance            0\n",
       "...            ...        ...     ...                      ...          ...\n",
       "319479       10964      26227       1            entertainment            2\n",
       "319483       10964       7179       1             tech/science            7\n",
       "319492       19774      16540       1  politics/government/law            5\n",
       "319494       19774       6854       2            entertainment            2\n",
       "319495       19774      27619       1  politics/government/law            5\n",
       "\n",
       "[35167 rows x 5 columns]"
      ]
     },
     "execution_count": 100,
     "metadata": {},
     "output_type": "execute_result"
    }
   ],
   "source": [
    "edge_list_train"
   ]
  },
  {
   "cell_type": "code",
   "execution_count": null,
   "metadata": {},
   "outputs": [],
   "source": []
  },
  {
   "cell_type": "code",
   "execution_count": null,
   "metadata": {},
   "outputs": [],
   "source": []
  },
  {
   "cell_type": "code",
   "execution_count": null,
   "metadata": {},
   "outputs": [],
   "source": []
  },
  {
   "cell_type": "code",
   "execution_count": null,
   "metadata": {},
   "outputs": [],
   "source": []
  },
  {
   "cell_type": "code",
   "execution_count": null,
   "metadata": {},
   "outputs": [],
   "source": []
  },
  {
   "cell_type": "code",
   "execution_count": null,
   "metadata": {},
   "outputs": [],
   "source": []
  },
  {
   "cell_type": "code",
   "execution_count": null,
   "metadata": {},
   "outputs": [],
   "source": []
  },
  {
   "cell_type": "markdown",
   "metadata": {},
   "source": [
    "## \"Pure\" nodes to include in training "
   ]
  },
  {
   "cell_type": "code",
   "execution_count": 13,
   "metadata": {},
   "outputs": [
    {
     "name": "stderr",
     "output_type": "stream",
     "text": [
      "d:\\anaconda\\lib\\site-packages\\ipykernel_launcher.py:12: SettingWithCopyWarning: \n",
      "A value is trying to be set on a copy of a slice from a DataFrame.\n",
      "Try using .loc[row_indexer,col_indexer] = value instead\n",
      "\n",
      "See the caveats in the documentation: http://pandas.pydata.org/pandas-docs/stable/user_guide/indexing.html#returning-a-view-versus-a-copy\n",
      "  if sys.path[0] == '':\n",
      "d:\\anaconda\\lib\\site-packages\\ipykernel_launcher.py:13: SettingWithCopyWarning: \n",
      "A value is trying to be set on a copy of a slice from a DataFrame.\n",
      "Try using .loc[row_indexer,col_indexer] = value instead\n",
      "\n",
      "See the caveats in the documentation: http://pandas.pydata.org/pandas-docs/stable/user_guide/indexing.html#returning-a-view-versus-a-copy\n",
      "  del sys.path[0]\n"
     ]
    }
   ],
   "source": [
    "edge_list = pd.read_table(\"./data/edgelist.txt\", delimiter=\" \", header=None).rename(columns={0:\"start_node\",\n",
    "                                                                                             1:\"dest_node\",\n",
    "                                                                                             2:\"weight\"})\n",
    "\n",
    "dicc = dict(np.array(train_hosts[[\"class\",\"class_codes\"]].drop_duplicates()))\n",
    "inv_dicc = {v:k for k, v in dicc.items()}\n",
    "\n",
    "def class_index_train(id) :\n",
    "    return train_hosts[train_hosts[\"index\"] == id][\"class\"].iloc[0]\n",
    "\n",
    "edge_list_train = edge_list[edge_list.dest_node.isin(train_hosts[\"index\"].to_list())]\n",
    "edge_list_train[\"class_dest_node\"] = edge_list_train.dest_node.apply(class_index_train)\n",
    "edge_list_train[\"class_codes\"] = edge_list_train.class_dest_node.map(dicc)"
   ]
  },
  {
   "cell_type": "code",
   "execution_count": 16,
   "metadata": {},
   "outputs": [],
   "source": [
    "count_num_classes_pointing_at = edge_list_train.groupby(\"start_node\").agg({\"class_codes\":\"nunique\"}).reset_index()"
   ]
  },
  {
   "cell_type": "code",
   "execution_count": 20,
   "metadata": {},
   "outputs": [],
   "source": [
    "pure_nodes = count_num_classes_pointing_at[count_num_classes_pointing_at.class_codes == 1].start_node"
   ]
  },
  {
   "cell_type": "code",
   "execution_count": 102,
   "metadata": {},
   "outputs": [
    {
     "data": {
      "text/plain": [
       "(270,)"
      ]
     },
     "execution_count": 102,
     "metadata": {},
     "output_type": "execute_result"
    }
   ],
   "source": [
    "threshold = 100\n",
    "\n",
    "strong_pure_nodes = edge_list_train[(edge_list_train.start_node.isin(pure_nodes))\n",
    "                                    & \n",
    "                                    (edge_list_train.weight >= threshold)\n",
    "                                   ].start_node\n",
    "strong_pure_nodes.shape"
   ]
  },
  {
   "cell_type": "code",
   "execution_count": 73,
   "metadata": {},
   "outputs": [],
   "source": [
    "test_nodes_concerned = edge_list[edge_list.dest_node.isin(test_hosts[\"index\"]) & edge_list.start_node.isin(strong_pure_nodes)]"
   ]
  },
  {
   "cell_type": "code",
   "execution_count": 74,
   "metadata": {},
   "outputs": [],
   "source": [
    "df = test_nodes_concerned.groupby(\"dest_node\").agg({\"start_node\":\"nunique\"}).reset_index()"
   ]
  },
  {
   "cell_type": "code",
   "execution_count": 76,
   "metadata": {},
   "outputs": [
    {
     "data": {
      "text/html": [
       "<div>\n",
       "<style scoped>\n",
       "    .dataframe tbody tr th:only-of-type {\n",
       "        vertical-align: middle;\n",
       "    }\n",
       "\n",
       "    .dataframe tbody tr th {\n",
       "        vertical-align: top;\n",
       "    }\n",
       "\n",
       "    .dataframe thead th {\n",
       "        text-align: right;\n",
       "    }\n",
       "</style>\n",
       "<table border=\"1\" class=\"dataframe\">\n",
       "  <thead>\n",
       "    <tr style=\"text-align: right;\">\n",
       "      <th></th>\n",
       "      <th>start_node</th>\n",
       "      <th>dest_node</th>\n",
       "      <th>weight</th>\n",
       "    </tr>\n",
       "  </thead>\n",
       "  <tbody>\n",
       "    <tr>\n",
       "      <th>176432</th>\n",
       "      <td>24002</td>\n",
       "      <td>23497</td>\n",
       "      <td>799</td>\n",
       "    </tr>\n",
       "    <tr>\n",
       "      <th>214677</th>\n",
       "      <td>20328</td>\n",
       "      <td>24838</td>\n",
       "      <td>813</td>\n",
       "    </tr>\n",
       "    <tr>\n",
       "      <th>214698</th>\n",
       "      <td>20328</td>\n",
       "      <td>7360</td>\n",
       "      <td>846</td>\n",
       "    </tr>\n",
       "    <tr>\n",
       "      <th>246395</th>\n",
       "      <td>25158</td>\n",
       "      <td>11923</td>\n",
       "      <td>4410</td>\n",
       "    </tr>\n",
       "    <tr>\n",
       "      <th>246433</th>\n",
       "      <td>25158</td>\n",
       "      <td>27129</td>\n",
       "      <td>12388</td>\n",
       "    </tr>\n",
       "    <tr>\n",
       "      <th>246504</th>\n",
       "      <td>25158</td>\n",
       "      <td>18884</td>\n",
       "      <td>1611</td>\n",
       "    </tr>\n",
       "    <tr>\n",
       "      <th>246516</th>\n",
       "      <td>25158</td>\n",
       "      <td>26342</td>\n",
       "      <td>141</td>\n",
       "    </tr>\n",
       "    <tr>\n",
       "      <th>250806</th>\n",
       "      <td>5348</td>\n",
       "      <td>9508</td>\n",
       "      <td>99</td>\n",
       "    </tr>\n",
       "    <tr>\n",
       "      <th>250914</th>\n",
       "      <td>5348</td>\n",
       "      <td>22854</td>\n",
       "      <td>146</td>\n",
       "    </tr>\n",
       "    <tr>\n",
       "      <th>256301</th>\n",
       "      <td>26002</td>\n",
       "      <td>5484</td>\n",
       "      <td>208</td>\n",
       "    </tr>\n",
       "    <tr>\n",
       "      <th>269630</th>\n",
       "      <td>2193</td>\n",
       "      <td>150</td>\n",
       "      <td>830</td>\n",
       "    </tr>\n",
       "    <tr>\n",
       "      <th>314487</th>\n",
       "      <td>8319</td>\n",
       "      <td>11245</td>\n",
       "      <td>69</td>\n",
       "    </tr>\n",
       "    <tr>\n",
       "      <th>314509</th>\n",
       "      <td>8319</td>\n",
       "      <td>24572</td>\n",
       "      <td>69</td>\n",
       "    </tr>\n",
       "    <tr>\n",
       "      <th>314549</th>\n",
       "      <td>8319</td>\n",
       "      <td>22759</td>\n",
       "      <td>69</td>\n",
       "    </tr>\n",
       "  </tbody>\n",
       "</table>\n",
       "</div>"
      ],
      "text/plain": [
       "        start_node  dest_node  weight\n",
       "176432       24002      23497     799\n",
       "214677       20328      24838     813\n",
       "214698       20328       7360     846\n",
       "246395       25158      11923    4410\n",
       "246433       25158      27129   12388\n",
       "246504       25158      18884    1611\n",
       "246516       25158      26342     141\n",
       "250806        5348       9508      99\n",
       "250914        5348      22854     146\n",
       "256301       26002       5484     208\n",
       "269630        2193        150     830\n",
       "314487        8319      11245      69\n",
       "314509        8319      24572      69\n",
       "314549        8319      22759      69"
      ]
     },
     "execution_count": 76,
     "metadata": {},
     "output_type": "execute_result"
    }
   ],
   "source": [
    "test_nodes_concerned[(test_nodes_concerned.dest_node.isin(df[df.start_node == 1].dest_node.tolist()))\n",
    "                     &\n",
    "                    (test_nodes_concerned.weight >= threshold)]"
   ]
  },
  {
   "cell_type": "code",
   "execution_count": 80,
   "metadata": {},
   "outputs": [
    {
     "data": {
      "text/html": [
       "<div>\n",
       "<style scoped>\n",
       "    .dataframe tbody tr th:only-of-type {\n",
       "        vertical-align: middle;\n",
       "    }\n",
       "\n",
       "    .dataframe tbody tr th {\n",
       "        vertical-align: top;\n",
       "    }\n",
       "\n",
       "    .dataframe thead th {\n",
       "        text-align: right;\n",
       "    }\n",
       "</style>\n",
       "<table border=\"1\" class=\"dataframe\">\n",
       "  <thead>\n",
       "    <tr style=\"text-align: right;\">\n",
       "      <th></th>\n",
       "      <th>start_node</th>\n",
       "      <th>dest_node</th>\n",
       "      <th>weight</th>\n",
       "      <th>class_dest_node</th>\n",
       "      <th>class_codes</th>\n",
       "    </tr>\n",
       "  </thead>\n",
       "  <tbody>\n",
       "    <tr>\n",
       "      <th>176435</th>\n",
       "      <td>24002</td>\n",
       "      <td>15909</td>\n",
       "      <td>943</td>\n",
       "      <td>entertainment</td>\n",
       "      <td>2</td>\n",
       "    </tr>\n",
       "  </tbody>\n",
       "</table>\n",
       "</div>"
      ],
      "text/plain": [
       "        start_node  dest_node  weight class_dest_node  class_codes\n",
       "176435       24002      15909     943   entertainment            2"
      ]
     },
     "execution_count": 80,
     "metadata": {},
     "output_type": "execute_result"
    }
   ],
   "source": [
    "edge_list_train[edge_list_train[\"start_node\"] == 24002]"
   ]
  },
  {
   "cell_type": "code",
   "execution_count": 88,
   "metadata": {
    "scrolled": true
   },
   "outputs": [],
   "source": [
    "# text_from_id(23497)"
   ]
  },
  {
   "cell_type": "code",
   "execution_count": 83,
   "metadata": {},
   "outputs": [],
   "source": [
    "best_preditions = pd.read_csv(\"./outputs/wrap_up_18_HK_Approach3_rawtext.csv\", index_col=0)"
   ]
  },
  {
   "cell_type": "code",
   "execution_count": 87,
   "metadata": {},
   "outputs": [
    {
     "data": {
      "text/html": [
       "<div>\n",
       "<style scoped>\n",
       "    .dataframe tbody tr th:only-of-type {\n",
       "        vertical-align: middle;\n",
       "    }\n",
       "\n",
       "    .dataframe tbody tr th {\n",
       "        vertical-align: top;\n",
       "    }\n",
       "\n",
       "    .dataframe thead th {\n",
       "        text-align: right;\n",
       "    }\n",
       "</style>\n",
       "<table border=\"1\" class=\"dataframe\">\n",
       "  <thead>\n",
       "    <tr style=\"text-align: right;\">\n",
       "      <th></th>\n",
       "      <th>business/finance</th>\n",
       "      <th>education/research</th>\n",
       "      <th>entertainment</th>\n",
       "      <th>health/medical</th>\n",
       "      <th>news/press</th>\n",
       "      <th>politics/government/law</th>\n",
       "      <th>sports</th>\n",
       "      <th>tech/science</th>\n",
       "    </tr>\n",
       "    <tr>\n",
       "      <th>Host</th>\n",
       "      <th></th>\n",
       "      <th></th>\n",
       "      <th></th>\n",
       "      <th></th>\n",
       "      <th></th>\n",
       "      <th></th>\n",
       "      <th></th>\n",
       "      <th></th>\n",
       "    </tr>\n",
       "  </thead>\n",
       "  <tbody>\n",
       "    <tr>\n",
       "      <th>23497</th>\n",
       "      <td>0.506097</td>\n",
       "      <td>0.020354</td>\n",
       "      <td>0.134616</td>\n",
       "      <td>0.102069</td>\n",
       "      <td>0.105705</td>\n",
       "      <td>0.087882</td>\n",
       "      <td>0.009911</td>\n",
       "      <td>0.033367</td>\n",
       "    </tr>\n",
       "  </tbody>\n",
       "</table>\n",
       "</div>"
      ],
      "text/plain": [
       "       business/finance  education/research  entertainment  health/medical  \\\n",
       "Host                                                                         \n",
       "23497          0.506097            0.020354       0.134616        0.102069   \n",
       "\n",
       "       news/press  politics/government/law    sports  tech/science  \n",
       "Host                                                                \n",
       "23497    0.105705                 0.087882  0.009911      0.033367  "
      ]
     },
     "execution_count": 87,
     "metadata": {},
     "output_type": "execute_result"
    }
   ],
   "source": [
    "best_preditions[best_preditions.index == 23497]"
   ]
  },
  {
   "cell_type": "code",
   "execution_count": 109,
   "metadata": {},
   "outputs": [
    {
     "data": {
      "text/html": [
       "<div>\n",
       "<style scoped>\n",
       "    .dataframe tbody tr th:only-of-type {\n",
       "        vertical-align: middle;\n",
       "    }\n",
       "\n",
       "    .dataframe tbody tr th {\n",
       "        vertical-align: top;\n",
       "    }\n",
       "\n",
       "    .dataframe thead th {\n",
       "        text-align: right;\n",
       "    }\n",
       "</style>\n",
       "<table border=\"1\" class=\"dataframe\">\n",
       "  <thead>\n",
       "    <tr style=\"text-align: right;\">\n",
       "      <th></th>\n",
       "      <th>business/finance</th>\n",
       "      <th>education/research</th>\n",
       "      <th>entertainment</th>\n",
       "      <th>health/medical</th>\n",
       "      <th>news/press</th>\n",
       "      <th>politics/government/law</th>\n",
       "      <th>sports</th>\n",
       "      <th>tech/science</th>\n",
       "    </tr>\n",
       "    <tr>\n",
       "      <th>Host</th>\n",
       "      <th></th>\n",
       "      <th></th>\n",
       "      <th></th>\n",
       "      <th></th>\n",
       "      <th></th>\n",
       "      <th></th>\n",
       "      <th></th>\n",
       "      <th></th>\n",
       "    </tr>\n",
       "  </thead>\n",
       "  <tbody>\n",
       "    <tr>\n",
       "      <th>20285</th>\n",
       "      <td>0.026167</td>\n",
       "      <td>0.102075</td>\n",
       "      <td>0.171752</td>\n",
       "      <td>0.028711</td>\n",
       "      <td>0.010182</td>\n",
       "      <td>0.015321</td>\n",
       "      <td>0.632031</td>\n",
       "      <td>0.013761</td>\n",
       "    </tr>\n",
       "    <tr>\n",
       "      <th>20664</th>\n",
       "      <td>0.047387</td>\n",
       "      <td>0.019329</td>\n",
       "      <td>0.255755</td>\n",
       "      <td>0.019967</td>\n",
       "      <td>0.004586</td>\n",
       "      <td>0.011598</td>\n",
       "      <td>0.636182</td>\n",
       "      <td>0.005196</td>\n",
       "    </tr>\n",
       "    <tr>\n",
       "      <th>6688</th>\n",
       "      <td>0.104704</td>\n",
       "      <td>0.004178</td>\n",
       "      <td>0.081903</td>\n",
       "      <td>0.011152</td>\n",
       "      <td>0.247496</td>\n",
       "      <td>0.018042</td>\n",
       "      <td>0.515601</td>\n",
       "      <td>0.016926</td>\n",
       "    </tr>\n",
       "    <tr>\n",
       "      <th>13268</th>\n",
       "      <td>0.034335</td>\n",
       "      <td>0.004452</td>\n",
       "      <td>0.069178</td>\n",
       "      <td>0.004489</td>\n",
       "      <td>0.063651</td>\n",
       "      <td>0.010375</td>\n",
       "      <td>0.805130</td>\n",
       "      <td>0.008390</td>\n",
       "    </tr>\n",
       "    <tr>\n",
       "      <th>14518</th>\n",
       "      <td>0.142799</td>\n",
       "      <td>0.007709</td>\n",
       "      <td>0.067467</td>\n",
       "      <td>0.039425</td>\n",
       "      <td>0.009846</td>\n",
       "      <td>0.021130</td>\n",
       "      <td>0.707521</td>\n",
       "      <td>0.004102</td>\n",
       "    </tr>\n",
       "    <tr>\n",
       "      <th>16695</th>\n",
       "      <td>0.029953</td>\n",
       "      <td>0.001702</td>\n",
       "      <td>0.052306</td>\n",
       "      <td>0.007494</td>\n",
       "      <td>0.045222</td>\n",
       "      <td>0.009056</td>\n",
       "      <td>0.851909</td>\n",
       "      <td>0.002360</td>\n",
       "    </tr>\n",
       "    <tr>\n",
       "      <th>19734</th>\n",
       "      <td>0.092735</td>\n",
       "      <td>0.010064</td>\n",
       "      <td>0.098548</td>\n",
       "      <td>0.008498</td>\n",
       "      <td>0.041989</td>\n",
       "      <td>0.010889</td>\n",
       "      <td>0.713449</td>\n",
       "      <td>0.023828</td>\n",
       "    </tr>\n",
       "    <tr>\n",
       "      <th>1949</th>\n",
       "      <td>0.044236</td>\n",
       "      <td>0.072294</td>\n",
       "      <td>0.218519</td>\n",
       "      <td>0.046894</td>\n",
       "      <td>0.004509</td>\n",
       "      <td>0.014651</td>\n",
       "      <td>0.567026</td>\n",
       "      <td>0.031871</td>\n",
       "    </tr>\n",
       "    <tr>\n",
       "      <th>14607</th>\n",
       "      <td>0.030033</td>\n",
       "      <td>0.006209</td>\n",
       "      <td>0.065561</td>\n",
       "      <td>0.011576</td>\n",
       "      <td>0.038216</td>\n",
       "      <td>0.007992</td>\n",
       "      <td>0.832408</td>\n",
       "      <td>0.008006</td>\n",
       "    </tr>\n",
       "  </tbody>\n",
       "</table>\n",
       "</div>"
      ],
      "text/plain": [
       "       business/finance  education/research  entertainment  health/medical  \\\n",
       "Host                                                                         \n",
       "20285          0.026167            0.102075       0.171752        0.028711   \n",
       "20664          0.047387            0.019329       0.255755        0.019967   \n",
       "6688           0.104704            0.004178       0.081903        0.011152   \n",
       "13268          0.034335            0.004452       0.069178        0.004489   \n",
       "14518          0.142799            0.007709       0.067467        0.039425   \n",
       "16695          0.029953            0.001702       0.052306        0.007494   \n",
       "19734          0.092735            0.010064       0.098548        0.008498   \n",
       "1949           0.044236            0.072294       0.218519        0.046894   \n",
       "14607          0.030033            0.006209       0.065561        0.011576   \n",
       "\n",
       "       news/press  politics/government/law    sports  tech/science  \n",
       "Host                                                                \n",
       "20285    0.010182                 0.015321  0.632031      0.013761  \n",
       "20664    0.004586                 0.011598  0.636182      0.005196  \n",
       "6688     0.247496                 0.018042  0.515601      0.016926  \n",
       "13268    0.063651                 0.010375  0.805130      0.008390  \n",
       "14518    0.009846                 0.021130  0.707521      0.004102  \n",
       "16695    0.045222                 0.009056  0.851909      0.002360  \n",
       "19734    0.041989                 0.010889  0.713449      0.023828  \n",
       "1949     0.004509                 0.014651  0.567026      0.031871  \n",
       "14607    0.038216                 0.007992  0.832408      0.008006  "
      ]
     },
     "execution_count": 109,
     "metadata": {},
     "output_type": "execute_result"
    }
   ],
   "source": [
    "best_preditions.iloc[np.where(np.array(best_preditions).argmax(axis=1) == 6)]"
   ]
  },
  {
   "cell_type": "code",
   "execution_count": 115,
   "metadata": {
    "scrolled": true
   },
   "outputs": [],
   "source": [
    "# text_from_id(6688) #news ou sport ???"
   ]
  },
  {
   "cell_type": "markdown",
   "metadata": {
    "heading_collapsed": true
   },
   "source": [
    "# Check vocabulary coverage "
   ]
  },
  {
   "cell_type": "code",
   "execution_count": 228,
   "metadata": {
    "hidden": true
   },
   "outputs": [],
   "source": [
    "import fr_core_news_md\n",
    "nlp = fr_core_news_md.load()"
   ]
  },
  {
   "cell_type": "code",
   "execution_count": null,
   "metadata": {
    "hidden": true
   },
   "outputs": [],
   "source": [
    "# word1 = nlp(\"Voiture\")\n",
    "# word2 = nlp(\"voiture\")\n",
    "# (word1.vector == word2.vector).all()"
   ]
  },
  {
   "cell_type": "code",
   "execution_count": 229,
   "metadata": {
    "hidden": true
   },
   "outputs": [],
   "source": [
    "import operator \n",
    "\n",
    "def build_vocab(texts):\n",
    "    texts = texts.apply(lambda x: \" \".join(x))\n",
    "    sentences = texts.apply(lambda x: x.split()).values\n",
    "    vocab = {}\n",
    "    for sentence in sentences:\n",
    "        for word in sentence:\n",
    "            try:\n",
    "                vocab[word] += 1\n",
    "            except KeyError:\n",
    "                vocab[word] = 1\n",
    "    return vocab\n",
    "def check_coverage(vocab, embeddings_index):\n",
    "    known_words = {}\n",
    "    unknown_words = {}\n",
    "    nb_known_words = 0\n",
    "    nb_unknown_words = 0\n",
    "    for word in vocab.keys():\n",
    "        if embeddings_index[word] in nlp.vocab :\n",
    "            known_words[word] = embeddings_index[word]\n",
    "            nb_known_words += vocab[word]\n",
    "        else :\n",
    "            unknown_words[word] = vocab[word]\n",
    "            nb_unknown_words += vocab[word]\n",
    "            pass\n",
    "\n",
    "    print('Found embeddings for {:.2%} of vocab'.format(len(known_words) / len(vocab)))\n",
    "    print('Found embeddings for  {:.2%} of all text'.format(nb_known_words / (nb_known_words + nb_unknown_words)))\n",
    "    unknown_words = sorted(unknown_words.items(), key=operator.itemgetter(1))[::-1]\n",
    "\n",
    "    return known_words, unknown_words"
   ]
  },
  {
   "cell_type": "code",
   "execution_count": 230,
   "metadata": {
    "hidden": true
   },
   "outputs": [
    {
     "name": "stdout",
     "output_type": "stream",
     "text": [
      "Found embeddings for 34.63% of vocab\n",
      "Found embeddings for  84.29% of all text\n"
     ]
    }
   ],
   "source": [
    "vocab = build_vocab(local_train.text_processed_no_dupl)\n",
    "known_words, unknown_words = check_coverage(vocab, nlp.vocab.strings)"
   ]
  },
  {
   "cell_type": "code",
   "execution_count": 231,
   "metadata": {
    "hidden": true
   },
   "outputs": [
    {
     "data": {
      "text/plain": [
       "[('authorid', 3475),\n",
       " ('decouvrez', 1153),\n",
       " ('clinicaltrials', 911),\n",
       " ('ndeg', 883),\n",
       " ('0007935', 590),\n",
       " ('0094799', 590),\n",
       " ('confidentialite', 584),\n",
       " ('efficacite', 537),\n",
       " ('daten', 505),\n",
       " ('foliateam', 446),\n",
       " ('codepostal', 432),\n",
       " ('mobilite', 430),\n",
       " ('konnen', 397),\n",
       " ('cci', 397),\n",
       " ('3984375', 389),\n",
       " ('0730099', 389),\n",
       " ('9877910', 382),\n",
       " ('6703868', 382),\n",
       " ('3881816', 365),\n",
       " ('3507812', 365)]"
      ]
     },
     "execution_count": 231,
     "metadata": {},
     "output_type": "execute_result"
    }
   ],
   "source": [
    "unknown_words[:20]"
   ]
  },
  {
   "cell_type": "code",
   "execution_count": 232,
   "metadata": {
    "hidden": true
   },
   "outputs": [
    {
     "data": {
      "text/plain": [
       "198498"
      ]
     },
     "execution_count": 232,
     "metadata": {},
     "output_type": "execute_result"
    }
   ],
   "source": [
    "len(vocab)"
   ]
  },
  {
   "cell_type": "markdown",
   "metadata": {},
   "source": [
    "# Trying CamemBERT"
   ]
  },
  {
   "cell_type": "markdown",
   "metadata": {},
   "source": [
    "## Concatenate SVD reducted tfidf with approach 3"
   ]
  },
  {
   "cell_type": "markdown",
   "metadata": {},
   "source": [
    "I tried : \n",
    "- tfidf + SVD concatenated with BERT then fit ==> local score : 1.195 |LB score : 1.032\n",
    "- tfidf + SVD concatenated with BERT then SVD again then fit ==> local score : 1.195\n",
    "- tfidf concatenated with BERT then SVD then fit ==> local score 1.198"
   ]
  },
  {
   "cell_type": "code",
   "execution_count": 58,
   "metadata": {},
   "outputs": [],
   "source": [
    "BERT_local_train = np.load(\"./intermediate_data/local_train_text_non_processed_BERT.npy\")\n",
    "BERT_local_test = np.load(\"./intermediate_data/local_test_text_non_processed_BERT.npy\")\n",
    "\n",
    "target_local_train = np.load(\"./intermediate_data/target_train_text_non_processed_BERT.npy\")\n",
    "target_local_test = np.load(\"./intermediate_data/target_local_test_text_non_processed_BERT.npy\")"
   ]
  },
  {
   "cell_type": "code",
   "execution_count": 59,
   "metadata": {},
   "outputs": [
    {
     "name": "stdout",
     "output_type": "stream",
     "text": [
      "Building tfidf ...\n",
      "Building tfidf : Finished\n"
     ]
    }
   ],
   "source": [
    "tfidf_vectorize_fit, X_train, X_test = build_tf_idf(train_data_corpus=local_train.text, \n",
    "                                                    min_term_frequency=10, \n",
    "                                                    max_term_frequency=5000, \n",
    "                                                    to_transform=local_test.text, \n",
    "                                                    tfidf_vectorize_fit=None)"
   ]
  },
  {
   "cell_type": "code",
   "execution_count": 60,
   "metadata": {},
   "outputs": [],
   "source": [
    "svd_model = TruncatedSVD(n_components=500, \n",
    "                         algorithm='randomized',\n",
    "                         n_iter=15)\n",
    "\n",
    "X_train_pd_svd = svd_model.fit_transform(X_train)\n",
    "X_test_pd_svd = svd_model.transform(X_test)"
   ]
  },
  {
   "cell_type": "markdown",
   "metadata": {},
   "source": [
    "### LogReg"
   ]
  },
  {
   "cell_type": "code",
   "execution_count": 61,
   "metadata": {},
   "outputs": [
    {
     "name": "stdout",
     "output_type": "stream",
     "text": [
      "Fitting 3 folds for each of 15 candidates, totalling 45 fits\n"
     ]
    },
    {
     "name": "stderr",
     "output_type": "stream",
     "text": [
      "[Parallel(n_jobs=-1)]: Using backend LokyBackend with 8 concurrent workers.\n",
      "[Parallel(n_jobs=-1)]: Done  16 tasks      | elapsed:   20.3s\n",
      "[Parallel(n_jobs=-1)]: Done  45 out of  45 | elapsed:  1.9min finished\n"
     ]
    },
    {
     "name": "stdout",
     "output_type": "stream",
     "text": [
      "{'C': 1.3894954943731375}\n",
      "mean cv on the local train  :  -1.218003589446296\n"
     ]
    }
   ],
   "source": [
    "grid={\"C\":np.logspace(-1,3,15)}\n",
    "\n",
    "logreg_cv = LogisticRegression(solver='lbfgs',  multi_class='auto', max_iter=25000, n_jobs=-1)\n",
    "\n",
    "classes_order = LogisticRegression(solver='lbfgs',  multi_class='auto').fit(BERT_local_train[:, :2],\n",
    "                                                                            target_local_train).classes_\n",
    "score_function = make_scorer(loglikelihood_score, greater_is_better=False, classes_order=classes_order, needs_proba=True)\n",
    "\n",
    "logreg_cv = GridSearchCV(logreg_cv,grid,cv=3, verbose=3, n_jobs=-1, scoring=score_function)\n",
    "\n",
    "\n",
    "logreg_cv.fit(np.concatenate((BERT_local_train, X_train_pd_svd), axis=1), target_local_train)\n",
    "\n",
    "print(logreg_cv.best_params_)\n",
    "print('mean cv on the local train  : ', logreg_cv.best_score_)"
   ]
  },
  {
   "cell_type": "code",
   "execution_count": 62,
   "metadata": {},
   "outputs": [
    {
     "data": {
      "text/plain": [
       "1.1955181483928206"
      ]
     },
     "execution_count": 62,
     "metadata": {},
     "output_type": "execute_result"
    }
   ],
   "source": [
    "compute_score_3(logreg_cv.predict_proba(np.concatenate((BERT_local_test, X_test_pd_svd), axis=1)), target_local_test)"
   ]
  },
  {
   "cell_type": "markdown",
   "metadata": {},
   "source": [
    "***"
   ]
  },
  {
   "cell_type": "markdown",
   "metadata": {},
   "source": [
    "When i fit the tfidf on the whole training the mean cv on the training is not good, so i only train it on the local and app"
   ]
  },
  {
   "cell_type": "code",
   "execution_count": 82,
   "metadata": {},
   "outputs": [
    {
     "name": "stdout",
     "output_type": "stream",
     "text": [
      "Building tfidf ...\n",
      "Building tfidf : Finished\n"
     ]
    }
   ],
   "source": [
    "# tfidf_vectorize_fit, X_train, X_test = build_tf_idf(train_data_corpus=train_hosts.text, \n",
    "#                                                     min_term_frequency=10, \n",
    "#                                                     max_term_frequency=5000, \n",
    "#                                                     to_transform=test_hosts.text, \n",
    "#                                                     tfidf_vectorize_fit=None)\n",
    "tfidf_vectorize_fit, X_train, X_test = build_tf_idf(train_data_corpus=local_train.text, \n",
    "                                                    min_term_frequency=10, \n",
    "                                                    max_term_frequency=5000, \n",
    "                                                    to_transform=local_test.text, \n",
    "                                                    tfidf_vectorize_fit=None)"
   ]
  },
  {
   "cell_type": "code",
   "execution_count": 84,
   "metadata": {},
   "outputs": [],
   "source": [
    "svd_model = TruncatedSVD(n_components=500, \n",
    "                         algorithm='randomized',\n",
    "                         n_iter=15)\n",
    "\n",
    "X_train_pd_svd = svd_model.fit_transform(np.concatenate((X_train.todense(), X_test.todense())))\n",
    "X_test_pd_svd = svd_model.transform(tfidf_vectorize_fit.transform(test_hosts.text.str.join(\" \")))"
   ]
  },
  {
   "cell_type": "code",
   "execution_count": 85,
   "metadata": {},
   "outputs": [],
   "source": [
    "BERT_train = np.concatenate((BERT_local_train, BERT_local_test))\n",
    "target_BERT_train = np.concatenate((target_local_train, target_local_test))"
   ]
  },
  {
   "cell_type": "code",
   "execution_count": 86,
   "metadata": {},
   "outputs": [
    {
     "name": "stdout",
     "output_type": "stream",
     "text": [
      "Fitting 3 folds for each of 15 candidates, totalling 45 fits\n"
     ]
    },
    {
     "name": "stderr",
     "output_type": "stream",
     "text": [
      "[Parallel(n_jobs=-1)]: Using backend LokyBackend with 8 concurrent workers.\n",
      "[Parallel(n_jobs=-1)]: Done  16 tasks      | elapsed:   25.4s\n",
      "[Parallel(n_jobs=-1)]: Done  45 out of  45 | elapsed:  2.5min finished\n"
     ]
    },
    {
     "name": "stdout",
     "output_type": "stream",
     "text": [
      "{'C': 1.3894954943731375}\n",
      "mean cv on the train  :  -1.1955158274103017\n"
     ]
    }
   ],
   "source": [
    "grid={\"C\":np.logspace(-1,3,15)}\n",
    "\n",
    "logreg_cv = LogisticRegression(solver='lbfgs',  multi_class='auto', max_iter=25000, n_jobs=-1)\n",
    "\n",
    "classes_order = LogisticRegression(solver='lbfgs',  multi_class='auto').fit(BERT_local_train[:, :2],\n",
    "                                                                            target_local_train).classes_\n",
    "score_function = make_scorer(loglikelihood_score, greater_is_better=False, classes_order=classes_order, needs_proba=True)\n",
    "\n",
    "logreg_cv = GridSearchCV(logreg_cv,grid,cv=3, verbose=3, n_jobs=-1, scoring=score_function)\n",
    "\n",
    "\n",
    "logreg_cv.fit(np.concatenate((BERT_train, X_train_pd_svd), axis=1), target_BERT_train)\n",
    "\n",
    "print(logreg_cv.best_params_)\n",
    "print('mean cv on the train  : ', logreg_cv.best_score_)"
   ]
  },
  {
   "cell_type": "code",
   "execution_count": 87,
   "metadata": {},
   "outputs": [],
   "source": [
    "BERT_test = np.load(\"./intermediate_data/BERT_test_text_non_processed_76_133_289_304_349_437_525.npy\")"
   ]
  },
  {
   "cell_type": "code",
   "execution_count": 88,
   "metadata": {},
   "outputs": [],
   "source": [
    "predictions = logreg_cv.predict_proba(np.concatenate((BERT_test, X_test_pd_svd), axis=1))"
   ]
  },
  {
   "cell_type": "code",
   "execution_count": 90,
   "metadata": {},
   "outputs": [],
   "source": [
    "write_submission(\"./outputs//wrap_up_19_HK_Approach3_rawtext_concat_tfidfSVD_tfidf_fit_on_local_train.csv\", \n",
    "                 list(test_hosts[\"index\"]), \n",
    "                 model_classes_list=list(np.array(train_hosts[[\"class\",\"class_codes\"]].drop_duplicates().sort_values(by='class_codes'))[:,0]), \n",
    "                 predicted_probas=predictions)"
   ]
  },
  {
   "cell_type": "markdown",
   "metadata": {
    "heading_collapsed": true
   },
   "source": [
    "### SVM"
   ]
  },
  {
   "cell_type": "code",
   "execution_count": 33,
   "metadata": {
    "hidden": true
   },
   "outputs": [
    {
     "name": "stdout",
     "output_type": "stream",
     "text": [
      "Fitting 3 folds for each of 15 candidates, totalling 45 fits\n"
     ]
    },
    {
     "name": "stderr",
     "output_type": "stream",
     "text": [
      "[Parallel(n_jobs=-1)]: Using backend LokyBackend with 8 concurrent workers.\n",
      "[Parallel(n_jobs=-1)]: Done  16 tasks      | elapsed:   56.1s\n",
      "[Parallel(n_jobs=-1)]: Done  45 out of  45 | elapsed:  2.4min finished\n"
     ]
    },
    {
     "name": "stdout",
     "output_type": "stream",
     "text": [
      "{'C': 268.26957952797244}\n",
      "mean cv on the local train  :  -1.222120948786874\n"
     ]
    }
   ],
   "source": [
    "grid={\"C\":np.logspace(-1,3,15)}\n",
    "\n",
    "svm = SVC(gamma='auto', probability=True, degree=4)\n",
    "\n",
    "\n",
    "classes_order = LogisticRegression(solver='lbfgs',  multi_class='auto').fit(BERT_local_train[:, :2],\n",
    "                                                                            target_local_train).classes_\n",
    "score_function = make_scorer(loglikelihood_score, greater_is_better=False, classes_order=classes_order, needs_proba=True)\n",
    "\n",
    "svm = GridSearchCV(svm,grid,cv=3, verbose=3, n_jobs=-1, scoring=score_function)\n",
    "\n",
    "\n",
    "svm.fit(np.concatenate((BERT_local_train, X_train_pd_svd), axis=1), target_local_train)\n",
    "\n",
    "print(svm.best_params_)\n",
    "print('mean cv on the local train  : ', svm.best_score_)"
   ]
  },
  {
   "cell_type": "code",
   "execution_count": 34,
   "metadata": {
    "hidden": true
   },
   "outputs": [
    {
     "data": {
      "text/plain": [
       "1.200742461981602"
      ]
     },
     "execution_count": 34,
     "metadata": {},
     "output_type": "execute_result"
    }
   ],
   "source": [
    "compute_score_3(svm.predict_proba(np.concatenate((BERT_local_test, X_test_pd_svd), axis=1)), target_local_test)"
   ]
  },
  {
   "cell_type": "markdown",
   "metadata": {
    "heading_collapsed": true
   },
   "source": [
    "### SVD reducted concatenated matrix from 6.1"
   ]
  },
  {
   "cell_type": "code",
   "execution_count": 63,
   "metadata": {
    "hidden": true
   },
   "outputs": [],
   "source": [
    "svd_model_2 = TruncatedSVD(n_components=500, \n",
    "                         algorithm='randomized',\n",
    "                         n_iter=15)\n",
    "\n",
    "X_train_svd2_concat_BERTSVD1 = svd_model_2.fit_transform(np.concatenate((BERT_local_train, X_train_pd_svd), axis=1))\n",
    "X_test_svd2_concat_BERTSVD1 = svd_model_2.transform(np.concatenate((BERT_local_test, X_test_pd_svd), axis=1))"
   ]
  },
  {
   "cell_type": "markdown",
   "metadata": {
    "hidden": true
   },
   "source": [
    "#### LogReg"
   ]
  },
  {
   "cell_type": "code",
   "execution_count": 64,
   "metadata": {
    "hidden": true
   },
   "outputs": [
    {
     "name": "stdout",
     "output_type": "stream",
     "text": [
      "Fitting 3 folds for each of 15 candidates, totalling 45 fits\n"
     ]
    },
    {
     "name": "stderr",
     "output_type": "stream",
     "text": [
      "[Parallel(n_jobs=-1)]: Using backend LokyBackend with 8 concurrent workers.\n",
      "[Parallel(n_jobs=-1)]: Done  16 tasks      | elapsed:   11.0s\n",
      "[Parallel(n_jobs=-1)]: Done  45 out of  45 | elapsed:   57.6s finished\n"
     ]
    },
    {
     "name": "stdout",
     "output_type": "stream",
     "text": [
      "{'C': 1.3894954943731375}\n",
      "mean cv on the local train  :  -1.2155598321955772\n"
     ]
    }
   ],
   "source": [
    "grid={\"C\":np.logspace(-1,3,15)}\n",
    "\n",
    "logreg_cv = LogisticRegression(solver='lbfgs',  multi_class='auto', max_iter=25000, n_jobs=-1)\n",
    "\n",
    "classes_order = LogisticRegression(solver='lbfgs',  multi_class='auto').fit(BERT_local_train[:, :2],\n",
    "                                                                            target_local_train).classes_\n",
    "score_function = make_scorer(loglikelihood_score, greater_is_better=False, classes_order=classes_order, needs_proba=True)\n",
    "\n",
    "logreg_cv = GridSearchCV(logreg_cv,grid,cv=3, verbose=3, n_jobs=-1, scoring=score_function)\n",
    "\n",
    "\n",
    "logreg_cv.fit(X_train_svd2_concat_BERTSVD1, target_local_train)\n",
    "\n",
    "print(logreg_cv.best_params_)\n",
    "print('mean cv on the local train  : ', logreg_cv.best_score_)"
   ]
  },
  {
   "cell_type": "code",
   "execution_count": 65,
   "metadata": {
    "hidden": true
   },
   "outputs": [
    {
     "data": {
      "text/plain": [
       "1.1950012026136316"
      ]
     },
     "execution_count": 65,
     "metadata": {},
     "output_type": "execute_result"
    }
   ],
   "source": [
    "compute_score_3(logreg_cv.predict_proba(X_test_svd2_concat_BERTSVD1), target_local_test)"
   ]
  },
  {
   "cell_type": "markdown",
   "metadata": {
    "heading_collapsed": true,
    "hidden": true
   },
   "source": [
    "#### SVM"
   ]
  },
  {
   "cell_type": "code",
   "execution_count": 43,
   "metadata": {
    "hidden": true
   },
   "outputs": [
    {
     "name": "stdout",
     "output_type": "stream",
     "text": [
      "Fitting 3 folds for each of 15 candidates, totalling 45 fits\n"
     ]
    },
    {
     "name": "stderr",
     "output_type": "stream",
     "text": [
      "[Parallel(n_jobs=-1)]: Using backend LokyBackend with 8 concurrent workers.\n",
      "[Parallel(n_jobs=-1)]: Done  16 tasks      | elapsed:   33.1s\n",
      "[Parallel(n_jobs=-1)]: Done  45 out of  45 | elapsed:  1.3min finished\n"
     ]
    },
    {
     "name": "stdout",
     "output_type": "stream",
     "text": [
      "{'C': 268.26957952797244}\n",
      "mean cv on the local train  :  -1.2218369376124707\n"
     ]
    }
   ],
   "source": [
    "grid={\"C\":np.logspace(-1,3,15)}\n",
    "\n",
    "svm = SVC(gamma='auto', probability=True, degree=4)\n",
    "\n",
    "classes_order = LogisticRegression(solver='lbfgs',  multi_class='auto').fit(BERT_local_train[:, :2],\n",
    "                                                                            target_local_train).classes_\n",
    "score_function = make_scorer(loglikelihood_score, greater_is_better=False, classes_order=classes_order, needs_proba=True)\n",
    "\n",
    "svm = GridSearchCV(svm,grid,cv=3, verbose=3, n_jobs=-1, scoring=score_function)\n",
    "\n",
    "\n",
    "svm.fit(X_train_svd2_concat_BERTSVD1, target_local_train)\n",
    "\n",
    "print(svm.best_params_)\n",
    "print('mean cv on the local train  : ', svm.best_score_)"
   ]
  },
  {
   "cell_type": "code",
   "execution_count": 44,
   "metadata": {
    "hidden": true
   },
   "outputs": [
    {
     "data": {
      "text/plain": [
       "1.198673035908849"
      ]
     },
     "execution_count": 44,
     "metadata": {},
     "output_type": "execute_result"
    }
   ],
   "source": [
    "compute_score_3(svm.predict_proba(X_test_svd2_concat_BERTSVD1), target_local_test)"
   ]
  },
  {
   "cell_type": "markdown",
   "metadata": {
    "heading_collapsed": true
   },
   "source": [
    "### Concatenate just ater tfidf then apply SVD"
   ]
  },
  {
   "cell_type": "code",
   "execution_count": 66,
   "metadata": {
    "hidden": true
   },
   "outputs": [],
   "source": [
    "svd_model_3 = TruncatedSVD(n_components=500, \n",
    "                         algorithm='randomized',\n",
    "                         n_iter=15)\n",
    "\n",
    "X_train_svd3 = svd_model_3.fit_transform(np.concatenate((BERT_local_train, X_train.todense()),axis=1))\n",
    "X_test_svd3 = svd_model_3.transform(np.concatenate((BERT_local_test, X_test.todense()),axis=1))"
   ]
  },
  {
   "cell_type": "code",
   "execution_count": 67,
   "metadata": {
    "hidden": true
   },
   "outputs": [
    {
     "name": "stdout",
     "output_type": "stream",
     "text": [
      "Fitting 3 folds for each of 15 candidates, totalling 45 fits\n"
     ]
    },
    {
     "name": "stderr",
     "output_type": "stream",
     "text": [
      "[Parallel(n_jobs=-1)]: Using backend LokyBackend with 8 concurrent workers.\n",
      "[Parallel(n_jobs=-1)]: Done  16 tasks      | elapsed:   10.7s\n",
      "[Parallel(n_jobs=-1)]: Done  45 out of  45 | elapsed:   54.8s finished\n"
     ]
    },
    {
     "name": "stdout",
     "output_type": "stream",
     "text": [
      "{'C': 1.3894954943731375}\n",
      "mean cv on the local train  :  -1.21155912529368\n"
     ]
    }
   ],
   "source": [
    "grid={\"C\":np.logspace(-1,3,15)}\n",
    "\n",
    "logreg_cv = LogisticRegression(solver='lbfgs',  multi_class='auto', max_iter=25000, n_jobs=-1)\n",
    "\n",
    "classes_order = LogisticRegression(solver='lbfgs',  multi_class='auto').fit(BERT_local_train[:, :2],\n",
    "                                                                            target_local_train).classes_\n",
    "score_function = make_scorer(loglikelihood_score, greater_is_better=False, classes_order=classes_order, needs_proba=True)\n",
    "\n",
    "logreg_cv = GridSearchCV(logreg_cv,grid,cv=3, verbose=3, n_jobs=-1, scoring=score_function)\n",
    "\n",
    "\n",
    "logreg_cv.fit(X_train_svd3, target_local_train)\n",
    "\n",
    "print(logreg_cv.best_params_)\n",
    "print('mean cv on the local train  : ', logreg_cv.best_score_)"
   ]
  },
  {
   "cell_type": "code",
   "execution_count": 68,
   "metadata": {
    "hidden": true
   },
   "outputs": [
    {
     "data": {
      "text/plain": [
       "1.1980122939017102"
      ]
     },
     "execution_count": 68,
     "metadata": {},
     "output_type": "execute_result"
    }
   ],
   "source": [
    "compute_score_3(logreg_cv.predict_proba(X_test_svd3), target_local_test)"
   ]
  },
  {
   "cell_type": "markdown",
   "metadata": {
    "heading_collapsed": true
   },
   "source": [
    "## Approach 3 with SVM \n",
    "\n",
    "very slight improvement with svm"
   ]
  },
  {
   "cell_type": "code",
   "execution_count": 6,
   "metadata": {
    "hidden": true
   },
   "outputs": [],
   "source": [
    "BERT_local_train = np.load(\"./intermediate_data/local_train_text_non_processed_BERT.npy\")\n",
    "BERT_local_test = np.load(\"./intermediate_data/local_test_text_non_processed_BERT.npy\")\n",
    "\n",
    "target_local_train = np.load(\"./intermediate_data/target_train_text_non_processed_BERT.npy\")\n",
    "target_local_test = np.load(\"./intermediate_data/target_local_test_text_non_processed_BERT.npy\")"
   ]
  },
  {
   "cell_type": "code",
   "execution_count": 16,
   "metadata": {
    "hidden": true
   },
   "outputs": [
    {
     "name": "stdout",
     "output_type": "stream",
     "text": [
      "Fitting 3 folds for each of 15 candidates, totalling 45 fits\n"
     ]
    },
    {
     "name": "stderr",
     "output_type": "stream",
     "text": [
      "[Parallel(n_jobs=-1)]: Using backend LokyBackend with 8 concurrent workers.\n",
      "[Parallel(n_jobs=-1)]: Done  16 tasks      | elapsed:   29.5s\n",
      "[Parallel(n_jobs=-1)]: Done  45 out of  45 | elapsed:  1.2min finished\n"
     ]
    },
    {
     "name": "stdout",
     "output_type": "stream",
     "text": [
      "{'C': 517.9474679231207}\n",
      "mean cv on the local train  :  -1.2263000850270733\n"
     ]
    }
   ],
   "source": [
    "grid={\"C\":np.logspace(-1,3,15)}\n",
    "\n",
    "logreg = LogisticRegression(solver='lbfgs',  multi_class='auto', max_iter=25000, n_jobs=-1)\n",
    "svm = SVC(gamma='auto', probability=True, degree=4)\n",
    "\n",
    "classes_order = LogisticRegression(solver='lbfgs',  multi_class='auto').fit(BERT_local_train[:, :2],\n",
    "                                                                            target_local_train).classes_\n",
    "score_function = make_scorer(loglikelihood_score, greater_is_better=False, classes_order=classes_order, needs_proba=True)\n",
    "\n",
    "svm = GridSearchCV(svm,grid,cv=3, verbose=3, n_jobs=-1, scoring=score_function)\n",
    "\n",
    "\n",
    "svm.fit(BERT_local_train, target_local_train)\n",
    "\n",
    "print(svm.best_params_)\n",
    "print('mean cv on the local train  : ', svm.best_score_)"
   ]
  },
  {
   "cell_type": "code",
   "execution_count": 17,
   "metadata": {
    "hidden": true
   },
   "outputs": [
    {
     "data": {
      "text/plain": [
       "1.2121876868407406"
      ]
     },
     "execution_count": 17,
     "metadata": {},
     "output_type": "execute_result"
    }
   ],
   "source": [
    "compute_score_3(svm.predict_proba(BERT_local_test), target_local_test)"
   ]
  },
  {
   "cell_type": "code",
   "execution_count": 13,
   "metadata": {
    "hidden": true
   },
   "outputs": [
    {
     "name": "stdout",
     "output_type": "stream",
     "text": [
      "{'C': 2.6826957952797246}\n",
      "mean cv on the local train  :  -1.2258617863257344\n"
     ]
    }
   ],
   "source": [
    "grid={\"C\":np.logspace(-1,3,15)}\n",
    "\n",
    "logreg_cv = LogisticRegression(solver='lbfgs',  multi_class='auto', max_iter=25000, n_jobs=-1)\n",
    "\n",
    "classes_order = LogisticRegression(solver='lbfgs',  multi_class='auto').fit(BERT_local_train[:, :2],\n",
    "                                                                            target_local_train).classes_\n",
    "score_function = make_scorer(loglikelihood_score, greater_is_better=False, classes_order=classes_order, needs_proba=True)\n",
    "\n",
    "logreg_cv = GridSearchCV(logreg_cv,grid,cv=3, verbose=3, n_jobs=-1, scoring=score_function)\n",
    "\n",
    "\n",
    "logreg_cv.fit(BERT_local_train, target_local_train)\n",
    "\n",
    "print(logreg_cv.best_params_)\n",
    "print('mean cv on the local train  : ', logreg_cv.best_score_)"
   ]
  },
  {
   "cell_type": "code",
   "execution_count": 15,
   "metadata": {
    "hidden": true
   },
   "outputs": [
    {
     "data": {
      "text/plain": [
       "1.2166314602075938"
      ]
     },
     "execution_count": 15,
     "metadata": {},
     "output_type": "execute_result"
    }
   ],
   "source": [
    "compute_score_3(logreg_cv.predict_proba(BERT_local_test), target_local_test)"
   ]
  },
  {
   "cell_type": "markdown",
   "metadata": {},
   "source": [
    "## Approach 3"
   ]
  },
  {
   "cell_type": "markdown",
   "metadata": {},
   "source": [
    "Same as approach 2 but we average the CLS tokens embedding we get after the subdivision"
   ]
  },
  {
   "cell_type": "markdown",
   "metadata": {},
   "source": [
    "We tried this both on the : \n",
    "- `text_processed_no_single_words` column : local score 1.26 => LB score 1.11\n",
    "- `text_processed_no_dupl` column : local score 1.28 => LB score 1.08\n",
    "- `text` (no precessing ) : local score 1.21 => LB score 1.01"
   ]
  },
  {
   "cell_type": "code",
   "execution_count": 11,
   "metadata": {},
   "outputs": [],
   "source": [
    "LEN = train_hosts.shape[0]\n",
    "for j in range(train_hosts.shape[0]):\n",
    "    sys.stdout.write('\\r'+str(j)+\"/\"+str(LEN))\n",
    "    cla = train_hosts[\"class_codes\"].iloc[j]\n",
    "\n",
    "    txt = \". \".join(train_hosts.text_processed_no_dupl.iloc[j])\n",
    "    try :\n",
    "      tokens = tokenizer_.encode(txt, add_special_tokens=True)\n",
    "      SHAPE = len(tokens[1:-1])\n",
    "      new_tokens = []\n",
    "      for i in range(int(SHAPE/510)+1):\n",
    "          min_ = min((i+1)*510,SHAPE)\n",
    "          if min_ == SHAPE :\n",
    "              L = [tokenizer_.cls_token_id] + tokens[i*510:min_] + [tokenizer_.eos_token_id]\n",
    "              new_tokens.append(L + [tokenizer_.pad_token_id]*(512 - len(L)))\n",
    "          else :\n",
    "              new_tokens.append([tokenizer_.cls_token_id] + tokens[i*510:min_] + [tokenizer_.eos_token_id] )\n",
    "      # new_tokens = new_tokens[:350]\n",
    "      with torch.no_grad() :\n",
    "          new_train_ = model(torch.tensor(new_tokens).cuda())[0][:,0,:]\n",
    "      del new_tokens\n",
    "      torch.cuda.empty_cache()\n",
    "      if j == 0 :\n",
    "        new_train = new_train_.detach().cpu().numpy().mean(axis=0).reshape(1,-1)\n",
    "        new_train_target = [cla]\n",
    "      else :\n",
    "        new_train = np.concatenate((new_train, \n",
    "                                    new_train_.detach().cpu().numpy().mean(axis=0).reshape(1,-1)), \n",
    "                                   axis=0)\n",
    "        new_train_target.append(cla)\n",
    "    except :\n",
    "      new_train = np.concatenate((new_train, np.zeros((1,768))), axis=0)\n",
    "      new_train_target.extend([cla])\n",
    "new_train = np.array(new_train)"
   ]
  },
  {
   "cell_type": "code",
   "execution_count": null,
   "metadata": {},
   "outputs": [],
   "source": []
  },
  {
   "cell_type": "code",
   "execution_count": null,
   "metadata": {},
   "outputs": [],
   "source": []
  },
  {
   "cell_type": "markdown",
   "metadata": {
    "heading_collapsed": true
   },
   "source": [
    "## Approach 2"
   ]
  },
  {
   "cell_type": "markdown",
   "metadata": {
    "hidden": true
   },
   "source": [
    "- join the rows of each text ==> BIG BIG context\n",
    "- Tokenize it \n",
    "- Camembert cannot process suequences longer than 512 tokens => subdivide it\n",
    "    - example : (sequence of 1000 tokens, label_1) =>  [(sequence of 512 tokens, label_1), (sequence of 498 tokens, label_1)]\n",
    "    - We perform a sort of data augmentation here \n",
    "- take the embedding of the CLS tokens\n",
    "- fit a classifier\n",
    "- local score 1.3, LB score : 1.15"
   ]
  },
  {
   "cell_type": "code",
   "execution_count": null,
   "metadata": {
    "hidden": true
   },
   "outputs": [],
   "source": [
    "import logging\n",
    "logging.getLogger(\"transformers.tokenization_utils\").setLevel(logging.ERROR)"
   ]
  },
  {
   "cell_type": "code",
   "execution_count": null,
   "metadata": {
    "hidden": true
   },
   "outputs": [],
   "source": [
    "from transformers import CamembertTokenizer, CamembertModel\n",
    "import torch\n",
    "\n",
    "tokenizer_ = CamembertTokenizer.from_pretrained('camembert-base')\n",
    "model = CamembertModel.from_pretrained('camembert-base')\n",
    "model.eval();\n",
    "model.to('cuda');"
   ]
  },
  {
   "cell_type": "code",
   "execution_count": 160,
   "metadata": {
    "hidden": true
   },
   "outputs": [],
   "source": [
    "new_train = []\n",
    "new_train_target = []\n",
    "for j in range(local_train.shape[0]):\n",
    "    \n",
    "    cla = local_train[\"class_codes\"].iloc[j]\n",
    "\n",
    "    txt = \". \".join(local_train.text_processed_no_single_words.iloc[j])\n",
    "        \n",
    "    tokens = tokenizer_.encode(txt, add_special_tokens=True)\n",
    "    SHAPE = len(tokens[1:-1])\n",
    "    new_tokens = []\n",
    "    for i in range(int(SHAPE/510)+1):\n",
    "        min_ = min((i+1)*510,SHAPE)\n",
    "        if min_ == SHAPE :\n",
    "            L = [tokenizer_.cls_token_id] + tokens[i*510:min_] + [tokenizer_.eos_token_id]\n",
    "            new_tokens.append(L + [tokenizer_.pad_token_id]*(512 - len(L)))\n",
    "        else :\n",
    "            new_tokens.append([tokenizer_.cls_token_id] + tokens[i*510:min_] + [tokenizer_.eos_token_id] )\n",
    "            \n",
    "    with torch.no_grad() :\n",
    "        new_train = model(torch.tensor(new_tokens).cuda())[0]\n",
    "    del new_tokens\n",
    "    torch.cuda.empty_cache()\n",
    "    new_train = new_train.squeeze(0)[0].detach().cpu().numpy()\n",
    "    new_train_target = [cla]* len(new_tokens)\n"
   ]
  },
  {
   "cell_type": "markdown",
   "metadata": {
    "heading_collapsed": true
   },
   "source": [
    "## Approach 1 :"
   ]
  },
  {
   "cell_type": "markdown",
   "metadata": {
    "hidden": true
   },
   "source": [
    "- take the mean of the CLS token embedding of each row in each text\n",
    "- this will be the representation of the text\n",
    "- local_test score : 1.8 (colab)"
   ]
  },
  {
   "cell_type": "code",
   "execution_count": 56,
   "metadata": {
    "hidden": true
   },
   "outputs": [],
   "source": [
    "CAMEMBERT_emb = []\n",
    "\n",
    "for i, text in enumerate(local_train.text_processed_no_single_words) :\n",
    "    \n",
    "    input_ids = tokenizer_.batch_encode_plus(text, add_special_tokens=True, return_tensors='pt')[\"input_ids\"].to('cuda')\n",
    "    with torch.no_grad():\n",
    "        CLS_token_last_embeddings = model(input_ids)[0]\n",
    "    del input_ids\n",
    "    torch.cuda.empty_cache()\n",
    "    CLS_token_last_embeddings = CLS_token_last_embeddings.detach().cpu().numpy()\n",
    "    CAMEMBERT_emb.append(CLS_token_last_embeddings[:,0,:].mean(axis=0))\n",
    "    \n",
    "CAMEMBERT_emb = np.array(CAMEMBERT_emb)"
   ]
  },
  {
   "cell_type": "code",
   "execution_count": null,
   "metadata": {
    "hidden": true
   },
   "outputs": [],
   "source": [
    "from sklearn.svm import SVC\n",
    "clf = SVC(gamma='auto', probability=True)\n",
    "clf.fit(CAMEMBERT_emb, local_train.class_codes.values.reshape(-1,1))"
   ]
  },
  {
   "cell_type": "code",
   "execution_count": 63,
   "metadata": {
    "hidden": true
   },
   "outputs": [],
   "source": [
    "CAMEMBERT_emb_test = []\n",
    "\n",
    "for i, text in enumerate(local_test.iloc[:1].text_processed_no_single_words) :\n",
    "    input_ids = tokenizer_.batch_encode_plus(text, add_special_tokens=True, return_tensors='pt')[\"input_ids\"].to('cuda')\n",
    "    with torch.no_grad():\n",
    "        CLS_token_last_embeddings = model(input_ids)[0]\n",
    "    del input_ids\n",
    "    torch.cuda.empty_cache()\n",
    "    CLS_token_last_embeddings = CLS_token_last_embeddings.detach().cpu().numpy()\n",
    "    CAMEMBERT_emb_test.append(CLS_token_last_embeddings[:,0,:].mean(axis=0).detach().cpu().numpy())\n",
    "    \n",
    "CAMEMBERT_emb_test = np.array(CAMEMBERT_emb_test)"
   ]
  },
  {
   "cell_type": "code",
   "execution_count": 64,
   "metadata": {
    "hidden": true
   },
   "outputs": [],
   "source": [
    "predictions = clf.predict_proba(CAMEMBERT_emb_test)"
   ]
  },
  {
   "cell_type": "code",
   "execution_count": 73,
   "metadata": {
    "hidden": true
   },
   "outputs": [],
   "source": [
    "\n",
    "compute_score_3(predictions, local_test.class_codes.values.reshape(-1,1))"
   ]
  },
  {
   "cell_type": "markdown",
   "metadata": {
    "hidden": true
   },
   "source": [
    "***"
   ]
  },
  {
   "cell_type": "code",
   "execution_count": null,
   "metadata": {
    "hidden": true
   },
   "outputs": [],
   "source": [
    "CAMEMBERT_emb = []\n",
    "\n",
    "for i, text in enumerate(train_hosts.text_processed_no_single_words) :\n",
    "    input_ids = tokenizer_.batch_encode_plus(text, add_special_tokens=True, return_tensors='pt')[\"input_ids\"].to('cuda')\n",
    "#     input_ids = tokenizer_.batch_encode_plus(text, add_special_tokens=True, return_tensors='pt')[\"input_ids\"]\n",
    "    with torch.no_grad():\n",
    "        CLS_token_last_embeddings = model(input_ids)[0]\n",
    "    CAMEMBERT_emb.append(CLS_token_last_embeddings[:,0,:].mean(axis=0).detach().cpu().numpy())\n",
    "    torch.cuda.empty_cache()\n",
    "#     CAMEMBERT_emb.append(CLS_token_last_embeddings[:,0,:].mean(axis=0).detach().numpy())\n",
    "CAMEMBERT_emb = np.array(CAMEMBERT_emb)"
   ]
  },
  {
   "cell_type": "code",
   "execution_count": null,
   "metadata": {
    "hidden": true
   },
   "outputs": [],
   "source": [
    "clf = SVC(gamma='auto', probability=True)\n",
    "clf.fit(CAMEMBERT_emb, train_hosts.class_codes.values.reshape(-1,1))"
   ]
  },
  {
   "cell_type": "code",
   "execution_count": null,
   "metadata": {
    "hidden": true
   },
   "outputs": [],
   "source": [
    "CAMEMBERT_emb_test = []\n",
    "\n",
    "for i, text in enumerate(test_hosts.text_processed_no_single_words) :\n",
    "    input_ids = tokenizer_.batch_encode_plus(text, add_special_tokens=True, return_tensors='pt')[\"input_ids\"].to('cuda')\n",
    "    with torch.no_grad():\n",
    "        CLS_token_last_embeddings = model(input_ids)[0]\n",
    "    CAMEMBERT_emb_test.append(CLS_token_last_embeddings[:,0,:].mean(axis=0).detach().cpu().numpy())\n",
    "    \n",
    "CAMEMBERT_emb_test = np.array(CAMEMBERT_emb_test)"
   ]
  },
  {
   "cell_type": "code",
   "execution_count": null,
   "metadata": {
    "hidden": true
   },
   "outputs": [],
   "source": [
    "predictions = clf.predict_proba(CAMEMBERT_emb_test)"
   ]
  },
  {
   "cell_type": "markdown",
   "metadata": {},
   "source": [
    "# Trying tfidf"
   ]
  },
  {
   "cell_type": "code",
   "execution_count": 13,
   "metadata": {},
   "outputs": [
    {
     "name": "stdout",
     "output_type": "stream",
     "text": [
      "Building tfidf ...\n",
      "Building tfidf : Finished\n"
     ]
    }
   ],
   "source": [
    "# tfidf_vectorize_fit, X_train, X_test = build_tf_idf(train_data_corpus=local_train.text_processed_no_single_words, \n",
    "#                                                     min_term_frequency=10, \n",
    "#                                                     max_term_frequency=5000, \n",
    "#                                                     to_transform=local_test.text_processed_no_single_words, \n",
    "#                                                     tfidf_vectorize_fit=None)\n",
    "\n",
    "# tfidf_vectorize_fit, X_train, X_test = build_tf_idf(train_data_corpus=local_train.text_processed_no_dupl, \n",
    "#                                                     min_term_frequency=10, \n",
    "#                                                     max_term_frequency=5000, \n",
    "#                                                     to_transform=local_test.text_processed_no_dupl, \n",
    "#                                                     tfidf_vectorize_fit=None)\n",
    "\n",
    "tfidf_vectorize_fit, X_train, X_test = build_tf_idf(train_data_corpus=local_train.text_processed_2, \n",
    "                                                    min_term_frequency=10, \n",
    "                                                    max_term_frequency=5000, \n",
    "                                                    to_transform=local_test.text_processed_2, \n",
    "                                                    tfidf_vectorize_fit=None)"
   ]
  },
  {
   "cell_type": "markdown",
   "metadata": {
    "heading_collapsed": true
   },
   "source": [
    "## SVM "
   ]
  },
  {
   "cell_type": "code",
   "execution_count": 127,
   "metadata": {
    "hidden": true
   },
   "outputs": [
    {
     "data": {
      "text/plain": [
       "1.386600386002064"
      ]
     },
     "execution_count": 127,
     "metadata": {},
     "output_type": "execute_result"
    }
   ],
   "source": [
    "svm = SVC(gamma='auto', probability=True)\n",
    "svm.fit(X_train, local_train.class_codes.values)\n",
    "predictions = svm.predict_proba(X_test)\n",
    "compute_score_3(predictions, local_test.class_codes.values)"
   ]
  },
  {
   "cell_type": "markdown",
   "metadata": {
    "heading_collapsed": true
   },
   "source": [
    "## LogReg"
   ]
  },
  {
   "cell_type": "code",
   "execution_count": 128,
   "metadata": {
    "hidden": true
   },
   "outputs": [
    {
     "data": {
      "text/plain": [
       "1.3624899875941183"
      ]
     },
     "execution_count": 128,
     "metadata": {},
     "output_type": "execute_result"
    }
   ],
   "source": [
    "logreg = LogisticRegression(solver='lbfgs',  multi_class='auto', max_iter=25000, n_jobs=-1)\n",
    "logreg.fit(X_train, local_train.class_codes.values)\n",
    "predictions = logreg.predict_proba(X_test)\n",
    "compute_score_3(predictions, local_test.class_codes.values)"
   ]
  },
  {
   "cell_type": "markdown",
   "metadata": {},
   "source": [
    "## SVD + SVM"
   ]
  },
  {
   "cell_type": "markdown",
   "metadata": {},
   "source": [
    "### Approach 1 :\n",
    "- Process the texts\n",
    "- fit a tf idf vectorizer\n",
    "- perform SVD on the tf idf matrix\n",
    "- use and SVM no tuned to classify\n",
    "\n",
    "- `text_processed` : local 1.29, LB : 1.13\n",
    "- `text_processed_no_single_words` : \n",
    "- `text_processed_2` : local 1.27- 1.28"
   ]
  },
  {
   "cell_type": "code",
   "execution_count": 14,
   "metadata": {},
   "outputs": [
    {
     "data": {
      "text/plain": [
       "1.2881498270833325"
      ]
     },
     "execution_count": 14,
     "metadata": {},
     "output_type": "execute_result"
    }
   ],
   "source": [
    "svd_model = TruncatedSVD(n_components=500, \n",
    "                         algorithm='randomized',\n",
    "                         n_iter=15)\n",
    "\n",
    "X_train_pd_svd = svd_model.fit_transform(X_train)\n",
    "X_test_pd_svd = svd_model.transform(X_test)\n",
    "\n",
    "svm = SVC(gamma='auto', probability=True)\n",
    "\n",
    "svm.fit(X_train_pd_svd, local_train.class_codes.values)\n",
    "predictions = svm.predict_proba(X_test_pd_svd)\n",
    "compute_score_3(predictions, local_test.class_codes.values)"
   ]
  },
  {
   "cell_type": "code",
   "execution_count": 22,
   "metadata": {},
   "outputs": [
    {
     "name": "stdout",
     "output_type": "stream",
     "text": [
      "Fitting 3 folds for each of 15 candidates, totalling 45 fits\n"
     ]
    },
    {
     "name": "stderr",
     "output_type": "stream",
     "text": [
      "[Parallel(n_jobs=-1)]: Using backend LokyBackend with 8 concurrent workers.\n",
      "[Parallel(n_jobs=-1)]: Done  16 tasks      | elapsed:   24.3s\n",
      "[Parallel(n_jobs=-1)]: Done  45 out of  45 | elapsed:  1.1min finished\n"
     ]
    },
    {
     "name": "stdout",
     "output_type": "stream",
     "text": [
      "{'C': 10.0}\n",
      "Score on the local train cv :  -1.3171443769126219\n"
     ]
    }
   ],
   "source": [
    "svd_model = TruncatedSVD(n_components=500, \n",
    "                         algorithm='randomized',\n",
    "                         n_iter=15)\n",
    "\n",
    "X_train_pd_svd = svd_model.fit_transform(X_train)\n",
    "X_test_pd_svd = svd_model.transform(X_test)\n",
    "\n",
    "\n",
    "grid={\"C\":np.logspace(-2,1,15)}\n",
    "\n",
    "logreg = LogisticRegression(solver='lbfgs',  multi_class='auto', max_iter=25000, n_jobs=-1)\n",
    "svm = SVC(gamma='auto', probability=True)\n",
    "\n",
    "classes_order = LogisticRegression(solver='lbfgs',  multi_class='auto').fit(X_train_pd_svd[:, :2],\n",
    "                                                                            local_train.class_codes.values).classes_\n",
    "score_function = make_scorer(loglikelihood_score, greater_is_better=False, classes_order=classes_order, needs_proba=True)\n",
    "\n",
    "svm = GridSearchCV(svm,grid,cv=3, verbose=3, n_jobs=-1, scoring=score_function)\n",
    "\n",
    "\n",
    "svm.fit(X_train_pd_svd, local_train.class_codes.values)\n",
    "\n",
    "print(svm.best_params_)\n",
    "print('Score on the local train cv : ', svm.best_score_)"
   ]
  },
  {
   "cell_type": "code",
   "execution_count": 23,
   "metadata": {},
   "outputs": [
    {
     "data": {
      "text/plain": [
       "1.2790146951165169"
      ]
     },
     "execution_count": 23,
     "metadata": {},
     "output_type": "execute_result"
    }
   ],
   "source": [
    "params = svm.best_params_\n",
    "svm_all_train = SVC(gamma='auto', probability=True, C = params[\"C\"])\n",
    "svm_all_train.fit(X_train_pd_svd, local_train.class_codes.values)\n",
    "predictions = svm_all_train.predict_proba(X_test_pd_svd)\n",
    "compute_score_3(predictions, local_test.class_codes.values)"
   ]
  },
  {
   "cell_type": "markdown",
   "metadata": {},
   "source": [
    "Upsampling"
   ]
  },
  {
   "cell_type": "code",
   "execution_count": 372,
   "metadata": {},
   "outputs": [
    {
     "data": {
      "text/plain": [
       "((1495, 500), (499, 500))"
      ]
     },
     "execution_count": 372,
     "metadata": {},
     "output_type": "execute_result"
    }
   ],
   "source": [
    "X_train_pd_svd.shape, X_test_pd_svd.shape"
   ]
  },
  {
   "cell_type": "code",
   "execution_count": 1,
   "metadata": {},
   "outputs": [
    {
     "name": "stderr",
     "output_type": "stream",
     "text": [
      "Using TensorFlow backend.\n"
     ]
    }
   ],
   "source": [
    "from imblearn.over_sampling import RandomOverSampler"
   ]
  },
  {
   "cell_type": "code",
   "execution_count": 24,
   "metadata": {},
   "outputs": [],
   "source": [
    "ros = RandomOverSampler(random_state=0)\n",
    "X_resampled, y_resampled = ros.fit_resample(X_train_pd_svd, local_train.class_codes.values)"
   ]
  },
  {
   "cell_type": "code",
   "execution_count": 29,
   "metadata": {},
   "outputs": [
    {
     "name": "stdout",
     "output_type": "stream",
     "text": [
      "Fitting 3 folds for each of 15 candidates, totalling 45 fits\n"
     ]
    },
    {
     "name": "stderr",
     "output_type": "stream",
     "text": [
      "[Parallel(n_jobs=-1)]: Using backend LokyBackend with 8 concurrent workers.\n",
      "[Parallel(n_jobs=-1)]: Done  16 tasks      | elapsed:  3.5min\n",
      "[Parallel(n_jobs=-1)]: Done  45 out of  45 | elapsed:  9.3min finished\n"
     ]
    },
    {
     "name": "stdout",
     "output_type": "stream",
     "text": [
      "{'C': 10.0}\n",
      "Score on the local train cv :  -1.8157287401582944\n"
     ]
    }
   ],
   "source": [
    "grid={\"C\":np.logspace(-2,1,15)}\n",
    "\n",
    "logreg = LogisticRegression(solver='lbfgs',  multi_class='auto', max_iter=25000, n_jobs=-1)\n",
    "svm = SVC(gamma='auto', probability=True)\n",
    "\n",
    "classes_order = LogisticRegression(solver='lbfgs',  multi_class='auto').fit(X_resampled[:, :2],\n",
    "                                                                            y_resampled).classes_\n",
    "score_function = make_scorer(loglikelihood_score, greater_is_better=False, classes_order=classes_order, needs_proba=True)\n",
    "\n",
    "svm = GridSearchCV(svm,grid,cv=3, verbose=3, n_jobs=-1, scoring=score_function)\n",
    "\n",
    "\n",
    "svm.fit(X_resampled, y_resampled)\n",
    "\n",
    "print(svm.best_params_)\n",
    "print('Score on the local train cv : ', svm.best_score_)"
   ]
  },
  {
   "cell_type": "code",
   "execution_count": 30,
   "metadata": {},
   "outputs": [
    {
     "data": {
      "text/plain": [
       "1.6508929263750274"
      ]
     },
     "execution_count": 30,
     "metadata": {},
     "output_type": "execute_result"
    }
   ],
   "source": [
    "params = svm.best_params_\n",
    "svm_all_train = SVC(gamma='auto', probability=True, C = params[\"C\"])\n",
    "svm_all_train.fit(X_resampled, y_resampled)\n",
    "predictions = svm_all_train.predict_proba(X_test_pd_svd)\n",
    "compute_score_3(predictions, local_test.class_codes.values)"
   ]
  },
  {
   "cell_type": "markdown",
   "metadata": {},
   "source": [
    "### Approach 5\n",
    "\n",
    "Same as approach 1 but after predicting the probas using the text, we average the vectors with the vec of probas built using the edges and weights for nodes that have a connection\n",
    "\n",
    "local score (using processed_2) : 1.27 ==> LB score : 1.14\n",
    "\n",
    "local score (using no_dupl) : 1. ==> "
   ]
  },
  {
   "cell_type": "code",
   "execution_count": 418,
   "metadata": {},
   "outputs": [],
   "source": [
    "svd_model = TruncatedSVD(n_components=500, \n",
    "                         algorithm='randomized',\n",
    "                         n_iter=15)\n",
    "\n",
    "X_train_pd_svd = svd_model.fit_transform(X_train)\n",
    "X_test_pd_svd = svd_model.transform(X_test)\n",
    "\n",
    "svm = SVC(gamma='auto', probability=True)\n",
    "svm.fit(X_train_pd_svd, local_train.class_codes.values)\n",
    "predictions = svm.predict_proba(X_test_pd_svd)\n",
    "\n",
    "# logreg = LogisticRegression()\n",
    "# logreg.fit(X_train_pd_svd, local_train.class_codes.values)\n",
    "# predictions = logreg.predict_proba(X_test_pd_svd)"
   ]
  },
  {
   "cell_type": "code",
   "execution_count": 305,
   "metadata": {},
   "outputs": [
    {
     "name": "stdout",
     "output_type": "stream",
     "text": [
      "Fitting 3 folds for each of 15 candidates, totalling 45 fits\n"
     ]
    },
    {
     "name": "stderr",
     "output_type": "stream",
     "text": [
      "[Parallel(n_jobs=-1)]: Using backend LokyBackend with 8 concurrent workers.\n",
      "[Parallel(n_jobs=-1)]: Done  16 tasks      | elapsed:   49.1s\n",
      "[Parallel(n_jobs=-1)]: Done  45 out of  45 | elapsed:  1.3min finished\n"
     ]
    },
    {
     "name": "stdout",
     "output_type": "stream",
     "text": [
      "{'C': 6.105402296585327}\n",
      "Score on the local train cv :  -1.321542579917035\n"
     ]
    }
   ],
   "source": [
    "svd_model = TruncatedSVD(n_components=500, \n",
    "                         algorithm='randomized',\n",
    "                         n_iter=15)\n",
    "\n",
    "X_train_pd_svd = svd_model.fit_transform(X_train)\n",
    "X_test_pd_svd = svd_model.transform(X_test)\n",
    "\n",
    "\n",
    "grid={\"C\":np.logspace(-2,1,15)}\n",
    "\n",
    "logreg = LogisticRegression(solver='lbfgs',  multi_class='auto', max_iter=25000, n_jobs=-1)\n",
    "svm = SVC(gamma='auto', probability=True)\n",
    "\n",
    "classes_order = LogisticRegression(solver='lbfgs',  multi_class='auto').fit(X_train_pd_svd[:, :2],\n",
    "                                                                            local_train.class_codes.values).classes_\n",
    "score_function = make_scorer(loglikelihood_score, greater_is_better=False, classes_order=classes_order, needs_proba=True)\n",
    "\n",
    "svm = GridSearchCV(svm, grid, cv=3, verbose=3, n_jobs=-1, scoring=score_function)\n",
    "\n",
    "\n",
    "svm.fit(X_train_pd_svd, local_train.class_codes.values)\n",
    "\n",
    "print(svm.best_params_)\n",
    "print('Score on the local train cv : ', svm.best_score_)"
   ]
  },
  {
   "cell_type": "code",
   "execution_count": 419,
   "metadata": {},
   "outputs": [
    {
     "name": "stderr",
     "output_type": "stream",
     "text": [
      "d:\\anaconda\\lib\\site-packages\\ipykernel_launcher.py:2: SettingWithCopyWarning: \n",
      "A value is trying to be set on a copy of a slice from a DataFrame.\n",
      "Try using .loc[row_indexer,col_indexer] = value instead\n",
      "\n",
      "See the caveats in the documentation: http://pandas.pydata.org/pandas-docs/stable/user_guide/indexing.html#returning-a-view-versus-a-copy\n",
      "  \n",
      "d:\\anaconda\\lib\\site-packages\\ipykernel_launcher.py:21: RuntimeWarning: invalid value encountered in long_scalars\n",
      "d:\\anaconda\\lib\\site-packages\\ipykernel_launcher.py:5: SettingWithCopyWarning: \n",
      "A value is trying to be set on a copy of a slice from a DataFrame.\n",
      "Try using .loc[row_indexer,col_indexer] = value instead\n",
      "\n",
      "See the caveats in the documentation: http://pandas.pydata.org/pandas-docs/stable/user_guide/indexing.html#returning-a-view-versus-a-copy\n",
      "  \"\"\"\n"
     ]
    }
   ],
   "source": [
    "edge_list_test = edge_list[edge_list.dest_node.isin(local_test[\"index\"])]\n",
    "edge_list_test[\"vector_probas_edge_1\"] = edge_list_test.start_node.map(dico_vector_probas_start_nodes)* edge_list_test.weight \n",
    "\n",
    "dico_vector_probas_dest_nodes = edge_list_test.groupby('dest_node')['vector_probas_edge_1'].apply(to_proba_vector).to_dict()\n",
    "edge_list_test[\"vector_probas_edge_1\"] = edge_list_test.dest_node.map(dico_vector_probas_dest_nodes)"
   ]
  },
  {
   "cell_type": "code",
   "execution_count": 420,
   "metadata": {},
   "outputs": [
    {
     "data": {
      "image/png": "[encoded data removed]",
      "text/plain": [
       "<Figure size 432x288 with 1 Axes>"
      ]
     },
     "metadata": {
      "needs_background": "light"
     },
     "output_type": "display_data"
    }
   ],
   "source": [
    "scores = []\n",
    "for p in np.linspace(0,1,11):\n",
    "    new_predictions = []\n",
    "    LEN = local_test.shape[0]\n",
    "    weight_edges_probas = p\n",
    "    weight_text_probas = 1-weight_edges_probas\n",
    "\n",
    "    for i in range(local_test.shape[0]):\n",
    "\n",
    "        node = local_test[\"index\"].iloc[i]\n",
    "        \n",
    "        if (node in edge_list_test.dest_node) :\n",
    "            if dico_vector_probas_dest_nodes[node].shape != () :\n",
    "                new_predictions.append( (dico_vector_probas_dest_nodes[node] * weight_edges_probas \n",
    "                                         + predictions[i] * weight_text_probas)\n",
    "                                        )\n",
    "            else :\n",
    "                new_predictions.append(predictions[i])\n",
    "        else :\n",
    "            new_predictions.append(predictions[i])\n",
    "\n",
    "    new_predictions = np.array(new_predictions)\n",
    "    \n",
    "    scores.append(compute_score_3(np.array(new_predictions), local_test.class_codes.values))\n",
    "plt.xlabel(\"weight given to the edge probas\")\n",
    "plt.plot(np.linspace(0,1,11), scores);"
   ]
  },
  {
   "cell_type": "code",
   "execution_count": 421,
   "metadata": {},
   "outputs": [
    {
     "data": {
      "text/plain": [
       "1.2734170304436188"
      ]
     },
     "execution_count": 421,
     "metadata": {},
     "output_type": "execute_result"
    }
   ],
   "source": [
    "new_predictions = []\n",
    "LEN = local_test.shape[0]\n",
    "weight_edges_probas = .2\n",
    "weight_text_probas = 1-weight_edges_probas\n",
    "\n",
    "for i in range(local_test.shape[0]):\n",
    "\n",
    "    node = local_test[\"index\"].iloc[i]\n",
    "\n",
    "    if (node in edge_list_test.dest_node) :\n",
    "        if dico_vector_probas_dest_nodes[node].shape != () :\n",
    "            new_predictions.append( (dico_vector_probas_dest_nodes[node] * weight_edges_probas \n",
    "                                     + predictions[i] * weight_text_probas)\n",
    "                                    )\n",
    "        else :\n",
    "            new_predictions.append(predictions[i])\n",
    "    else :\n",
    "        new_predictions.append(predictions[i])\n",
    "\n",
    "new_predictions = np.array(new_predictions)\n",
    "\n",
    "compute_score_3(np.array(new_predictions), local_test.class_codes.values)"
   ]
  },
  {
   "cell_type": "markdown",
   "metadata": {},
   "source": [
    "***"
   ]
  },
  {
   "cell_type": "markdown",
   "metadata": {},
   "source": [
    "Applying the approach on the whole dataset"
   ]
  },
  {
   "cell_type": "code",
   "execution_count": 422,
   "metadata": {},
   "outputs": [
    {
     "name": "stderr",
     "output_type": "stream",
     "text": [
      "d:\\anaconda\\lib\\site-packages\\ipykernel_launcher.py:15: SettingWithCopyWarning: \n",
      "A value is trying to be set on a copy of a slice from a DataFrame.\n",
      "Try using .loc[row_indexer,col_indexer] = value instead\n",
      "\n",
      "See the caveats in the documentation: http://pandas.pydata.org/pandas-docs/stable/user_guide/indexing.html#returning-a-view-versus-a-copy\n",
      "  from ipykernel import kernelapp as app\n",
      "d:\\anaconda\\lib\\site-packages\\ipykernel_launcher.py:20: SettingWithCopyWarning: \n",
      "A value is trying to be set on a copy of a slice from a DataFrame.\n",
      "Try using .loc[row_indexer,col_indexer] = value instead\n",
      "\n",
      "See the caveats in the documentation: http://pandas.pydata.org/pandas-docs/stable/user_guide/indexing.html#returning-a-view-versus-a-copy\n",
      "d:\\anaconda\\lib\\site-packages\\ipykernel_launcher.py:33: SettingWithCopyWarning: \n",
      "A value is trying to be set on a copy of a slice from a DataFrame.\n",
      "Try using .loc[row_indexer,col_indexer] = value instead\n",
      "\n",
      "See the caveats in the documentation: http://pandas.pydata.org/pandas-docs/stable/user_guide/indexing.html#returning-a-view-versus-a-copy\n",
      "d:\\anaconda\\lib\\site-packages\\ipykernel_launcher.py:35: SettingWithCopyWarning: \n",
      "A value is trying to be set on a copy of a slice from a DataFrame.\n",
      "Try using .loc[row_indexer,col_indexer] = value instead\n",
      "\n",
      "See the caveats in the documentation: http://pandas.pydata.org/pandas-docs/stable/user_guide/indexing.html#returning-a-view-versus-a-copy\n"
     ]
    }
   ],
   "source": [
    "#### READ THE EDGE LIST\n",
    "edge_list = pd.read_table(\"./data/edgelist.txt\", delimiter=\" \", header=None).rename(columns={0:\"start_node\",\n",
    "                                                                                             1:\"dest_node\",\n",
    "                                                                                             2:\"weight\"})\n",
    "\n",
    "#### KEEP THE INFO OF THE NODES WE ARE INTERESTED IN : the nodes in training (testing comes later) \n",
    "#### BECAUSE SOME NODES ARE JUST THERE BUT DO NOT LINK DIRECTLY TO ANY NODE OF OUR TRAIN AND TEST  TEXTS\n",
    "#### For this see the difference of rows between edge_list and edge_list_train\n",
    "edge_list_train = edge_list[edge_list.dest_node.isin(train_hosts[\"index\"].to_list())]\n",
    "\n",
    "\n",
    "#### add class_codes for the nodes of the training\n",
    "def class_index_train(id) :\n",
    "    return train_hosts[train_hosts[\"index\"] == id][\"class\"].iloc[0]\n",
    "edge_list_train[\"class_dest_node\"] = edge_list_train.dest_node.apply(class_index_train)\n",
    "\n",
    "dicc = dict(np.array(train_hosts[[\"class\",\"class_codes\"]].drop_duplicates()))\n",
    "inv_dicc = {v:k for k, v in dicc.items()}\n",
    "\n",
    "edge_list_train[\"class_codes\"] = edge_list_train.class_dest_node.map(dicc)\n",
    "\n",
    "#### The message passing from the labeled nodes to their direct neighbours that point towards them\n",
    "#### We assign to each edge of interest a vector of probabilities over the classes weighted by its graph weight\n",
    "\n",
    "def build_edge_proba_vector(column) :\n",
    "    vector = np.zeros(8)\n",
    "    vector[column] = 1\n",
    "    return vector\n",
    "def to_proba_vector(vec):\n",
    "    vec = np.sum(vec)\n",
    "    return vec / np.sum(vec)\n",
    "\n",
    "edge_list_train[\"vector_probas_edge\"] = edge_list_train.class_codes.apply(build_edge_proba_vector) * edge_list_train.weight\n",
    "dico_vector_probas_start_nodes = edge_list_train.groupby('start_node')['vector_probas_edge'].apply(to_proba_vector).to_dict()\n",
    "edge_list_train[\"vector_probas_edge\"] = edge_list_train.start_node.map(dico_vector_probas_start_nodes)"
   ]
  },
  {
   "cell_type": "code",
   "execution_count": 423,
   "metadata": {},
   "outputs": [
    {
     "name": "stderr",
     "output_type": "stream",
     "text": [
      "d:\\anaconda\\lib\\site-packages\\ipykernel_launcher.py:3: SettingWithCopyWarning: \n",
      "A value is trying to be set on a copy of a slice from a DataFrame.\n",
      "Try using .loc[row_indexer,col_indexer] = value instead\n",
      "\n",
      "See the caveats in the documentation: http://pandas.pydata.org/pandas-docs/stable/user_guide/indexing.html#returning-a-view-versus-a-copy\n",
      "  This is separate from the ipykernel package so we can avoid doing imports until\n",
      "d:\\anaconda\\lib\\site-packages\\ipykernel_launcher.py:31: RuntimeWarning: invalid value encountered in long_scalars\n",
      "d:\\anaconda\\lib\\site-packages\\ipykernel_launcher.py:5: SettingWithCopyWarning: \n",
      "A value is trying to be set on a copy of a slice from a DataFrame.\n",
      "Try using .loc[row_indexer,col_indexer] = value instead\n",
      "\n",
      "See the caveats in the documentation: http://pandas.pydata.org/pandas-docs/stable/user_guide/indexing.html#returning-a-view-versus-a-copy\n",
      "  \"\"\"\n"
     ]
    }
   ],
   "source": [
    "edge_list_test = edge_list[edge_list.dest_node.isin(test_hosts[\"index\"].to_list())]\n",
    "\n",
    "edge_list_test[\"vector_probas_edge_1\"] = edge_list_test.start_node.map(dico_vector_probas_start_nodes) * edge_list_test.weight\n",
    "dico_vector_probas_dest_nodes = edge_list_test.groupby('dest_node')['vector_probas_edge_1'].apply(to_proba_vector).to_dict()\n",
    "edge_list_test[\"vector_probas_edge_1\"] = edge_list_test.dest_node.map(dico_vector_probas_dest_nodes)"
   ]
  },
  {
   "cell_type": "code",
   "execution_count": 424,
   "metadata": {},
   "outputs": [
    {
     "name": "stdout",
     "output_type": "stream",
     "text": [
      "Building tfidf ...\n",
      "Building tfidf : Finished\n"
     ]
    }
   ],
   "source": [
    "tfidf_vectorize_fit, X_train, X_test = build_tf_idf(train_data_corpus=train_hosts.text_processed_2, \n",
    "                                                    min_term_frequency=10, \n",
    "                                                    max_term_frequency=5000, \n",
    "                                                    to_transform=test_hosts.text_processed_2, \n",
    "                                                    tfidf_vectorize_fit=None)"
   ]
  },
  {
   "cell_type": "code",
   "execution_count": 425,
   "metadata": {},
   "outputs": [
    {
     "name": "stdout",
     "output_type": "stream",
     "text": [
      "Fitting 3 folds for each of 15 candidates, totalling 45 fits\n"
     ]
    },
    {
     "name": "stderr",
     "output_type": "stream",
     "text": [
      "[Parallel(n_jobs=-1)]: Using backend LokyBackend with 8 concurrent workers.\n",
      "[Parallel(n_jobs=-1)]: Done  16 tasks      | elapsed:   49.1s\n",
      "[Parallel(n_jobs=-1)]: Done  45 out of  45 | elapsed:  1.9min finished\n"
     ]
    },
    {
     "name": "stdout",
     "output_type": "stream",
     "text": [
      "{'C': 3.727593720314938}\n",
      "Score on the local train cv :  -1.2852840900049178\n"
     ]
    }
   ],
   "source": [
    "svd_model = TruncatedSVD(n_components=500, \n",
    "                         algorithm='randomized',\n",
    "                         n_iter=15)\n",
    "\n",
    "X_train_pd_svd = svd_model.fit_transform(X_train)\n",
    "X_test_pd_svd = svd_model.transform(X_test)\n",
    "\n",
    "\n",
    "grid={\"C\":np.logspace(-2,1,15)}\n",
    "\n",
    "logreg = LogisticRegression(solver='lbfgs',  multi_class='auto', max_iter=25000, n_jobs=-1)\n",
    "svm = SVC(gamma='auto', probability=True)\n",
    "\n",
    "classes_order = LogisticRegression(solver='lbfgs',  multi_class='auto').fit(X_train_pd_svd[:, :2],\n",
    "                                                                            train_hosts.class_codes.values).classes_\n",
    "score_function = make_scorer(loglikelihood_score, greater_is_better=False, classes_order=classes_order, needs_proba=True)\n",
    "\n",
    "svm = GridSearchCV(svm, grid, cv=3, verbose=3, n_jobs=-1, scoring=score_function)\n",
    "\n",
    "\n",
    "svm.fit(X_train_pd_svd, train_hosts.class_codes.values)\n",
    "\n",
    "print(svm.best_params_)\n",
    "print('Score on the local train cv : ', svm.best_score_)"
   ]
  },
  {
   "cell_type": "code",
   "execution_count": 426,
   "metadata": {},
   "outputs": [],
   "source": [
    "predictions = svm.predict_proba(X_test_pd_svd)"
   ]
  },
  {
   "cell_type": "code",
   "execution_count": 427,
   "metadata": {},
   "outputs": [],
   "source": [
    "new_predictions = []\n",
    "LEN = test_hosts.shape[0]\n",
    "\n",
    "weight_edges_probas = .2\n",
    "weight_text_probas = 1-weight_edges_probas\n",
    "\n",
    "\n",
    "for i in range(test_hosts.shape[0]):\n",
    "\n",
    "    node = test_hosts[\"index\"].iloc[i]\n",
    "\n",
    "    if (node in edge_list_test.dest_node) :\n",
    "        if dico_vector_probas_dest_nodes[node].shape != () :\n",
    "            new_predictions.append( (dico_vector_probas_dest_nodes[node] * weight_edges_probas \n",
    "                                     + predictions[i] * weight_text_probas)\n",
    "                                    )\n",
    "        else :\n",
    "            new_predictions.append(predictions[i])\n",
    "    else :\n",
    "        new_predictions.append(predictions[i])\n",
    "\n",
    "new_predictions = np.array(new_predictions)"
   ]
  },
  {
   "cell_type": "code",
   "execution_count": 431,
   "metadata": {},
   "outputs": [
    {
     "data": {
      "text/plain": [
       "array([[0.18462681, 0.32387237, 0.18337666, ..., 0.06681725, 0.02363196,\n",
       "        0.15857943],\n",
       "       [0.30136476, 0.04543025, 0.45496872, ..., 0.03829115, 0.03683518,\n",
       "        0.09837716],\n",
       "       [0.3878999 , 0.02368137, 0.45090921, ..., 0.01998476, 0.02419444,\n",
       "        0.03456051],\n",
       "       ...,\n",
       "       [0.30251123, 0.03816379, 0.4978191 , ..., 0.03119177, 0.01453152,\n",
       "        0.08105035],\n",
       "       [0.48513366, 0.03322485, 0.31424417, ..., 0.06052829, 0.01818904,\n",
       "        0.05755059],\n",
       "       [0.0151722 , 0.03120765, 0.01368877, ..., 0.0098126 , 0.00620106,\n",
       "        0.87383819]])"
      ]
     },
     "execution_count": 431,
     "metadata": {},
     "output_type": "execute_result"
    }
   ],
   "source": [
    "new_predictions"
   ]
  },
  {
   "cell_type": "code",
   "execution_count": 432,
   "metadata": {},
   "outputs": [],
   "source": [
    "write_submission(\"./outputs/wrap_up_15_HK_Approach5_text_processed_2_SVDSVM_crossvalidated_corrected.csv\", \n",
    "                 list(test_hosts[\"index\"]), \n",
    "                 model_classes_list=list(np.array(train_hosts[[\"class\",\"class_codes\"]].drop_duplicates().sort_values(by='class_codes'))[:,0]), \n",
    "                 predicted_probas=new_predictions)"
   ]
  },
  {
   "cell_type": "markdown",
   "metadata": {
    "heading_collapsed": true
   },
   "source": [
    "### Approach 4\n",
    "\n",
    "Augment the training data set by including some non labeled nodes.\n",
    "\n",
    "The conditions to include a node as labeled X are : \n",
    "- The node should point toward a node labeled X in the non augmented training set\n",
    "- The node should point towards nodes that are all labeled X-\n",
    "- the weight of the link starting from that node should be more than `threshold`\n",
    "\n",
    "We eventually add 3503 more rows in the training set if threshold = 0\n",
    "\n",
    "We can still go with the same logic to the next levels of neighbours if we want to.\n",
    "\n",
    "threhold = 0 == > 3503 more rows in training ==> Local score 1.25-1.26 , LB score 1.15-1.16"
   ]
  },
  {
   "cell_type": "code",
   "execution_count": 630,
   "metadata": {
    "hidden": true
   },
   "outputs": [],
   "source": [
    "threshold = 0"
   ]
  },
  {
   "cell_type": "code",
   "execution_count": 642,
   "metadata": {
    "hidden": true
   },
   "outputs": [
    {
     "name": "stderr",
     "output_type": "stream",
     "text": [
      "d:\\anaconda\\lib\\site-packages\\ipykernel_launcher.py:7: SettingWithCopyWarning: \n",
      "A value is trying to be set on a copy of a slice from a DataFrame\n",
      "\n",
      "See the caveats in the documentation: http://pandas.pydata.org/pandas-docs/stable/user_guide/indexing.html#returning-a-view-versus-a-copy\n",
      "  import sys\n"
     ]
    }
   ],
   "source": [
    "edge_list_train[[\"start_node\",\"class_dest_node\"]]\n",
    "df = edge_list_train.groupby('start_node').agg({\"class_dest_node\":\"nunique\"})\n",
    "nodes_to_keep = df[df[\"class_dest_node\"] == 1].index\n",
    "nodes_not_to_keep = df[df[\"class_dest_node\"] != 1].index\n",
    "df = edge_list_train[(edge_list_train.start_node.isin(nodes_to_keep)) &\n",
    "                (edge_list_train.weight > threshold)]\n",
    "df.drop_duplicates(subset=[\"start_node\",\"class_dest_node\"], inplace=True)"
   ]
  },
  {
   "cell_type": "code",
   "execution_count": 638,
   "metadata": {
    "hidden": true
   },
   "outputs": [],
   "source": [
    "local_train, local_test = train_test_split(train_hosts, random_state=55)"
   ]
  },
  {
   "cell_type": "code",
   "execution_count": 652,
   "metadata": {
    "hidden": true
   },
   "outputs": [],
   "source": [
    "new_train = local_train[[\"text_processed_no_dupl\",\n",
    "                         \"class_codes\"]]"
   ]
  },
  {
   "cell_type": "code",
   "execution_count": 666,
   "metadata": {
    "hidden": true
   },
   "outputs": [],
   "source": [
    "additional_data = pd.concat([df.start_node.apply(whole_preprocessing),\n",
    "                             df.class_dest_node.map(dicc)],\n",
    "                            axis=1).rename(columns= {\"start_node\":\"text_processed_no_dupl\",\n",
    "                                                    \"class_dest_node\":\"class_codes\"})"
   ]
  },
  {
   "cell_type": "code",
   "execution_count": 680,
   "metadata": {
    "hidden": true
   },
   "outputs": [],
   "source": [
    "additional_data.to_csv(\"additional_data_approach4.csv\")"
   ]
  },
  {
   "cell_type": "code",
   "execution_count": 667,
   "metadata": {
    "hidden": true
   },
   "outputs": [],
   "source": [
    "new_train = pd.concat([new_train, additional_data], axis=0)"
   ]
  },
  {
   "cell_type": "code",
   "execution_count": 674,
   "metadata": {
    "hidden": true
   },
   "outputs": [
    {
     "name": "stdout",
     "output_type": "stream",
     "text": [
      "Building tfidf ...\n",
      "Building tfidf : Finished\n"
     ]
    }
   ],
   "source": [
    "tfidf_vectorize_fit, X_train, X_test = build_tf_idf(train_data_corpus=new_train.text_processed_no_dupl, \n",
    "                                                    min_term_frequency=10, \n",
    "                                                    max_term_frequency=5000, \n",
    "                                                    to_transform=local_test.text_processed_no_dupl, \n",
    "                                                    tfidf_vectorize_fit=None)"
   ]
  },
  {
   "cell_type": "code",
   "execution_count": 675,
   "metadata": {
    "hidden": true
   },
   "outputs": [
    {
     "data": {
      "text/plain": [
       "1.2577217856413552"
      ]
     },
     "execution_count": 675,
     "metadata": {},
     "output_type": "execute_result"
    }
   ],
   "source": [
    "svd_model = TruncatedSVD(n_components=500, \n",
    "                         algorithm='randomized',\n",
    "                         n_iter=15)\n",
    "\n",
    "X_train_pd_svd = svd_model.fit_transform(X_train)\n",
    "X_test_pd_svd = svd_model.transform(X_test)\n",
    "\n",
    "svm = SVC(gamma='auto', probability=True)\n",
    "\n",
    "svm.fit(X_train_pd_svd, new_train.class_codes.values)\n",
    "predictions = svm.predict_proba(X_test_pd_svd)\n",
    "compute_score_3(predictions, local_test.class_codes.values)"
   ]
  },
  {
   "cell_type": "code",
   "execution_count": 676,
   "metadata": {
    "hidden": true
   },
   "outputs": [
    {
     "name": "stdout",
     "output_type": "stream",
     "text": [
      "Fitting 3 folds for each of 15 candidates, totalling 45 fits\n"
     ]
    },
    {
     "name": "stderr",
     "output_type": "stream",
     "text": [
      "[Parallel(n_jobs=-1)]: Using backend LokyBackend with 8 concurrent workers.\n",
      "[Parallel(n_jobs=-1)]: Done  16 tasks      | elapsed:  5.4min\n",
      "[Parallel(n_jobs=-1)]: Done  45 out of  45 | elapsed: 14.2min finished\n"
     ]
    },
    {
     "name": "stdout",
     "output_type": "stream",
     "text": [
      "{'C': 1.3894954943731375}\n",
      "Score on the local train cv :  -1.3870178905562165\n"
     ]
    }
   ],
   "source": [
    "svd_model = TruncatedSVD(n_components=500, \n",
    "                         algorithm='randomized',\n",
    "                         n_iter=15)\n",
    "\n",
    "X_train_pd_svd = svd_model.fit_transform(X_train)\n",
    "X_test_pd_svd = svd_model.transform(X_test)\n",
    "\n",
    "\n",
    "grid={\"C\":np.logspace(-2,1,15)}\n",
    "\n",
    "logreg = LogisticRegression(solver='lbfgs',  multi_class='auto', max_iter=25000, n_jobs=-1)\n",
    "svm = SVC(gamma='auto', probability=True)\n",
    "\n",
    "classes_order = LogisticRegression(solver='lbfgs',  multi_class='auto').fit(X_train_pd_svd[:, :2],\n",
    "                                                                            new_train.class_codes.values).classes_\n",
    "score_function = make_scorer(loglikelihood_score, greater_is_better=False, classes_order=classes_order, needs_proba=True)\n",
    "\n",
    "svm = GridSearchCV(svm, grid, cv=3, verbose=3, n_jobs=-1, scoring=score_function)\n",
    "\n",
    "\n",
    "svm.fit(X_train_pd_svd, new_train.class_codes.values)\n",
    "\n",
    "print(svm.best_params_)\n",
    "print('Score on the local train cv : ', svm.best_score_)"
   ]
  },
  {
   "cell_type": "code",
   "execution_count": 683,
   "metadata": {
    "hidden": true
   },
   "outputs": [
    {
     "data": {
      "text/plain": [
       "1.2556472247598378"
      ]
     },
     "execution_count": 683,
     "metadata": {},
     "output_type": "execute_result"
    }
   ],
   "source": [
    "compute_score_3(svm.predict_proba(X_test_pd_svd), local_test.class_codes.values)"
   ]
  },
  {
   "cell_type": "markdown",
   "metadata": {
    "hidden": true
   },
   "source": [
    "***"
   ]
  },
  {
   "cell_type": "code",
   "execution_count": 684,
   "metadata": {
    "hidden": true
   },
   "outputs": [],
   "source": [
    "new_train = train_hosts[[\"text_processed_no_dupl\",\n",
    "                         \"class_codes\"]]\n",
    "new_train = pd.concat([new_train, additional_data], axis=0)"
   ]
  },
  {
   "cell_type": "code",
   "execution_count": 687,
   "metadata": {
    "hidden": true
   },
   "outputs": [],
   "source": [
    "test_hosts = pd.read_csv(\"./test_hosts_UPLOAD_DRIVE.csv\", index_col=0)\n",
    "test_hosts.text = test_hosts.text.apply(literal_eval)\n",
    "\n",
    "test_hosts[\"text_processed\"] = test_hosts.text.apply(process_text, args=(start_fraction, end_fraction,)) \n",
    "test_hosts[\"text_processed\"] = test_hosts.text_processed.apply(join_with_SEP)\n",
    "test_hosts[\"text_processed\"] = replace_by_special_token(test_hosts[\"text_processed\"])\n",
    "test_hosts[\"text_processed\"] = punctuation_by_space(test_hosts[\"text_processed\"])\n",
    "test_hosts[\"text_processed\"] = test_hosts.text_processed.apply(remove_stop_words)\n",
    "test_hosts[\"text_processed\"] = test_hosts.text_processed.apply(split_by_SEP)\n",
    "test_hosts[\"text_processed\"] = test_hosts.text_processed.apply(remove_empty_rows)\n",
    "test_hosts[\"text_processed\"] = test_hosts.text_processed.apply(remove_single_characters)\n",
    "# test_hosts[\"text_processed_no_single_words\"] = test_hosts.text_processed.apply(remove_single_word_rows)\n",
    "test_hosts[\"text_processed_no_dupl\"] = test_hosts.text_processed.apply(lambda x : list(OrderedDict.fromkeys(x)))\n"
   ]
  },
  {
   "cell_type": "code",
   "execution_count": 688,
   "metadata": {
    "hidden": true
   },
   "outputs": [
    {
     "name": "stdout",
     "output_type": "stream",
     "text": [
      "Building tfidf ...\n",
      "Building tfidf : Finished\n"
     ]
    }
   ],
   "source": [
    "tfidf_vectorize_fit, X_train, X_test = build_tf_idf(train_data_corpus=new_train.text_processed_no_dupl, \n",
    "                                                    min_term_frequency=10, \n",
    "                                                    max_term_frequency=5000, \n",
    "                                                    to_transform=test_hosts.text_processed_no_dupl, \n",
    "                                                    tfidf_vectorize_fit=None)"
   ]
  },
  {
   "cell_type": "code",
   "execution_count": 689,
   "metadata": {
    "hidden": true
   },
   "outputs": [
    {
     "name": "stdout",
     "output_type": "stream",
     "text": [
      "Fitting 3 folds for each of 15 candidates, totalling 45 fits\n"
     ]
    },
    {
     "name": "stderr",
     "output_type": "stream",
     "text": [
      "[Parallel(n_jobs=-1)]: Using backend LokyBackend with 8 concurrent workers.\n",
      "[Parallel(n_jobs=-1)]: Done  16 tasks      | elapsed:  6.5min\n",
      "[Parallel(n_jobs=-1)]: Done  45 out of  45 | elapsed: 16.7min finished\n"
     ]
    },
    {
     "name": "stdout",
     "output_type": "stream",
     "text": [
      "{'C': 10.0}\n",
      "Score on the local train cv :  -1.3754038084458038\n"
     ]
    }
   ],
   "source": [
    "svd_model = TruncatedSVD(n_components=500, \n",
    "                         algorithm='randomized',\n",
    "                         n_iter=15)\n",
    "\n",
    "X_train_pd_svd = svd_model.fit_transform(X_train)\n",
    "X_test_pd_svd = svd_model.transform(X_test)\n",
    "\n",
    "\n",
    "grid={\"C\":np.logspace(-2,1,15)}\n",
    "\n",
    "logreg = LogisticRegression(solver='lbfgs',  multi_class='auto', max_iter=25000, n_jobs=-1)\n",
    "svm = SVC(gamma='auto', probability=True)\n",
    "\n",
    "classes_order = LogisticRegression(solver='lbfgs',  multi_class='auto').fit(X_train_pd_svd[:, :2],\n",
    "                                                                            new_train.class_codes.values).classes_\n",
    "score_function = make_scorer(loglikelihood_score, greater_is_better=False, classes_order=classes_order, needs_proba=True)\n",
    "\n",
    "svm = GridSearchCV(svm, grid, cv=3, verbose=3, n_jobs=-1, scoring=score_function)\n",
    "\n",
    "\n",
    "svm.fit(X_train_pd_svd, new_train.class_codes.values)\n",
    "\n",
    "print(svm.best_params_)\n",
    "print('Score on the local train cv : ', svm.best_score_)"
   ]
  },
  {
   "cell_type": "code",
   "execution_count": 697,
   "metadata": {
    "hidden": true
   },
   "outputs": [],
   "source": [
    "predictions = svm.predict_proba(X_test_pd_svd)"
   ]
  },
  {
   "cell_type": "code",
   "execution_count": 698,
   "metadata": {
    "hidden": true
   },
   "outputs": [],
   "source": [
    "write_submission(\"./outputs/wrap_up_12_HK_Approach4_text_processed_no_dupl_SVDSVM_defaultSVM.csv\", \n",
    "                 list(test_hosts[\"index\"]), \n",
    "                 model_classes_list=list(np.array(train_hosts[[\"class\",\"class_codes\"]].drop_duplicates().sort_values(by='class_codes'))[:,0]), \n",
    "                 predicted_probas=predictions)"
   ]
  },
  {
   "cell_type": "markdown",
   "metadata": {
    "heading_collapsed": true
   },
   "source": [
    "### Approach 3 : \n",
    "\n",
    "- fit the model with approach 1 (or any other model )\n",
    "- for the prediction phase :\n",
    "    - for a given node in the testing set :\n",
    "        - predict the probas of the node\n",
    "        - use the neighbours :\n",
    "            - predict the probas of all its neighbours that have a link weight of more than `threshold` (if there are any)\n",
    "           \n",
    "           OR\n",
    "           \n",
    "            - concat their contents and predict\n",
    "        - average the two vector of probabilities (we can weight them if we want)\n",
    "\n",
    "all the tresholds tested and the weighting tested led to worse performance : local score : > 1.28 whereas only using the aproach 1 gives 1.28 "
   ]
  },
  {
   "cell_type": "code",
   "execution_count": null,
   "metadata": {
    "hidden": true
   },
   "outputs": [],
   "source": [
    "svd_model = TruncatedSVD(n_components=500, \n",
    "                     algorithm='randomized',\n",
    "                         n_iter=15)\n",
    "\n",
    "X_train_pd_svd = svd_model.fit_transform(X_train)\n",
    "X_test_pd_svd = svd_model.transform(X_test)\n",
    "\n",
    "params = svm.best_params_\n",
    "svm_all_train = SVC(gamma='auto', probability=True, C = params[\"C\"])\n",
    "svm_all_train.fit(X_train_pd_svd, local_train.class_codes.values)"
   ]
  },
  {
   "cell_type": "code",
   "execution_count": 264,
   "metadata": {
    "hidden": true
   },
   "outputs": [
    {
     "name": "stdout",
     "output_type": "stream",
     "text": [
      "498/499"
     ]
    }
   ],
   "source": [
    "th = 2000\n",
    "weight_proba_node = 0.5\n",
    "weight_proba_neighbours = 0.5\n",
    "predictions = []\n",
    "LEN = local_test[\"index\"].values.shape[0]\n",
    "\n",
    "for i, ind in enumerate(local_test[\"index\"].values) :\n",
    "# for ind in [10837] :\n",
    "    sys.stdout.write('\\r'+str(i)+\"/\"+str(LEN))\n",
    "    \n",
    "#     pred_node = svm_all_train.predict_proba(\n",
    "#         svd_model.transform(\n",
    "#             tfidf_vectorize_fit.transform(\n",
    "#                 [\" \".join(whole_preprocessing(ind))]\n",
    "#             )\n",
    "#         )\n",
    "#     )\n",
    "    \n",
    "    pred_node = svm_all_train.predict_proba([X_test_pd_svd[i]])\n",
    "    \n",
    "    pred_neighbours_node = []\n",
    "    \n",
    "    for node in edge_list[(edge_list.dest_node == ind)&(edge_list.weight > th) ].start_node.values :\n",
    "        \n",
    "        pred_neighbours_node.append(\n",
    "            svm_all_train.predict_proba(svd_model.transform(tfidf_vectorize_fit.transform([\" \".join(whole_preprocessing(node))])))\n",
    "        )\n",
    "    if pred_neighbours_node == [] :\n",
    "        predictions.append(pred_node[0])\n",
    "    else :\n",
    "        pred_neighbours_node.append(\n",
    "            svm_all_train.predict_proba(\n",
    "                svd_model.transform(\n",
    "                    tfidf_vectorize_fit.transform([\" \".join(CONCAT_txt)])\n",
    "                )\n",
    "            )\n",
    "        )\n",
    "        pred_neighbours_node = pred_neighbours_node[0].mean(axis=0).reshape(1, -1)\n",
    "\n",
    "        predictions.append(np.concatenate((pred_node * weight_proba_node,\n",
    "                                           pred_neighbours_node * weight_proba_neighbours\n",
    "                                          ),\n",
    "                                          axis=0).mean(axis=0)\n",
    "                          )\n",
    "####################################\"\"\n",
    "    \n",
    "#     CONCAT_txt =  [\" \".join([\" \".join(whole_preprocessing(node))]) \n",
    "#                    for node in edge_list[(edge_list.dest_node == ind)&(edge_list.weight > th) ].start_node.values]\n",
    "    \n",
    "#     if CONCAT_txt == [] :\n",
    "#         predictions.append(pred_node[0])\n",
    "#     else :\n",
    "#         pred_neighbours_node.append(\n",
    "#             svm_all_train.predict_proba(\n",
    "#                 svd_model.transform(\n",
    "#                     tfidf_vectorize_fit.transform([\" \".join(CONCAT_txt)])\n",
    "#                 )\n",
    "#             )\n",
    "#         )\n",
    "#         pred_neighbours_node = pred_neighbours_node[0].mean(axis=0).reshape(1, -1)\n",
    "\n",
    "#         predictions.append(np.concatenate((pred_node * weight_proba_node,\n",
    "#                                            pred_neighbours_node * weight_proba_neighbours\n",
    "#                                           ),\n",
    "#                                           axis=0).mean(axis=0)\n",
    "#                           )\n",
    "#############################\n",
    "    \n",
    "\n",
    "predictions = np.array(predictions)"
   ]
  },
  {
   "cell_type": "code",
   "execution_count": 265,
   "metadata": {
    "hidden": true
   },
   "outputs": [
    {
     "data": {
      "text/plain": [
       "1.382377940207255"
      ]
     },
     "execution_count": 265,
     "metadata": {},
     "output_type": "execute_result"
    }
   ],
   "source": [
    "compute_score_3(predictions, local_test.class_codes.values)"
   ]
  },
  {
   "cell_type": "markdown",
   "metadata": {
    "heading_collapsed": true
   },
   "source": [
    "### Approach 2 :\n",
    "\n",
    "same as approach 1 but we augment the training data set ==> Using the labeled texts and their direct neighbors in the training with the same label : \n",
    "- unweighted\n",
    "- weighted : 70% central node and 30% divided by their number for the neighbors\n",
    "\n",
    "local : 1.50"
   ]
  },
  {
   "cell_type": "code",
   "execution_count": null,
   "metadata": {
    "hidden": true
   },
   "outputs": [],
   "source": [
    "new_train = list()\n",
    "new_train_target = list()\n",
    "\n",
    "for i in range(local_train.shape[0]) :\n",
    "    \n",
    "    new_train.append(local_train[\"text_processed_2\"].iloc[i])\n",
    "    cla = local_train[\"class_codes\"].iloc[i]\n",
    "    new_train_target.append(cla)\n",
    "\n",
    "    for node in list(g.neighbors(str(local_train[\"index\"].iloc[i]))): \n",
    "\n",
    "        new_train.append(whole_preprocessing(node))\n",
    "        new_train_target.append(cla)\n",
    "        \n",
    "tfidf_vectorize_fit, X_train, X_test = build_tf_idf(train_data_corpus=pd.Series(new_train), \n",
    "                                                    min_term_frequency=10, \n",
    "                                                    max_term_frequency=5000, \n",
    "                                                    to_transform=local_test.text_processed_2, \n",
    "                                                    tfidf_vectorize_fit=None)\n",
    "\n",
    "logreg = LogisticRegression(solver='lbfgs',  multi_class='auto', max_iter=25000, n_jobs=-1)\n",
    "logreg.fit(X_train, new_train_target)\n",
    "predictions = logreg.predict_proba(X_test)\n",
    "compute_score_3(predictions, local_test.class_codes.values)\n",
    "\n",
    "weights_train = list()\n",
    "for i in range(local_train.shape[0]) :\n",
    "    weights_train.append(0.7)\n",
    "    n_neighbors = len(list(g.neighbors(str(local_train[\"index\"].iloc[i]))))\n",
    "    for _ in range(n_neighbors):\n",
    "        weights_train.append(0.3/n_neighbors)\n",
    "logreg = LogisticRegression(solver='lbfgs',  multi_class='auto', max_iter=25000, n_jobs=-1)\n",
    "logreg.fit(X_train, new_train_target, sample_weight = weights_train)\n",
    "predictions = logreg.predict_proba(X_test)\n",
    "compute_score_3(predictions, local_test.class_codes.values)"
   ]
  },
  {
   "cell_type": "markdown",
   "metadata": {
    "heading_collapsed": true
   },
   "source": [
    "## SVD + LogReg"
   ]
  },
  {
   "cell_type": "code",
   "execution_count": 129,
   "metadata": {
    "hidden": true,
    "scrolled": true
   },
   "outputs": [
    {
     "data": {
      "text/plain": [
       "1.3666106983067237"
      ]
     },
     "execution_count": 129,
     "metadata": {},
     "output_type": "execute_result"
    }
   ],
   "source": [
    "svd_model = TruncatedSVD(n_components=500, \n",
    "                         algorithm='randomized',\n",
    "                         n_iter=15)\n",
    "\n",
    "X_train_pd_svd = svd_model.fit_transform(X_train)\n",
    "X_test_pd_svd = svd_model.transform(X_test)\n",
    "\n",
    "logreg = LogisticRegression(solver='lbfgs',  multi_class='auto', max_iter=25000, n_jobs=-1)\n",
    "logreg.fit(X_train_pd_svd, local_train.class_codes.values)\n",
    "predictions = logreg.predict_proba(X_test_pd_svd)\n",
    "compute_score_3(predictions, local_test.class_codes.values)"
   ]
  },
  {
   "cell_type": "markdown",
   "metadata": {
    "heading_collapsed": true
   },
   "source": [
    "## SVD + NN classifier"
   ]
  },
  {
   "cell_type": "code",
   "execution_count": 31,
   "metadata": {
    "hidden": true
   },
   "outputs": [],
   "source": [
    "svd_model = TruncatedSVD(n_components=500, \n",
    "                         algorithm='randomized',\n",
    "                         n_iter=15)\n",
    "\n",
    "X_train_pd_svd = svd_model.fit_transform(X_train)\n",
    "X_test_pd_svd = svd_model.transform(X_test)\n",
    "\n",
    "X_train_pd_svd = torch.FloatTensor(X_train_pd_svd).to(\"cuda\")\n",
    "X_test_pd_svd = torch.FloatTensor(X_test_pd_svd).to(\"cuda\")\n",
    "\n",
    "ytrain = torch.LongTensor(local_train.class_codes.values).to(\"cuda\")\n",
    "ytest = torch.LongTensor(local_test.class_codes.values).to(\"cuda\")"
   ]
  },
  {
   "cell_type": "code",
   "execution_count": 32,
   "metadata": {
    "hidden": true
   },
   "outputs": [
    {
     "data": {
      "text/plain": [
       "torch.Size([1495, 500])"
      ]
     },
     "execution_count": 32,
     "metadata": {},
     "output_type": "execute_result"
    }
   ],
   "source": [
    "X_train_pd_svd.shape"
   ]
  },
  {
   "cell_type": "code",
   "execution_count": 517,
   "metadata": {
    "hidden": true
   },
   "outputs": [],
   "source": [
    "class Net(nn.Module):\n",
    "    def __init__(self, input_shape, output_shape, dropout):\n",
    "        super(Net, self).__init__()\n",
    "        self.fc1 = nn.Linear(input_shape, 30)\n",
    "        self.fc256_256 = nn.Linear(256, 256)\n",
    "        self.fc128_128 = nn.Linear(128, 128)\n",
    "        self.fc64_64 = nn.Linear(64, 64)\n",
    "        \n",
    "        self.fc256_128 = nn.Linear(256, 128)\n",
    "        self.fc128_64 = nn.Linear(128, 64)\n",
    "        self.fc4 = nn.Linear(30, output_shape)\n",
    "\n",
    "        self.dropout = nn.Dropout(dropout)\n",
    "        self.relu = nn.ReLU()\n",
    "        self.tanh = nn.Tanh()\n",
    "        \n",
    "        self.seq = nn.Sequential(self.fc1,\n",
    "                                 self.relu,\n",
    "                                 self.dropout,\n",
    "#                                  nn.Linear(100, 50),\n",
    "#                                  self.relu,\n",
    "#                                  self.dropout,\n",
    "                                 self.fc4\n",
    "                                )\n",
    "                                 \n",
    "        \n",
    "    def forward(self, x):\n",
    "        x = self.seq(x)\n",
    "        return x"
   ]
  },
  {
   "cell_type": "code",
   "execution_count": 564,
   "metadata": {
    "hidden": true
   },
   "outputs": [
    {
     "name": "stdout",
     "output_type": "stream",
     "text": [
      "Epoch: 001 loss_train: 2.0923 time: 0.0020s\n",
      "Epoch: 101 loss_train: 1.4237 time: 0.0020s\n",
      "Epoch: 201 loss_train: 1.2338 time: 0.0030s\n",
      "Epoch: 301 loss_train: 1.1098 time: 0.0020s\n",
      "Epoch: 401 loss_train: 1.0439 time: 0.0030s\n",
      "Epoch: 501 loss_train: 0.9772 time: 0.0020s\n",
      "Epoch: 601 loss_train: 0.9592 time: 0.0020s\n",
      "Epoch: 701 loss_train: 0.9184 time: 0.0030s\n",
      "Epoch: 801 loss_train: 0.8631 time: 0.0020s\n",
      "Epoch: 901 loss_train: 0.8371 time: 0.0010s\n",
      "Optimization Finished!\n",
      "Total time elapsed: 2.9358s\n",
      "\n",
      "Test set results: loss= 1.3444\n"
     ]
    },
    {
     "data": {
      "text/plain": [
       "<matplotlib.legend.Legend at 0x27f7eee6c50>"
      ]
     },
     "execution_count": 564,
     "metadata": {},
     "output_type": "execute_result"
    },
    {
     "data": {
      "image/png": "[encoded data removed]",
      "text/plain": [
       "<Figure size 432x288 with 1 Axes>"
      ]
     },
     "metadata": {
      "needs_background": "light"
     },
     "output_type": "display_data"
    }
   ],
   "source": [
    "epochs = 1000\n",
    "learning_rate = 0.01\n",
    "dropout = 0.6\n",
    "\n",
    "net = Net(input_shape=X_train_pd_svd.shape[1],\n",
    "          output_shape=8,\n",
    "          dropout=dropout)\n",
    "net.to(\"cuda\")\n",
    "\n",
    "criterion = nn.CrossEntropyLoss()\n",
    "optimizer = optim.Adagrad(net.parameters(), lr=learning_rate)\n",
    "\n",
    "def train(epoch):\n",
    "    t = time.time()\n",
    "    net.train()\n",
    "    optimizer.zero_grad()\n",
    "    output = net(X_train_pd_svd)\n",
    "    loss_train = criterion(output, ytrain)\n",
    "    loss_train.backward()\n",
    "    optimizer.step()\n",
    "    if epoch%100 == 0 :\n",
    "        print('Epoch: {:03d}'.format(epoch+1),\n",
    "              'loss_train: {:.4f}'.format(loss_train.item()),\n",
    "              'time: {:.4f}s'.format(time.time() - t))\n",
    "    return loss_train.item()\n",
    "def test():\n",
    "    net.eval()\n",
    "    output = net(X_test_pd_svd)\n",
    "    loss_test = criterion(output, ytest)\n",
    "\n",
    "    return loss_test.item()\n",
    "\n",
    "t_total = time.time()\n",
    "training_loss_evolution = []\n",
    "validation_loss_evolution = []\n",
    "for epoch in range(epochs):\n",
    "    training_loss_evolution.append(train(epoch))\n",
    "    validation_loss_evolution.append(test())\n",
    "print(\"Optimization Finished!\")\n",
    "print(\"Total time elapsed: {:.4f}s\".format(time.time() - t_total))\n",
    "print()\n",
    "\n",
    "# Testing\n",
    "loss_test = test()\n",
    "print(\"Test set results:\",\n",
    "      \"loss= {:.4f}\".format(loss_test),)\n",
    "\n",
    "# plt.ylim(0,2.5)\n",
    "plt.plot(range(epochs), training_loss_evolution, label=\"training loss\" )\n",
    "plt.plot(range(epochs), validation_loss_evolution, label=\"validation loss\" )\n",
    "plt.legend()"
   ]
  },
  {
   "cell_type": "code",
   "execution_count": 565,
   "metadata": {
    "hidden": true
   },
   "outputs": [
    {
     "data": {
      "text/plain": [
       "0.6529888233426884"
      ]
     },
     "execution_count": 565,
     "metadata": {},
     "output_type": "execute_result"
    }
   ],
   "source": [
    "net.eval()\n",
    "output = net(X_train_pd_svd)\n",
    "compute_score_3(torch.softmax(output, dim=1).detach().cpu().numpy(), ytrain.detach().cpu().numpy())"
   ]
  },
  {
   "cell_type": "code",
   "execution_count": 566,
   "metadata": {
    "hidden": true
   },
   "outputs": [
    {
     "data": {
      "text/plain": [
       "1.3444134069080342"
      ]
     },
     "execution_count": 566,
     "metadata": {},
     "output_type": "execute_result"
    }
   ],
   "source": [
    "net.eval()\n",
    "output = net(X_test_pd_svd)\n",
    "compute_score_3(torch.softmax(output, dim=1).detach().cpu().numpy(), ytest.detach().cpu().numpy())"
   ]
  },
  {
   "cell_type": "code",
   "execution_count": 567,
   "metadata": {
    "hidden": true
   },
   "outputs": [
    {
     "data": {
      "text/plain": [
       "1.344298005104065"
      ]
     },
     "execution_count": 567,
     "metadata": {},
     "output_type": "execute_result"
    }
   ],
   "source": [
    "min(validation_loss_evolution)"
   ]
  },
  {
   "cell_type": "code",
   "execution_count": null,
   "metadata": {
    "hidden": true
   },
   "outputs": [],
   "source": []
  },
  {
   "cell_type": "code",
   "execution_count": null,
   "metadata": {
    "hidden": true
   },
   "outputs": [],
   "source": []
  },
  {
   "cell_type": "code",
   "execution_count": null,
   "metadata": {
    "hidden": true
   },
   "outputs": [],
   "source": []
  },
  {
   "cell_type": "markdown",
   "metadata": {
    "heading_collapsed": true
   },
   "source": [
    "# Tfidf features + GNN"
   ]
  },
  {
   "cell_type": "code",
   "execution_count": 19,
   "metadata": {
    "hidden": true
   },
   "outputs": [
    {
     "name": "stdout",
     "output_type": "stream",
     "text": [
      "Building tfidf ...\n",
      "Building tfidf : Finished\n"
     ]
    }
   ],
   "source": [
    "tfidf_vectorize_fit, X_train, X_test = build_tf_idf(train_data_corpus=local_train.text_processed_no_single_words, \n",
    "                                                    min_term_frequency=10, \n",
    "                                                    max_term_frequency=3000, \n",
    "                                                    to_transform=local_test.text_processed_no_single_words, \n",
    "                                                    tfidf_vectorize_fit=None)\n",
    "svd_model = TruncatedSVD(n_components=500, \n",
    "                         algorithm='randomized',\n",
    "                         n_iter=15)\n",
    "\n",
    "X_train_pd_svd = svd_model.fit_transform(X_train)\n",
    "X_test_pd_svd = svd_model.transform(X_test)"
   ]
  },
  {
   "cell_type": "code",
   "execution_count": 24,
   "metadata": {
    "hidden": true
   },
   "outputs": [],
   "source": [
    "# features = np.concatenate((X_train_pd_svd, X_test_pd_svd))\n",
    "features = np.concatenate((X_train.todense(), X_test.todense()))"
   ]
  },
  {
   "cell_type": "code",
   "execution_count": 20,
   "metadata": {
    "hidden": true
   },
   "outputs": [
    {
     "name": "stdout",
     "output_type": "stream",
     "text": [
      "Number of nodes :  28002\n",
      "Number of edges :  319498\n"
     ]
    }
   ],
   "source": [
    "g = build_graph()\n",
    "g_sub = nx.subgraph(g, list(local_train[\"index\"].astype(str))+list(local_test[\"index\"].astype(str)))\n",
    "\n",
    "n = g_sub.number_of_nodes()"
   ]
  },
  {
   "cell_type": "code",
   "execution_count": 21,
   "metadata": {
    "hidden": true
   },
   "outputs": [],
   "source": [
    "y = np.array(list(local_train[\"class_codes\"]) + list(local_test[\"class_codes\"]) )\n",
    "n_class = 8"
   ]
  },
  {
   "cell_type": "code",
   "execution_count": 22,
   "metadata": {
    "hidden": true
   },
   "outputs": [],
   "source": [
    "adj = nx.to_numpy_matrix(g_sub) # Obtains the adjacency matrix\n",
    "adj = normalize_adjacency(adj) # Normalizes the adjacency matrix"
   ]
  },
  {
   "cell_type": "code",
   "execution_count": 25,
   "metadata": {
    "hidden": true
   },
   "outputs": [],
   "source": [
    "idx_train = range(local_train.shape[0])\n",
    "idx_test = range(local_train.shape[0], local_train.shape[0]+local_test.shape[0])\n",
    "\n",
    "# Transforms the numpy matrices/vectors to torch tensors\n",
    "features = torch.FloatTensor(features).to(\"cuda\")\n",
    "y = torch.LongTensor(y).to(\"cuda\")\n",
    "adj = torch.FloatTensor(adj).to(\"cuda\")\n",
    "idx_train = torch.LongTensor(idx_train)\n",
    "idx_test = torch.LongTensor(idx_test)"
   ]
  },
  {
   "cell_type": "code",
   "execution_count": 26,
   "metadata": {
    "hidden": true
   },
   "outputs": [],
   "source": [
    "# Hyperparameters\n",
    "epochs = 200\n",
    "n_hidden_1 = 1024\n",
    "n_hidden_2 = 512\n",
    "n_hidden_3 = 64\n",
    "learning_rate = 0.001\n",
    "dropout_rate = 0.3\n",
    "\n",
    "model = GNN(features.shape[1], \n",
    "                n_hidden_1, \n",
    "                n_hidden_2, \n",
    "                n_hidden_3,\n",
    "                n_class, \n",
    "                dropout_rate)\n",
    "model.cuda()\n",
    "\n",
    "optimizer = optim.Adam(model.parameters(), lr=learning_rate)\n",
    "loss = torch.nn.CrossEntropyLoss()"
   ]
  },
  {
   "cell_type": "code",
   "execution_count": 27,
   "metadata": {
    "hidden": true
   },
   "outputs": [],
   "source": [
    "def train(epoch):\n",
    "    t = time.time()\n",
    "    model.train()\n",
    "    optimizer.zero_grad()\n",
    "    output = model(features, adj)\n",
    "    loss_train = loss(output[idx_train], y[idx_train])\n",
    "    loss_train.backward()\n",
    "    optimizer.step()\n",
    "\n",
    "    print('Epoch: {:03d}'.format(epoch+1),\n",
    "          'loss_train: {:.4f}'.format(loss_train.item()),\n",
    "          'time: {:.4f}s'.format(time.time() - t))\n",
    "\n",
    "    return loss_train.item()\n",
    "def test():\n",
    "    model.eval()\n",
    "    output = model(features, adj)\n",
    "    loss_test = loss(output[idx_test], y[idx_test])\n",
    "\n",
    "    return loss_test.item()"
   ]
  },
  {
   "cell_type": "code",
   "execution_count": 28,
   "metadata": {
    "hidden": true,
    "scrolled": true
   },
   "outputs": [
    {
     "name": "stdout",
     "output_type": "stream",
     "text": [
      "Epoch: 001 loss_train: 2.0701 time: 2.3746s\n",
      "Epoch: 002 loss_train: 2.0587 time: 0.0828s\n",
      "Epoch: 003 loss_train: 2.0490 time: 0.0787s\n",
      "Epoch: 004 loss_train: 2.0339 time: 0.0767s\n",
      "Epoch: 005 loss_train: 2.0090 time: 0.0738s\n",
      "Epoch: 006 loss_train: 1.9749 time: 0.0708s\n",
      "Epoch: 007 loss_train: 1.9264 time: 0.0724s\n",
      "Epoch: 008 loss_train: 1.8776 time: 0.0746s\n",
      "Epoch: 009 loss_train: 1.8220 time: 0.0708s\n",
      "Epoch: 010 loss_train: 1.8075 time: 0.0735s\n",
      "Epoch: 011 loss_train: 1.7943 time: 0.0724s\n",
      "Epoch: 012 loss_train: 1.7741 time: 0.0703s\n",
      "Epoch: 013 loss_train: 1.7432 time: 0.0738s\n",
      "Epoch: 014 loss_train: 1.7189 time: 0.0738s\n",
      "Epoch: 015 loss_train: 1.6750 time: 0.0748s\n",
      "Epoch: 016 loss_train: 1.6383 time: 0.0747s\n",
      "Epoch: 017 loss_train: 1.6271 time: 0.0728s\n",
      "Epoch: 018 loss_train: 1.5776 time: 0.0733s\n",
      "Epoch: 019 loss_train: 1.5432 time: 0.0708s\n",
      "Epoch: 020 loss_train: 1.4884 time: 0.0739s\n",
      "Epoch: 021 loss_train: 1.4442 time: 0.0725s\n",
      "Epoch: 022 loss_train: 1.3838 time: 0.0728s\n",
      "Epoch: 023 loss_train: 1.3354 time: 0.0729s\n",
      "Epoch: 024 loss_train: 1.3045 time: 0.0728s\n",
      "Epoch: 025 loss_train: 1.2522 time: 0.0708s\n",
      "Epoch: 026 loss_train: 1.2190 time: 0.0719s\n",
      "Epoch: 027 loss_train: 1.1762 time: 0.0754s\n",
      "Epoch: 028 loss_train: 1.1362 time: 0.0698s\n",
      "Epoch: 029 loss_train: 1.0981 time: 0.0738s\n",
      "Epoch: 030 loss_train: 1.0618 time: 0.0718s\n",
      "Epoch: 031 loss_train: 1.0175 time: 0.0718s\n",
      "Epoch: 032 loss_train: 0.9829 time: 0.0738s\n",
      "Epoch: 033 loss_train: 0.9633 time: 0.0742s\n",
      "Epoch: 034 loss_train: 0.9383 time: 0.0718s\n",
      "Epoch: 035 loss_train: 0.8952 time: 0.0738s\n",
      "Epoch: 036 loss_train: 0.8717 time: 0.0732s\n",
      "Epoch: 037 loss_train: 0.8562 time: 0.0728s\n",
      "Epoch: 038 loss_train: 0.8157 time: 0.0738s\n",
      "Epoch: 039 loss_train: 0.7844 time: 0.0718s\n",
      "Epoch: 040 loss_train: 0.7532 time: 0.0742s\n",
      "Epoch: 041 loss_train: 0.7298 time: 0.0723s\n",
      "Epoch: 042 loss_train: 0.7167 time: 0.0751s\n",
      "Epoch: 043 loss_train: 0.6738 time: 0.0728s\n",
      "Epoch: 044 loss_train: 0.6759 time: 0.0718s\n",
      "Epoch: 045 loss_train: 0.6297 time: 0.0738s\n",
      "Epoch: 046 loss_train: 0.6175 time: 0.0738s\n",
      "Epoch: 047 loss_train: 0.6059 time: 0.0738s\n",
      "Epoch: 048 loss_train: 0.5817 time: 0.0708s\n",
      "Epoch: 049 loss_train: 0.5651 time: 0.0728s\n",
      "Epoch: 050 loss_train: 0.5500 time: 0.0734s\n",
      "Epoch: 051 loss_train: 0.5405 time: 0.0734s\n",
      "Epoch: 052 loss_train: 0.5265 time: 0.0709s\n",
      "Epoch: 053 loss_train: 0.5126 time: 0.0765s\n",
      "Epoch: 054 loss_train: 0.4963 time: 0.0718s\n",
      "Epoch: 055 loss_train: 0.4828 time: 0.0728s\n",
      "Epoch: 056 loss_train: 0.4754 time: 0.0747s\n",
      "Epoch: 057 loss_train: 0.4892 time: 0.0714s\n",
      "Epoch: 058 loss_train: 0.4595 time: 0.0753s\n",
      "Epoch: 059 loss_train: 0.4555 time: 0.0718s\n",
      "Epoch: 060 loss_train: 0.4491 time: 0.0728s\n",
      "Epoch: 061 loss_train: 0.4390 time: 0.0718s\n",
      "Epoch: 062 loss_train: 0.4319 time: 0.0745s\n",
      "Epoch: 063 loss_train: 0.4270 time: 0.0738s\n",
      "Epoch: 064 loss_train: 0.4053 time: 0.0728s\n",
      "Epoch: 065 loss_train: 0.4140 time: 0.0738s\n",
      "Epoch: 066 loss_train: 0.4059 time: 0.0746s\n",
      "Epoch: 067 loss_train: 0.4049 time: 0.0748s\n",
      "Epoch: 068 loss_train: 0.3900 time: 0.0724s\n",
      "Epoch: 069 loss_train: 0.3843 time: 0.0736s\n",
      "Epoch: 070 loss_train: 0.3836 time: 0.0758s\n",
      "Epoch: 071 loss_train: 0.3852 time: 0.0728s\n",
      "Epoch: 072 loss_train: 0.3751 time: 0.0730s\n",
      "Epoch: 073 loss_train: 0.3765 time: 0.0737s\n",
      "Epoch: 074 loss_train: 0.3631 time: 0.0738s\n",
      "Epoch: 075 loss_train: 0.3642 time: 0.0718s\n",
      "Epoch: 076 loss_train: 0.3597 time: 0.0752s\n",
      "Epoch: 077 loss_train: 0.3454 time: 0.0728s\n",
      "Epoch: 078 loss_train: 0.3518 time: 0.0747s\n",
      "Epoch: 079 loss_train: 0.3491 time: 0.0727s\n",
      "Epoch: 080 loss_train: 0.3525 time: 0.0738s\n",
      "Epoch: 081 loss_train: 0.3447 time: 0.0728s\n",
      "Epoch: 082 loss_train: 0.3392 time: 0.0718s\n",
      "Epoch: 083 loss_train: 0.3327 time: 0.0738s\n",
      "Epoch: 084 loss_train: 0.3235 time: 0.0738s\n",
      "Epoch: 085 loss_train: 0.3291 time: 0.0758s\n",
      "Epoch: 086 loss_train: 0.3293 time: 0.0728s\n",
      "Epoch: 087 loss_train: 0.3283 time: 0.0748s\n",
      "Epoch: 088 loss_train: 0.3196 time: 0.0730s\n",
      "Epoch: 089 loss_train: 0.3169 time: 0.0724s\n",
      "Epoch: 090 loss_train: 0.3110 time: 0.0734s\n",
      "Epoch: 091 loss_train: 0.3088 time: 0.0738s\n",
      "Epoch: 092 loss_train: 0.3071 time: 0.0729s\n",
      "Epoch: 093 loss_train: 0.3063 time: 0.0718s\n",
      "Epoch: 094 loss_train: 0.3006 time: 0.0748s\n",
      "Epoch: 095 loss_train: 0.3049 time: 0.0738s\n",
      "Epoch: 096 loss_train: 0.2991 time: 0.0748s\n",
      "Epoch: 097 loss_train: 0.2931 time: 0.0757s\n",
      "Epoch: 098 loss_train: 0.2880 time: 0.0738s\n",
      "Epoch: 099 loss_train: 0.2975 time: 0.0738s\n",
      "Epoch: 100 loss_train: 0.2850 time: 0.0708s\n",
      "Epoch: 101 loss_train: 0.2903 time: 0.0728s\n",
      "Epoch: 102 loss_train: 0.2875 time: 0.0738s\n",
      "Epoch: 103 loss_train: 0.2909 time: 0.0742s\n",
      "Epoch: 104 loss_train: 0.2822 time: 0.0741s\n",
      "Epoch: 105 loss_train: 0.2840 time: 0.0738s\n",
      "Epoch: 106 loss_train: 0.2781 time: 0.0728s\n",
      "Epoch: 107 loss_train: 0.2820 time: 0.0728s\n",
      "Epoch: 108 loss_train: 0.2861 time: 0.0758s\n",
      "Epoch: 109 loss_train: 0.2773 time: 0.0738s\n",
      "Epoch: 110 loss_train: 0.2595 time: 0.0738s\n",
      "Epoch: 111 loss_train: 0.2698 time: 0.0734s\n",
      "Epoch: 112 loss_train: 0.2639 time: 0.0743s\n",
      "Epoch: 113 loss_train: 0.2565 time: 0.0748s\n",
      "Epoch: 114 loss_train: 0.2600 time: 0.0722s\n",
      "Epoch: 115 loss_train: 0.2681 time: 0.0743s\n",
      "Epoch: 116 loss_train: 0.2695 time: 0.0723s\n",
      "Epoch: 117 loss_train: 0.2689 time: 0.0738s\n",
      "Epoch: 118 loss_train: 0.2521 time: 0.0738s\n",
      "Epoch: 119 loss_train: 0.2546 time: 0.0732s\n",
      "Epoch: 120 loss_train: 0.2647 time: 0.0748s\n",
      "Epoch: 121 loss_train: 0.2510 time: 0.0735s\n",
      "Epoch: 122 loss_train: 0.2449 time: 0.0754s\n",
      "Epoch: 123 loss_train: 0.2579 time: 0.0738s\n",
      "Epoch: 124 loss_train: 0.2583 time: 0.0718s\n",
      "Epoch: 125 loss_train: 0.2468 time: 0.0728s\n",
      "Epoch: 126 loss_train: 0.2531 time: 0.0738s\n",
      "Epoch: 127 loss_train: 0.2459 time: 0.0728s\n",
      "Epoch: 128 loss_train: 0.2398 time: 0.0728s\n",
      "Epoch: 129 loss_train: 0.2358 time: 0.0748s\n",
      "Epoch: 130 loss_train: 0.2448 time: 0.0718s\n",
      "Epoch: 131 loss_train: 0.2453 time: 0.0724s\n",
      "Epoch: 132 loss_train: 0.2437 time: 0.0738s\n",
      "Epoch: 133 loss_train: 0.2383 time: 0.0738s\n",
      "Epoch: 134 loss_train: 0.2327 time: 0.0708s\n",
      "Epoch: 135 loss_train: 0.2359 time: 0.0719s\n",
      "Epoch: 136 loss_train: 0.2487 time: 0.0728s\n",
      "Epoch: 137 loss_train: 0.2391 time: 0.0738s\n",
      "Epoch: 138 loss_train: 0.2289 time: 0.0723s\n",
      "Epoch: 139 loss_train: 0.2237 time: 0.0738s\n",
      "Epoch: 140 loss_train: 0.2367 time: 0.0728s\n",
      "Epoch: 141 loss_train: 0.2318 time: 0.0737s\n",
      "Epoch: 142 loss_train: 0.2274 time: 0.0748s\n",
      "Epoch: 143 loss_train: 0.2106 time: 0.0738s\n",
      "Epoch: 144 loss_train: 0.2268 time: 0.0731s\n",
      "Epoch: 145 loss_train: 0.2248 time: 0.0758s\n",
      "Epoch: 146 loss_train: 0.2183 time: 0.0738s\n",
      "Epoch: 147 loss_train: 0.2256 time: 0.0714s\n",
      "Epoch: 148 loss_train: 0.2242 time: 0.0728s\n",
      "Epoch: 149 loss_train: 0.2155 time: 0.0774s\n",
      "Epoch: 150 loss_train: 0.2184 time: 0.0718s\n",
      "Epoch: 151 loss_train: 0.2182 time: 0.0728s\n",
      "Epoch: 152 loss_train: 0.2261 time: 0.0745s\n",
      "Epoch: 153 loss_train: 0.2172 time: 0.0725s\n",
      "Epoch: 154 loss_train: 0.2171 time: 0.0738s\n",
      "Epoch: 155 loss_train: 0.2188 time: 0.0738s\n",
      "Epoch: 156 loss_train: 0.2040 time: 0.0702s\n",
      "Epoch: 157 loss_train: 0.2057 time: 0.0748s\n",
      "Epoch: 158 loss_train: 0.2092 time: 0.0755s\n",
      "Epoch: 159 loss_train: 0.2176 time: 0.0738s\n",
      "Epoch: 160 loss_train: 0.2112 time: 0.0738s\n",
      "Epoch: 161 loss_train: 0.2039 time: 0.0735s\n",
      "Epoch: 162 loss_train: 0.2133 time: 0.0745s\n",
      "Epoch: 163 loss_train: 0.2165 time: 0.0738s\n",
      "Epoch: 164 loss_train: 0.2104 time: 0.0738s\n",
      "Epoch: 165 loss_train: 0.2160 time: 0.0728s\n",
      "Epoch: 166 loss_train: 0.2075 time: 0.0748s\n",
      "Epoch: 167 loss_train: 0.2064 time: 0.0718s\n",
      "Epoch: 168 loss_train: 0.2106 time: 0.0737s\n",
      "Epoch: 169 loss_train: 0.2020 time: 0.0718s\n",
      "Epoch: 170 loss_train: 0.2043 time: 0.0729s\n",
      "Epoch: 171 loss_train: 0.2003 time: 0.0730s\n",
      "Epoch: 172 loss_train: 0.2069 time: 0.0749s\n",
      "Epoch: 173 loss_train: 0.1946 time: 0.0733s\n",
      "Epoch: 174 loss_train: 0.2014 time: 0.0744s\n",
      "Epoch: 175 loss_train: 0.1988 time: 0.0738s\n",
      "Epoch: 176 loss_train: 0.1988 time: 0.0718s\n",
      "Epoch: 177 loss_train: 0.1958 time: 0.0728s\n",
      "Epoch: 178 loss_train: 0.1945 time: 0.0723s\n",
      "Epoch: 179 loss_train: 0.2001 time: 0.0738s\n",
      "Epoch: 180 loss_train: 0.1946 time: 0.0741s\n",
      "Epoch: 181 loss_train: 0.1966 time: 0.0741s\n",
      "Epoch: 182 loss_train: 0.1936 time: 0.0738s\n",
      "Epoch: 183 loss_train: 0.2016 time: 0.0727s\n",
      "Epoch: 184 loss_train: 0.1951 time: 0.0738s\n",
      "Epoch: 185 loss_train: 0.2013 time: 0.0728s\n",
      "Epoch: 186 loss_train: 0.1896 time: 0.0746s\n",
      "Epoch: 187 loss_train: 0.1891 time: 0.0728s\n",
      "Epoch: 188 loss_train: 0.1996 time: 0.0718s\n",
      "Epoch: 189 loss_train: 0.1852 time: 0.0758s\n",
      "Epoch: 190 loss_train: 0.1982 time: 0.0738s\n",
      "Epoch: 191 loss_train: 0.1898 time: 0.0738s\n",
      "Epoch: 192 loss_train: 0.1818 time: 0.0748s\n",
      "Epoch: 193 loss_train: 0.1940 time: 0.0728s\n",
      "Epoch: 194 loss_train: 0.1936 time: 0.0738s\n",
      "Epoch: 195 loss_train: 0.1818 time: 0.0708s\n",
      "Epoch: 196 loss_train: 0.1950 time: 0.0735s\n",
      "Epoch: 197 loss_train: 0.1865 time: 0.0758s\n",
      "Epoch: 198 loss_train: 0.1781 time: 0.0713s\n",
      "Epoch: 199 loss_train: 0.1750 time: 0.0738s\n",
      "Epoch: 200 loss_train: 0.1844 time: 0.0763s\n",
      "Optimization Finished!\n",
      "Total time elapsed: 23.9428s\n",
      "\n",
      "Test set results: loss= 8.6205\n"
     ]
    },
    {
     "data": {
      "text/plain": [
       "<matplotlib.legend.Legend at 0x1df2c1cd470>"
      ]
     },
     "execution_count": 28,
     "metadata": {},
     "output_type": "execute_result"
    },
    {
     "data": {
      "image/png": "[encoded data removed]",
      "text/plain": [
       "<Figure size 432x288 with 1 Axes>"
      ]
     },
     "metadata": {
      "needs_background": "light"
     },
     "output_type": "display_data"
    }
   ],
   "source": [
    "t_total = time.time()\n",
    "training_loss_evolution = []\n",
    "validation_loss_evolution = []\n",
    "for epoch in range(epochs):\n",
    "    training_loss_evolution.append(train(epoch))\n",
    "    validation_loss_evolution.append(test())\n",
    "print(\"Optimization Finished!\")\n",
    "print(\"Total time elapsed: {:.4f}s\".format(time.time() - t_total))\n",
    "print()\n",
    "\n",
    "# Testing\n",
    "loss_test = test()\n",
    "print(\"Test set results:\",\n",
    "      \"loss= {:.4f}\".format(loss_test),)\n",
    "\n",
    "plt.ylim(0,2.5)\n",
    "plt.plot(range(epochs), training_loss_evolution, label=\"training loss\" )\n",
    "plt.plot(range(epochs), validation_loss_evolution, label=\"validation loss\" )\n",
    "plt.legend()"
   ]
  },
  {
   "cell_type": "code",
   "execution_count": null,
   "metadata": {
    "hidden": true
   },
   "outputs": [],
   "source": []
  },
  {
   "cell_type": "code",
   "execution_count": null,
   "metadata": {
    "hidden": true
   },
   "outputs": [],
   "source": []
  },
  {
   "cell_type": "code",
   "execution_count": null,
   "metadata": {
    "hidden": true
   },
   "outputs": [],
   "source": []
  },
  {
   "cell_type": "code",
   "execution_count": null,
   "metadata": {
    "hidden": true
   },
   "outputs": [],
   "source": []
  },
  {
   "cell_type": "code",
   "execution_count": null,
   "metadata": {
    "hidden": true
   },
   "outputs": [],
   "source": []
  },
  {
   "cell_type": "code",
   "execution_count": null,
   "metadata": {
    "hidden": true
   },
   "outputs": [],
   "source": []
  },
  {
   "cell_type": "code",
   "execution_count": null,
   "metadata": {
    "hidden": true
   },
   "outputs": [],
   "source": []
  },
  {
   "cell_type": "code",
   "execution_count": null,
   "metadata": {
    "hidden": true
   },
   "outputs": [],
   "source": []
  },
  {
   "cell_type": "code",
   "execution_count": null,
   "metadata": {
    "hidden": true
   },
   "outputs": [],
   "source": []
  },
  {
   "cell_type": "code",
   "execution_count": null,
   "metadata": {
    "hidden": true
   },
   "outputs": [],
   "source": []
  },
  {
   "cell_type": "code",
   "execution_count": null,
   "metadata": {
    "hidden": true
   },
   "outputs": [],
   "source": []
  },
  {
   "cell_type": "markdown",
   "metadata": {},
   "source": [
    "# Trying a bi-LSTM"
   ]
  },
  {
   "cell_type": "code",
   "execution_count": 224,
   "metadata": {},
   "outputs": [
    {
     "name": "stderr",
     "output_type": "stream",
     "text": [
      "Using TensorFlow backend.\n"
     ]
    }
   ],
   "source": [
    "from keras.preprocessing.text import Tokenizer\n",
    "from keras.preprocessing.sequence import pad_sequences"
   ]
  },
  {
   "cell_type": "markdown",
   "metadata": {},
   "source": [
    "need to run 5. Check vocab coverage "
   ]
  },
  {
   "cell_type": "code",
   "execution_count": 242,
   "metadata": {},
   "outputs": [],
   "source": [
    "len_voc = 150000\n",
    "max_len = 20\n",
    "def make_data(X):\n",
    "    t = Tokenizer(num_words=len_voc)\n",
    "    t.fit_on_texts(X)\n",
    "    X = t.texts_to_sequences(X)\n",
    "    X = pad_sequences(X, maxlen=max_len)\n",
    "    return X, t.word_index"
   ]
  },
  {
   "cell_type": "code",
   "execution_count": 243,
   "metadata": {},
   "outputs": [],
   "source": [
    "X, word_index = make_data(local_train[\"text_processed_no_dupl\"])"
   ]
  },
  {
   "cell_type": "code",
   "execution_count": 244,
   "metadata": {},
   "outputs": [
    {
     "data": {
      "text/plain": [
       "494194"
      ]
     },
     "execution_count": 244,
     "metadata": {},
     "output_type": "execute_result"
    }
   ],
   "source": [
    "len(word_index)"
   ]
  },
  {
   "cell_type": "code",
   "execution_count": 245,
   "metadata": {},
   "outputs": [],
   "source": [
    "y = local_train['class'].values\n",
    "X_train, X_val, y_train, y_val = train_test_split(X, y, test_size=0.25, random_state=42)"
   ]
  },
  {
   "cell_type": "code",
   "execution_count": 246,
   "metadata": {},
   "outputs": [],
   "source": [
    "def make_embed_matrix(embeddings_index, word_index, len_voc):\n",
    "    embedding_matrix = np.zeros((len(word_index)+1, 300))\n",
    "    for word, i in word_index.items():\n",
    "        if i <= len_voc:   \n",
    "            try :\n",
    "                embedding_vector = nlp.vocab.vectors[nlp.vocab.strings[word]]\n",
    "            except :\n",
    "                embedding_vector = np.zeros(300)\n",
    "\n",
    "            embedding_matrix[i] = embedding_vector\n",
    "        else :\n",
    "            pass\n",
    "    return embedding_matrix"
   ]
  },
  {
   "cell_type": "code",
   "execution_count": 247,
   "metadata": {},
   "outputs": [],
   "source": [
    "embedding = make_embed_matrix(nlp.vocab.strings, word_index, len_voc)"
   ]
  },
  {
   "cell_type": "code",
   "execution_count": 239,
   "metadata": {},
   "outputs": [],
   "source": [
    "from keras.models import Model\n",
    "from keras.layers import Dense, Embedding, Bidirectional, LSTM, GlobalAveragePooling1D, GlobalMaxPooling1D, concatenate, Input, Dropout\n",
    "from keras.optimizers import Adam\n",
    "from keras.utils import to_categorical"
   ]
  },
  {
   "cell_type": "code",
   "execution_count": 249,
   "metadata": {},
   "outputs": [],
   "source": [
    "def make_model(embedding_matrix, embed_size=300, loss='categorical_crossentropy'):\n",
    "    inp    = Input(shape=(max_len,))\n",
    "    x      = Embedding(len(embedding_matrix), embed_size, weights=[embedding_matrix], trainable=False)(inp)\n",
    "    x      = Bidirectional(LSTM(64, return_sequences=True))(x)\n",
    "    x      = Bidirectional(LSTM(64, return_sequences=True))(x)\n",
    "    \n",
    "    avg_pl = GlobalAveragePooling1D()(x)\n",
    "    max_pl = GlobalMaxPooling1D()(x)\n",
    "    concat = concatenate([avg_pl, max_pl])\n",
    "    dense  = Dense(32, activation=\"relu\")(concat)\n",
    "    drop   = Dropout(0.1)(dense)\n",
    "    output = Dense(8, activation=\"sigmoid\")(drop)\n",
    "    \n",
    "    model  = Model(inputs=inp, outputs=output)\n",
    "    model.compile(loss=loss, optimizer=Adam(lr=0.001), metrics=['accuracy'])\n",
    "    return model"
   ]
  },
  {
   "cell_type": "code",
   "execution_count": 250,
   "metadata": {},
   "outputs": [],
   "source": [
    "model = make_model(embedding)"
   ]
  },
  {
   "cell_type": "code",
   "execution_count": 251,
   "metadata": {},
   "outputs": [
    {
     "name": "stdout",
     "output_type": "stream",
     "text": [
      "Model: \"model_1\"\n",
      "__________________________________________________________________________________________________\n",
      "Layer (type)                    Output Shape         Param #     Connected to                     \n",
      "==================================================================================================\n",
      "input_3 (InputLayer)            (None, 20)           0                                            \n",
      "__________________________________________________________________________________________________\n",
      "embedding_3 (Embedding)         (None, 20, 300)      148258500   input_3[0][0]                    \n",
      "__________________________________________________________________________________________________\n",
      "bidirectional_4 (Bidirectional) (None, 20, 128)      186880      embedding_3[0][0]                \n",
      "__________________________________________________________________________________________________\n",
      "bidirectional_5 (Bidirectional) (None, 20, 128)      98816       bidirectional_4[0][0]            \n",
      "__________________________________________________________________________________________________\n",
      "global_average_pooling1d_1 (Glo (None, 128)          0           bidirectional_5[0][0]            \n",
      "__________________________________________________________________________________________________\n",
      "global_max_pooling1d_1 (GlobalM (None, 128)          0           bidirectional_5[0][0]            \n",
      "__________________________________________________________________________________________________\n",
      "concatenate_1 (Concatenate)     (None, 256)          0           global_average_pooling1d_1[0][0] \n",
      "                                                                 global_max_pooling1d_1[0][0]     \n",
      "__________________________________________________________________________________________________\n",
      "dense_1 (Dense)                 (None, 32)           8224        concatenate_1[0][0]              \n",
      "__________________________________________________________________________________________________\n",
      "dropout_1 (Dropout)             (None, 32)           0           dense_1[0][0]                    \n",
      "__________________________________________________________________________________________________\n",
      "dense_2 (Dense)                 (None, 8)            264         dropout_1[0][0]                  \n",
      "==================================================================================================\n",
      "Total params: 148,552,684\n",
      "Trainable params: 294,184\n",
      "Non-trainable params: 148,258,500\n",
      "__________________________________________________________________________________________________\n"
     ]
    }
   ],
   "source": [
    "model.summary()"
   ]
  },
  {
   "cell_type": "code",
   "execution_count": 252,
   "metadata": {},
   "outputs": [],
   "source": [
    "from keras.callbacks import ModelCheckpoint, ReduceLROnPlateau"
   ]
  },
  {
   "cell_type": "code",
   "execution_count": 253,
   "metadata": {},
   "outputs": [],
   "source": [
    "checkpoints = ModelCheckpoint('weights.hdf5', monitor=\"val_loss\", mode=\"min\", verbose=True, save_best_only=True)\n",
    "reduce_lr = ReduceLROnPlateau(monitor='val_loss', factor=0.1, patience=2, verbose=1, min_lr=0.000001)"
   ]
  },
  {
   "cell_type": "code",
   "execution_count": 254,
   "metadata": {},
   "outputs": [],
   "source": [
    "epochs = 50\n",
    "batch_size = 32"
   ]
  },
  {
   "cell_type": "code",
   "execution_count": 255,
   "metadata": {},
   "outputs": [
    {
     "name": "stdout",
     "output_type": "stream",
     "text": [
      "Train on 1121 samples, validate on 374 samples\n",
      "Epoch 1/50\n",
      "1121/1121 [==============================] - ETA: 3:54 - loss: 2.0717 - accuracy: 0.18 - ETA: 1:56 - loss: 2.0670 - accuracy: 0.18 - ETA: 1:16 - loss: 2.0628 - accuracy: 0.21 - ETA: 56s - loss: 2.0592 - accuracy: 0.2188 - ETA: 44s - loss: 2.0552 - accuracy: 0.231 - ETA: 36s - loss: 2.0461 - accuracy: 0.250 - ETA: 30s - loss: 2.0424 - accuracy: 0.250 - ETA: 26s - loss: 2.0377 - accuracy: 0.242 - ETA: 22s - loss: 2.0329 - accuracy: 0.243 - ETA: 19s - loss: 2.0339 - accuracy: 0.243 - ETA: 17s - loss: 2.0252 - accuracy: 0.244 - ETA: 15s - loss: 2.0249 - accuracy: 0.247 - ETA: 13s - loss: 2.0203 - accuracy: 0.250 - ETA: 12s - loss: 2.0217 - accuracy: 0.243 - ETA: 11s - loss: 2.0135 - accuracy: 0.243 - ETA: 9s - loss: 2.0020 - accuracy: 0.246 - ETA: 8s - loss: 1.9989 - accuracy: 0.24 - ETA: 8s - loss: 1.9909 - accuracy: 0.25 - ETA: 7s - loss: 1.9848 - accuracy: 0.25 - ETA: 6s - loss: 1.9895 - accuracy: 0.25 - ETA: 5s - loss: 1.9855 - accuracy: 0.25 - ETA: 5s - loss: 1.9726 - accuracy: 0.25 - ETA: 4s - loss: 1.9772 - accuracy: 0.25 - ETA: 4s - loss: 1.9696 - accuracy: 0.26 - ETA: 3s - loss: 1.9616 - accuracy: 0.26 - ETA: 3s - loss: 1.9614 - accuracy: 0.26 - ETA: 2s - loss: 1.9542 - accuracy: 0.26 - ETA: 2s - loss: 1.9444 - accuracy: 0.27 - ETA: 1s - loss: 1.9483 - accuracy: 0.28 - ETA: 1s - loss: 1.9423 - accuracy: 0.27 - ETA: 1s - loss: 1.9400 - accuracy: 0.28 - ETA: 0s - loss: 1.9378 - accuracy: 0.28 - ETA: 0s - loss: 1.9326 - accuracy: 0.28 - ETA: 0s - loss: 1.9258 - accuracy: 0.28 - ETA: 0s - loss: 1.9247 - accuracy: 0.29 - 11s 10ms/step - loss: 1.9240 - accuracy: 0.2908 - val_loss: 1.8216 - val_accuracy: 0.2941\n",
      "\n",
      "Epoch 00001: val_loss improved from inf to 1.82158, saving model to weights.hdf5\n",
      "Epoch 2/50\n",
      "1121/1121 [==============================] - ETA: 2s - loss: 1.7564 - accuracy: 0.28 - ETA: 2s - loss: 1.7932 - accuracy: 0.31 - ETA: 2s - loss: 1.7813 - accuracy: 0.32 - ETA: 2s - loss: 1.7431 - accuracy: 0.32 - ETA: 2s - loss: 1.7704 - accuracy: 0.33 - ETA: 2s - loss: 1.7683 - accuracy: 0.33 - ETA: 2s - loss: 1.7761 - accuracy: 0.33 - ETA: 1s - loss: 1.7630 - accuracy: 0.35 - ETA: 1s - loss: 1.7512 - accuracy: 0.34 - ETA: 1s - loss: 1.7359 - accuracy: 0.36 - ETA: 1s - loss: 1.7260 - accuracy: 0.35 - ETA: 1s - loss: 1.7260 - accuracy: 0.34 - ETA: 1s - loss: 1.7482 - accuracy: 0.33 - ETA: 1s - loss: 1.7598 - accuracy: 0.32 - ETA: 1s - loss: 1.7569 - accuracy: 0.32 - ETA: 1s - loss: 1.7578 - accuracy: 0.32 - ETA: 1s - loss: 1.7644 - accuracy: 0.31 - ETA: 1s - loss: 1.7661 - accuracy: 0.31 - ETA: 1s - loss: 1.7622 - accuracy: 0.31 - ETA: 1s - loss: 1.7598 - accuracy: 0.32 - ETA: 1s - loss: 1.7602 - accuracy: 0.31 - ETA: 0s - loss: 1.7570 - accuracy: 0.31 - ETA: 0s - loss: 1.7590 - accuracy: 0.30 - ETA: 0s - loss: 1.7573 - accuracy: 0.30 - ETA: 0s - loss: 1.7620 - accuracy: 0.30 - ETA: 0s - loss: 1.7557 - accuracy: 0.30 - ETA: 0s - loss: 1.7494 - accuracy: 0.30 - ETA: 0s - loss: 1.7469 - accuracy: 0.30 - ETA: 0s - loss: 1.7489 - accuracy: 0.30 - ETA: 0s - loss: 1.7554 - accuracy: 0.30 - ETA: 0s - loss: 1.7560 - accuracy: 0.30 - ETA: 0s - loss: 1.7603 - accuracy: 0.30 - ETA: 0s - loss: 1.7547 - accuracy: 0.30 - ETA: 0s - loss: 1.7609 - accuracy: 0.30 - ETA: 0s - loss: 1.7610 - accuracy: 0.31 - 3s 3ms/step - loss: 1.7612 - accuracy: 0.3104 - val_loss: 1.7809 - val_accuracy: 0.3235\n",
      "\n",
      "Epoch 00002: val_loss improved from 1.82158 to 1.78088, saving model to weights.hdf5\n",
      "Epoch 3/50\n",
      "1121/1121 [==============================] - ETA: 2s - loss: 1.6973 - accuracy: 0.31 - ETA: 5s - loss: 1.6591 - accuracy: 0.39 - ETA: 4s - loss: 1.7236 - accuracy: 0.31 - ETA: 4s - loss: 1.7291 - accuracy: 0.30 - ETA: 3s - loss: 1.7101 - accuracy: 0.32 - ETA: 3s - loss: 1.6855 - accuracy: 0.33 - ETA: 2s - loss: 1.6675 - accuracy: 0.34 - ETA: 2s - loss: 1.6681 - accuracy: 0.33 - ETA: 2s - loss: 1.6672 - accuracy: 0.32 - ETA: 2s - loss: 1.6815 - accuracy: 0.32 - ETA: 2s - loss: 1.6792 - accuracy: 0.34 - ETA: 2s - loss: 1.6792 - accuracy: 0.34 - ETA: 1s - loss: 1.6725 - accuracy: 0.34 - ETA: 1s - loss: 1.6843 - accuracy: 0.33 - ETA: 1s - loss: 1.6903 - accuracy: 0.32 - ETA: 1s - loss: 1.6847 - accuracy: 0.32 - ETA: 1s - loss: 1.6876 - accuracy: 0.32 - ETA: 1s - loss: 1.6876 - accuracy: 0.32 - ETA: 1s - loss: 1.6850 - accuracy: 0.32 - ETA: 1s - loss: 1.6951 - accuracy: 0.31 - ETA: 1s - loss: 1.6916 - accuracy: 0.31 - ETA: 1s - loss: 1.6923 - accuracy: 0.31 - ETA: 0s - loss: 1.7032 - accuracy: 0.31 - ETA: 0s - loss: 1.6964 - accuracy: 0.31 - ETA: 0s - loss: 1.6893 - accuracy: 0.31 - ETA: 0s - loss: 1.6926 - accuracy: 0.30 - ETA: 0s - loss: 1.6936 - accuracy: 0.30 - ETA: 0s - loss: 1.6976 - accuracy: 0.30 - ETA: 0s - loss: 1.7000 - accuracy: 0.31 - ETA: 0s - loss: 1.6960 - accuracy: 0.31 - ETA: 0s - loss: 1.6959 - accuracy: 0.31 - ETA: 0s - loss: 1.6924 - accuracy: 0.31 - ETA: 0s - loss: 1.6907 - accuracy: 0.31 - ETA: 0s - loss: 1.6909 - accuracy: 0.31 - ETA: 0s - loss: 1.6851 - accuracy: 0.31 - 3s 3ms/step - loss: 1.6852 - accuracy: 0.3149 - val_loss: 1.8100 - val_accuracy: 0.3342\n",
      "\n",
      "Epoch 00003: val_loss did not improve from 1.78088\n",
      "Epoch 4/50\n",
      "1121/1121 [==============================] - ETA: 2s - loss: 1.6307 - accuracy: 0.40 - ETA: 2s - loss: 1.5538 - accuracy: 0.46 - ETA: 2s - loss: 1.6661 - accuracy: 0.39 - ETA: 2s - loss: 1.5831 - accuracy: 0.39 - ETA: 2s - loss: 1.5759 - accuracy: 0.36 - ETA: 2s - loss: 1.5569 - accuracy: 0.38 - ETA: 2s - loss: 1.5388 - accuracy: 0.38 - ETA: 1s - loss: 1.5667 - accuracy: 0.38 - ETA: 1s - loss: 1.5760 - accuracy: 0.38 - ETA: 1s - loss: 1.5800 - accuracy: 0.37 - ETA: 1s - loss: 1.5996 - accuracy: 0.35 - ETA: 1s - loss: 1.5861 - accuracy: 0.35 - ETA: 1s - loss: 1.5982 - accuracy: 0.35 - ETA: 1s - loss: 1.6124 - accuracy: 0.35 - ETA: 1s - loss: 1.6090 - accuracy: 0.35 - ETA: 1s - loss: 1.6068 - accuracy: 0.36 - ETA: 1s - loss: 1.6212 - accuracy: 0.36 - ETA: 1s - loss: 1.6217 - accuracy: 0.35 - ETA: 1s - loss: 1.6223 - accuracy: 0.36 - ETA: 1s - loss: 1.6225 - accuracy: 0.35 - ETA: 1s - loss: 1.6268 - accuracy: 0.35 - ETA: 0s - loss: 1.6330 - accuracy: 0.35 - ETA: 0s - loss: 1.6257 - accuracy: 0.35 - ETA: 0s - loss: 1.6342 - accuracy: 0.35 - ETA: 0s - loss: 1.6277 - accuracy: 0.36 - ETA: 0s - loss: 1.6258 - accuracy: 0.35 - ETA: 0s - loss: 1.6313 - accuracy: 0.36 - ETA: 0s - loss: 1.6262 - accuracy: 0.36 - ETA: 0s - loss: 1.6255 - accuracy: 0.35 - ETA: 0s - loss: 1.6221 - accuracy: 0.35 - ETA: 0s - loss: 1.6296 - accuracy: 0.35 - ETA: 0s - loss: 1.6253 - accuracy: 0.35 - ETA: 0s - loss: 1.6273 - accuracy: 0.35 - ETA: 0s - loss: 1.6249 - accuracy: 0.35 - ETA: 0s - loss: 1.6297 - accuracy: 0.35 - 3s 3ms/step - loss: 1.6295 - accuracy: 0.3550 - val_loss: 1.8339 - val_accuracy: 0.3422\n",
      "\n",
      "Epoch 00004: val_loss did not improve from 1.78088\n",
      "\n",
      "Epoch 00004: ReduceLROnPlateau reducing learning rate to 0.00010000000474974513.\n",
      "Epoch 5/50\n",
      "1121/1121 [==============================] - ETA: 2s - loss: 1.4429 - accuracy: 0.40 - ETA: 2s - loss: 1.4047 - accuracy: 0.46 - ETA: 2s - loss: 1.4736 - accuracy: 0.42 - ETA: 2s - loss: 1.4570 - accuracy: 0.43 - ETA: 2s - loss: 1.4768 - accuracy: 0.44 - ETA: 2s - loss: 1.4892 - accuracy: 0.44 - ETA: 2s - loss: 1.5128 - accuracy: 0.41 - ETA: 2s - loss: 1.5013 - accuracy: 0.40 - ETA: 1s - loss: 1.4972 - accuracy: 0.40 - ETA: 1s - loss: 1.5151 - accuracy: 0.40 - ETA: 1s - loss: 1.5107 - accuracy: 0.40 - ETA: 1s - loss: 1.5184 - accuracy: 0.39 - ETA: 1s - loss: 1.5445 - accuracy: 0.38 - ETA: 1s - loss: 1.5342 - accuracy: 0.39 - ETA: 1s - loss: 1.5294 - accuracy: 0.39 - ETA: 1s - loss: 1.5340 - accuracy: 0.38 - ETA: 1s - loss: 1.5370 - accuracy: 0.38 - ETA: 1s - loss: 1.5345 - accuracy: 0.38 - ETA: 1s - loss: 1.5347 - accuracy: 0.39 - ETA: 1s - loss: 1.5375 - accuracy: 0.39 - ETA: 1s - loss: 1.5441 - accuracy: 0.39 - ETA: 0s - loss: 1.5459 - accuracy: 0.39 - ETA: 0s - loss: 1.5449 - accuracy: 0.38 - ETA: 0s - loss: 1.5481 - accuracy: 0.38 - ETA: 0s - loss: 1.5436 - accuracy: 0.39 - ETA: 0s - loss: 1.5426 - accuracy: 0.38 - ETA: 0s - loss: 1.5469 - accuracy: 0.38 - ETA: 0s - loss: 1.5524 - accuracy: 0.38 - ETA: 0s - loss: 1.5493 - accuracy: 0.38 - ETA: 0s - loss: 1.5533 - accuracy: 0.38 - ETA: 0s - loss: 1.5540 - accuracy: 0.37 - ETA: 0s - loss: 1.5522 - accuracy: 0.37 - ETA: 0s - loss: 1.5478 - accuracy: 0.38 - ETA: 0s - loss: 1.5460 - accuracy: 0.38 - ETA: 0s - loss: 1.5458 - accuracy: 0.38 - 3s 3ms/step - loss: 1.5453 - accuracy: 0.3818 - val_loss: 1.8497 - val_accuracy: 0.3449\n",
      "\n",
      "Epoch 00005: val_loss did not improve from 1.78088\n",
      "Epoch 6/50\n",
      "1121/1121 [==============================] - ETA: 2s - loss: 1.4071 - accuracy: 0.40 - ETA: 2s - loss: 1.4280 - accuracy: 0.43 - ETA: 2s - loss: 1.4605 - accuracy: 0.38 - ETA: 2s - loss: 1.4427 - accuracy: 0.39 - ETA: 2s - loss: 1.4791 - accuracy: 0.36 - ETA: 2s - loss: 1.4749 - accuracy: 0.36 - ETA: 2s - loss: 1.4828 - accuracy: 0.35 - ETA: 1s - loss: 1.4871 - accuracy: 0.35 - ETA: 1s - loss: 1.4812 - accuracy: 0.36 - ETA: 1s - loss: 1.4750 - accuracy: 0.35 - ETA: 1s - loss: 1.4751 - accuracy: 0.34 - ETA: 1s - loss: 1.4854 - accuracy: 0.34 - ETA: 1s - loss: 1.5014 - accuracy: 0.35 - ETA: 1s - loss: 1.4982 - accuracy: 0.36 - ETA: 1s - loss: 1.5102 - accuracy: 0.35 - ETA: 1s - loss: 1.5044 - accuracy: 0.35 - ETA: 1s - loss: 1.5025 - accuracy: 0.36 - ETA: 1s - loss: 1.5016 - accuracy: 0.35 - ETA: 1s - loss: 1.4995 - accuracy: 0.36 - ETA: 1s - loss: 1.5068 - accuracy: 0.35 - ETA: 1s - loss: 1.5053 - accuracy: 0.36 - ETA: 0s - loss: 1.5060 - accuracy: 0.36 - ETA: 0s - loss: 1.5081 - accuracy: 0.36 - ETA: 0s - loss: 1.5105 - accuracy: 0.36 - ETA: 0s - loss: 1.5113 - accuracy: 0.36 - ETA: 0s - loss: 1.5041 - accuracy: 0.36 - ETA: 0s - loss: 1.5042 - accuracy: 0.36 - ETA: 0s - loss: 1.4996 - accuracy: 0.37 - ETA: 0s - loss: 1.5003 - accuracy: 0.37 - ETA: 0s - loss: 1.5118 - accuracy: 0.37 - ETA: 0s - loss: 1.5035 - accuracy: 0.37 - ETA: 0s - loss: 1.5020 - accuracy: 0.37 - ETA: 0s - loss: 1.4995 - accuracy: 0.36 - ETA: 0s - loss: 1.5006 - accuracy: 0.37 - ETA: 0s - loss: 1.5046 - accuracy: 0.36 - 3s 3ms/step - loss: 1.5050 - accuracy: 0.3675 - val_loss: 1.8482 - val_accuracy: 0.3476\n",
      "\n",
      "Epoch 00006: val_loss did not improve from 1.78088\n",
      "\n",
      "Epoch 00006: ReduceLROnPlateau reducing learning rate to 1.0000000474974514e-05.\n",
      "Epoch 7/50\n",
      "1121/1121 [==============================] - ETA: 2s - loss: 1.6306 - accuracy: 0.31 - ETA: 2s - loss: 1.5505 - accuracy: 0.32 - ETA: 2s - loss: 1.5312 - accuracy: 0.35 - ETA: 2s - loss: 1.5516 - accuracy: 0.34 - ETA: 2s - loss: 1.5489 - accuracy: 0.35 - ETA: 2s - loss: 1.5587 - accuracy: 0.36 - ETA: 2s - loss: 1.5636 - accuracy: 0.37 - ETA: 1s - loss: 1.5470 - accuracy: 0.35 - ETA: 1s - loss: 1.5163 - accuracy: 0.37 - ETA: 1s - loss: 1.5223 - accuracy: 0.37 - ETA: 1s - loss: 1.5222 - accuracy: 0.38 - ETA: 1s - loss: 1.5218 - accuracy: 0.37 - ETA: 1s - loss: 1.5334 - accuracy: 0.37 - ETA: 1s - loss: 1.5238 - accuracy: 0.38 - ETA: 1s - loss: 1.5241 - accuracy: 0.38 - ETA: 1s - loss: 1.5158 - accuracy: 0.38 - ETA: 1s - loss: 1.5147 - accuracy: 0.38 - ETA: 1s - loss: 1.5113 - accuracy: 0.38 - ETA: 1s - loss: 1.5078 - accuracy: 0.38 - ETA: 1s - loss: 1.5023 - accuracy: 0.39 - ETA: 1s - loss: 1.5019 - accuracy: 0.38 - ETA: 0s - loss: 1.5062 - accuracy: 0.38 - ETA: 0s - loss: 1.5025 - accuracy: 0.38 - ETA: 0s - loss: 1.5002 - accuracy: 0.38 - ETA: 0s - loss: 1.5012 - accuracy: 0.39 - ETA: 0s - loss: 1.4975 - accuracy: 0.38 - ETA: 0s - loss: 1.4956 - accuracy: 0.38 - ETA: 0s - loss: 1.4906 - accuracy: 0.38 - ETA: 0s - loss: 1.4931 - accuracy: 0.38 - ETA: 0s - loss: 1.4939 - accuracy: 0.38 - ETA: 0s - loss: 1.4946 - accuracy: 0.37 - ETA: 0s - loss: 1.5007 - accuracy: 0.37 - ETA: 0s - loss: 1.4969 - accuracy: 0.37 - ETA: 0s - loss: 1.4914 - accuracy: 0.37 - ETA: 0s - loss: 1.4936 - accuracy: 0.37 - 3s 3ms/step - loss: 1.4931 - accuracy: 0.3764 - val_loss: 1.8485 - val_accuracy: 0.3449\n",
      "\n",
      "Epoch 00007: val_loss did not improve from 1.78088\n",
      "Epoch 8/50\n",
      "1121/1121 [==============================] - ETA: 2s - loss: 1.7573 - accuracy: 0.28 - ETA: 2s - loss: 1.6294 - accuracy: 0.35 - ETA: 2s - loss: 1.5599 - accuracy: 0.38 - ETA: 2s - loss: 1.5533 - accuracy: 0.37 - ETA: 2s - loss: 1.5427 - accuracy: 0.35 - ETA: 2s - loss: 1.5371 - accuracy: 0.35 - ETA: 2s - loss: 1.5421 - accuracy: 0.33 - ETA: 1s - loss: 1.5891 - accuracy: 0.33 - ETA: 1s - loss: 1.5976 - accuracy: 0.32 - ETA: 1s - loss: 1.5787 - accuracy: 0.34 - ETA: 1s - loss: 1.5459 - accuracy: 0.34 - ETA: 1s - loss: 1.5411 - accuracy: 0.35 - ETA: 1s - loss: 1.5264 - accuracy: 0.36 - ETA: 1s - loss: 1.5487 - accuracy: 0.35 - ETA: 1s - loss: 1.5417 - accuracy: 0.37 - ETA: 1s - loss: 1.5266 - accuracy: 0.37 - ETA: 1s - loss: 1.5187 - accuracy: 0.37 - ETA: 1s - loss: 1.5098 - accuracy: 0.37 - ETA: 1s - loss: 1.5039 - accuracy: 0.37 - ETA: 1s - loss: 1.4995 - accuracy: 0.38 - ETA: 1s - loss: 1.4922 - accuracy: 0.38 - ETA: 0s - loss: 1.4925 - accuracy: 0.38 - ETA: 0s - loss: 1.4946 - accuracy: 0.38 - ETA: 0s - loss: 1.4971 - accuracy: 0.38 - ETA: 0s - loss: 1.4916 - accuracy: 0.38 - ETA: 0s - loss: 1.4837 - accuracy: 0.38 - ETA: 0s - loss: 1.4775 - accuracy: 0.38 - ETA: 0s - loss: 1.4798 - accuracy: 0.38 - ETA: 0s - loss: 1.4787 - accuracy: 0.39 - ETA: 0s - loss: 1.4821 - accuracy: 0.38 - ETA: 0s - loss: 1.4846 - accuracy: 0.39 - ETA: 0s - loss: 1.4878 - accuracy: 0.38 - ETA: 0s - loss: 1.4925 - accuracy: 0.38 - ETA: 0s - loss: 1.4928 - accuracy: 0.39 - ETA: 0s - loss: 1.4978 - accuracy: 0.39 - 3s 3ms/step - loss: 1.4976 - accuracy: 0.3916 - val_loss: 1.8504 - val_accuracy: 0.3449\n",
      "\n",
      "Epoch 00008: val_loss did not improve from 1.78088\n",
      "\n",
      "Epoch 00008: ReduceLROnPlateau reducing learning rate to 1.0000000656873453e-06.\n",
      "Epoch 9/50\n"
     ]
    },
    {
     "name": "stdout",
     "output_type": "stream",
     "text": [
      "1121/1121 [==============================] - ETA: 2s - loss: 1.5684 - accuracy: 0.37 - ETA: 2s - loss: 1.5866 - accuracy: 0.35 - ETA: 2s - loss: 1.5593 - accuracy: 0.34 - ETA: 2s - loss: 1.5012 - accuracy: 0.38 - ETA: 2s - loss: 1.5113 - accuracy: 0.39 - ETA: 2s - loss: 1.4967 - accuracy: 0.39 - ETA: 1s - loss: 1.5053 - accuracy: 0.39 - ETA: 1s - loss: 1.5042 - accuracy: 0.38 - ETA: 1s - loss: 1.5331 - accuracy: 0.37 - ETA: 1s - loss: 1.5341 - accuracy: 0.38 - ETA: 1s - loss: 1.5200 - accuracy: 0.39 - ETA: 1s - loss: 1.5044 - accuracy: 0.39 - ETA: 1s - loss: 1.4979 - accuracy: 0.39 - ETA: 1s - loss: 1.5048 - accuracy: 0.39 - ETA: 1s - loss: 1.5067 - accuracy: 0.38 - ETA: 1s - loss: 1.5147 - accuracy: 0.38 - ETA: 1s - loss: 1.5072 - accuracy: 0.39 - ETA: 1s - loss: 1.5095 - accuracy: 0.39 - ETA: 1s - loss: 1.5096 - accuracy: 0.39 - ETA: 1s - loss: 1.4957 - accuracy: 0.39 - ETA: 0s - loss: 1.4858 - accuracy: 0.40 - ETA: 0s - loss: 1.4934 - accuracy: 0.39 - ETA: 0s - loss: 1.4906 - accuracy: 0.39 - ETA: 0s - loss: 1.4979 - accuracy: 0.38 - ETA: 0s - loss: 1.4979 - accuracy: 0.38 - ETA: 0s - loss: 1.5059 - accuracy: 0.38 - ETA: 0s - loss: 1.5007 - accuracy: 0.38 - ETA: 0s - loss: 1.4902 - accuracy: 0.39 - ETA: 0s - loss: 1.4898 - accuracy: 0.38 - ETA: 0s - loss: 1.4904 - accuracy: 0.38 - ETA: 0s - loss: 1.4887 - accuracy: 0.39 - ETA: 0s - loss: 1.4840 - accuracy: 0.39 - ETA: 0s - loss: 1.4791 - accuracy: 0.39 - ETA: 0s - loss: 1.4883 - accuracy: 0.39 - ETA: 0s - loss: 1.4916 - accuracy: 0.39 - 3s 3ms/step - loss: 1.4919 - accuracy: 0.3916 - val_loss: 1.8506 - val_accuracy: 0.3449\n",
      "\n",
      "Epoch 00009: val_loss did not improve from 1.78088\n",
      "Epoch 10/50\n",
      "1121/1121 [==============================] - ETA: 2s - loss: 1.4788 - accuracy: 0.34 - ETA: 2s - loss: 1.4608 - accuracy: 0.39 - ETA: 2s - loss: 1.4926 - accuracy: 0.40 - ETA: 2s - loss: 1.4648 - accuracy: 0.42 - ETA: 2s - loss: 1.4586 - accuracy: 0.43 - ETA: 2s - loss: 1.5125 - accuracy: 0.43 - ETA: 2s - loss: 1.5127 - accuracy: 0.42 - ETA: 1s - loss: 1.5006 - accuracy: 0.42 - ETA: 1s - loss: 1.4999 - accuracy: 0.41 - ETA: 1s - loss: 1.5055 - accuracy: 0.41 - ETA: 1s - loss: 1.4742 - accuracy: 0.42 - ETA: 1s - loss: 1.4808 - accuracy: 0.42 - ETA: 1s - loss: 1.4905 - accuracy: 0.41 - ETA: 1s - loss: 1.4839 - accuracy: 0.41 - ETA: 1s - loss: 1.4837 - accuracy: 0.41 - ETA: 1s - loss: 1.4828 - accuracy: 0.40 - ETA: 1s - loss: 1.4789 - accuracy: 0.39 - ETA: 1s - loss: 1.4965 - accuracy: 0.39 - ETA: 1s - loss: 1.4875 - accuracy: 0.38 - ETA: 1s - loss: 1.4941 - accuracy: 0.38 - ETA: 1s - loss: 1.5042 - accuracy: 0.37 - ETA: 0s - loss: 1.5056 - accuracy: 0.37 - ETA: 0s - loss: 1.5014 - accuracy: 0.38 - ETA: 0s - loss: 1.5009 - accuracy: 0.38 - ETA: 0s - loss: 1.4946 - accuracy: 0.38 - ETA: 0s - loss: 1.4884 - accuracy: 0.38 - ETA: 0s - loss: 1.4839 - accuracy: 0.38 - ETA: 0s - loss: 1.4814 - accuracy: 0.38 - ETA: 0s - loss: 1.4764 - accuracy: 0.39 - ETA: 0s - loss: 1.4876 - accuracy: 0.39 - ETA: 0s - loss: 1.4836 - accuracy: 0.39 - ETA: 0s - loss: 1.4854 - accuracy: 0.39 - ETA: 0s - loss: 1.4838 - accuracy: 0.39 - ETA: 0s - loss: 1.4821 - accuracy: 0.38 - ETA: 0s - loss: 1.4884 - accuracy: 0.38 - 3s 3ms/step - loss: 1.4882 - accuracy: 0.3845 - val_loss: 1.8507 - val_accuracy: 0.3449\n",
      "\n",
      "Epoch 00010: val_loss did not improve from 1.78088\n",
      "\n",
      "Epoch 00010: ReduceLROnPlateau reducing learning rate to 1e-06.\n",
      "Epoch 11/50\n",
      "1121/1121 [==============================] - ETA: 2s - loss: 1.4259 - accuracy: 0.43 - ETA: 2s - loss: 1.3792 - accuracy: 0.43 - ETA: 2s - loss: 1.4390 - accuracy: 0.42 - ETA: 2s - loss: 1.4511 - accuracy: 0.42 - ETA: 2s - loss: 1.4456 - accuracy: 0.41 - ETA: 2s - loss: 1.4419 - accuracy: 0.42 - ETA: 2s - loss: 1.4783 - accuracy: 0.41 - ETA: 1s - loss: 1.5031 - accuracy: 0.40 - ETA: 1s - loss: 1.4978 - accuracy: 0.37 - ETA: 1s - loss: 1.4736 - accuracy: 0.40 - ETA: 1s - loss: 1.4712 - accuracy: 0.40 - ETA: 1s - loss: 1.4650 - accuracy: 0.41 - ETA: 1s - loss: 1.4706 - accuracy: 0.41 - ETA: 1s - loss: 1.4791 - accuracy: 0.41 - ETA: 1s - loss: 1.4875 - accuracy: 0.40 - ETA: 1s - loss: 1.4791 - accuracy: 0.40 - ETA: 1s - loss: 1.4779 - accuracy: 0.40 - ETA: 1s - loss: 1.4751 - accuracy: 0.41 - ETA: 1s - loss: 1.4724 - accuracy: 0.41 - ETA: 1s - loss: 1.4730 - accuracy: 0.40 - ETA: 1s - loss: 1.4727 - accuracy: 0.40 - ETA: 0s - loss: 1.4737 - accuracy: 0.40 - ETA: 0s - loss: 1.4740 - accuracy: 0.40 - ETA: 0s - loss: 1.4802 - accuracy: 0.39 - ETA: 0s - loss: 1.4770 - accuracy: 0.40 - ETA: 0s - loss: 1.4837 - accuracy: 0.39 - ETA: 0s - loss: 1.4816 - accuracy: 0.39 - ETA: 0s - loss: 1.4832 - accuracy: 0.39 - ETA: 0s - loss: 1.4781 - accuracy: 0.39 - ETA: 0s - loss: 1.4814 - accuracy: 0.39 - ETA: 0s - loss: 1.4827 - accuracy: 0.39 - ETA: 0s - loss: 1.4895 - accuracy: 0.39 - ETA: 0s - loss: 1.4935 - accuracy: 0.39 - ETA: 0s - loss: 1.4925 - accuracy: 0.38 - ETA: 0s - loss: 1.4881 - accuracy: 0.39 - 3s 3ms/step - loss: 1.4877 - accuracy: 0.3907 - val_loss: 1.8509 - val_accuracy: 0.3449\n",
      "\n",
      "Epoch 00011: val_loss did not improve from 1.78088\n",
      "Epoch 12/50\n",
      "1121/1121 [==============================] - ETA: 2s - loss: 1.6062 - accuracy: 0.25 - ETA: 2s - loss: 1.5954 - accuracy: 0.28 - ETA: 2s - loss: 1.5919 - accuracy: 0.27 - ETA: 2s - loss: 1.5568 - accuracy: 0.30 - ETA: 2s - loss: 1.5496 - accuracy: 0.32 - ETA: 2s - loss: 1.5425 - accuracy: 0.32 - ETA: 1s - loss: 1.5273 - accuracy: 0.33 - ETA: 1s - loss: 1.5210 - accuracy: 0.34 - ETA: 1s - loss: 1.5237 - accuracy: 0.34 - ETA: 1s - loss: 1.5084 - accuracy: 0.35 - ETA: 1s - loss: 1.5138 - accuracy: 0.34 - ETA: 1s - loss: 1.5083 - accuracy: 0.35 - ETA: 1s - loss: 1.5093 - accuracy: 0.35 - ETA: 1s - loss: 1.4978 - accuracy: 0.36 - ETA: 1s - loss: 1.4932 - accuracy: 0.37 - ETA: 1s - loss: 1.4885 - accuracy: 0.38 - ETA: 1s - loss: 1.4908 - accuracy: 0.38 - ETA: 1s - loss: 1.4840 - accuracy: 0.37 - ETA: 1s - loss: 1.4960 - accuracy: 0.37 - ETA: 1s - loss: 1.5085 - accuracy: 0.38 - ETA: 1s - loss: 1.5100 - accuracy: 0.38 - ETA: 0s - loss: 1.5055 - accuracy: 0.38 - ETA: 0s - loss: 1.4992 - accuracy: 0.38 - ETA: 0s - loss: 1.4939 - accuracy: 0.38 - ETA: 0s - loss: 1.4958 - accuracy: 0.38 - ETA: 0s - loss: 1.4923 - accuracy: 0.38 - ETA: 0s - loss: 1.4924 - accuracy: 0.38 - ETA: 0s - loss: 1.4907 - accuracy: 0.38 - ETA: 0s - loss: 1.4943 - accuracy: 0.38 - ETA: 0s - loss: 1.4899 - accuracy: 0.38 - ETA: 0s - loss: 1.4906 - accuracy: 0.38 - ETA: 0s - loss: 1.4903 - accuracy: 0.37 - ETA: 0s - loss: 1.4908 - accuracy: 0.37 - ETA: 0s - loss: 1.4922 - accuracy: 0.37 - ETA: 0s - loss: 1.4924 - accuracy: 0.37 - 3s 3ms/step - loss: 1.4917 - accuracy: 0.3756 - val_loss: 1.8510 - val_accuracy: 0.3449\n",
      "\n",
      "Epoch 00012: val_loss did not improve from 1.78088\n",
      "Epoch 13/50\n",
      "1121/1121 [==============================] - ETA: 2s - loss: 1.3407 - accuracy: 0.43 - ETA: 2s - loss: 1.4556 - accuracy: 0.39 - ETA: 2s - loss: 1.4595 - accuracy: 0.42 - ETA: 2s - loss: 1.4906 - accuracy: 0.40 - ETA: 2s - loss: 1.5007 - accuracy: 0.41 - ETA: 2s - loss: 1.4735 - accuracy: 0.40 - ETA: 2s - loss: 1.4785 - accuracy: 0.40 - ETA: 2s - loss: 1.4565 - accuracy: 0.43 - ETA: 2s - loss: 1.4588 - accuracy: 0.41 - ETA: 1s - loss: 1.4741 - accuracy: 0.41 - ETA: 1s - loss: 1.4767 - accuracy: 0.40 - ETA: 1s - loss: 1.4736 - accuracy: 0.40 - ETA: 1s - loss: 1.4856 - accuracy: 0.40 - ETA: 1s - loss: 1.5030 - accuracy: 0.38 - ETA: 1s - loss: 1.4963 - accuracy: 0.39 - ETA: 1s - loss: 1.4942 - accuracy: 0.38 - ETA: 1s - loss: 1.5011 - accuracy: 0.38 - ETA: 1s - loss: 1.4905 - accuracy: 0.38 - ETA: 1s - loss: 1.4898 - accuracy: 0.38 - ETA: 1s - loss: 1.4875 - accuracy: 0.39 - ETA: 1s - loss: 1.4922 - accuracy: 0.38 - ETA: 0s - loss: 1.4950 - accuracy: 0.38 - ETA: 0s - loss: 1.4916 - accuracy: 0.39 - ETA: 0s - loss: 1.4911 - accuracy: 0.38 - ETA: 0s - loss: 1.4910 - accuracy: 0.38 - ETA: 0s - loss: 1.4892 - accuracy: 0.38 - ETA: 0s - loss: 1.4874 - accuracy: 0.38 - ETA: 0s - loss: 1.4922 - accuracy: 0.38 - ETA: 0s - loss: 1.4895 - accuracy: 0.37 - ETA: 0s - loss: 1.4872 - accuracy: 0.38 - ETA: 0s - loss: 1.4819 - accuracy: 0.38 - ETA: 0s - loss: 1.4789 - accuracy: 0.38 - ETA: 0s - loss: 1.4766 - accuracy: 0.38 - ETA: 0s - loss: 1.4808 - accuracy: 0.38 - ETA: 0s - loss: 1.4795 - accuracy: 0.39 - 3s 3ms/step - loss: 1.4799 - accuracy: 0.3898 - val_loss: 1.8514 - val_accuracy: 0.3449\n",
      "\n",
      "Epoch 00013: val_loss did not improve from 1.78088\n",
      "Epoch 14/50\n",
      "1121/1121 [==============================] - ETA: 2s - loss: 1.4628 - accuracy: 0.40 - ETA: 2s - loss: 1.3834 - accuracy: 0.39 - ETA: 2s - loss: 1.3957 - accuracy: 0.40 - ETA: 2s - loss: 1.4405 - accuracy: 0.39 - ETA: 2s - loss: 1.4649 - accuracy: 0.36 - ETA: 1s - loss: 1.4486 - accuracy: 0.37 - ETA: 1s - loss: 1.4728 - accuracy: 0.36 - ETA: 1s - loss: 1.4594 - accuracy: 0.37 - ETA: 1s - loss: 1.4677 - accuracy: 0.37 - ETA: 1s - loss: 1.4844 - accuracy: 0.37 - ETA: 1s - loss: 1.4865 - accuracy: 0.37 - ETA: 1s - loss: 1.4808 - accuracy: 0.38 - ETA: 1s - loss: 1.4846 - accuracy: 0.37 - ETA: 1s - loss: 1.4964 - accuracy: 0.37 - ETA: 1s - loss: 1.5077 - accuracy: 0.36 - ETA: 1s - loss: 1.5034 - accuracy: 0.37 - ETA: 1s - loss: 1.5055 - accuracy: 0.37 - ETA: 1s - loss: 1.5022 - accuracy: 0.38 - ETA: 1s - loss: 1.5007 - accuracy: 0.38 - ETA: 1s - loss: 1.5032 - accuracy: 0.38 - ETA: 0s - loss: 1.4992 - accuracy: 0.39 - ETA: 0s - loss: 1.4933 - accuracy: 0.40 - ETA: 0s - loss: 1.4962 - accuracy: 0.40 - ETA: 0s - loss: 1.4998 - accuracy: 0.40 - ETA: 0s - loss: 1.5015 - accuracy: 0.40 - ETA: 0s - loss: 1.5045 - accuracy: 0.39 - ETA: 0s - loss: 1.4907 - accuracy: 0.40 - ETA: 0s - loss: 1.4903 - accuracy: 0.40 - ETA: 0s - loss: 1.4937 - accuracy: 0.40 - ETA: 0s - loss: 1.4950 - accuracy: 0.40 - ETA: 0s - loss: 1.4987 - accuracy: 0.40 - ETA: 0s - loss: 1.4974 - accuracy: 0.39 - ETA: 0s - loss: 1.4952 - accuracy: 0.39 - ETA: 0s - loss: 1.4940 - accuracy: 0.39 - ETA: 0s - loss: 1.4974 - accuracy: 0.39 - 3s 3ms/step - loss: 1.4966 - accuracy: 0.3916 - val_loss: 1.8513 - val_accuracy: 0.3449\n",
      "\n",
      "Epoch 00014: val_loss did not improve from 1.78088\n",
      "Epoch 15/50\n",
      "1121/1121 [==============================] - ETA: 2s - loss: 1.4418 - accuracy: 0.37 - ETA: 2s - loss: 1.4251 - accuracy: 0.34 - ETA: 2s - loss: 1.4530 - accuracy: 0.31 - ETA: 2s - loss: 1.4156 - accuracy: 0.35 - ETA: 2s - loss: 1.4200 - accuracy: 0.35 - ETA: 2s - loss: 1.4168 - accuracy: 0.35 - ETA: 1s - loss: 1.4290 - accuracy: 0.34 - ETA: 1s - loss: 1.4158 - accuracy: 0.37 - ETA: 1s - loss: 1.4336 - accuracy: 0.37 - ETA: 1s - loss: 1.4376 - accuracy: 0.38 - ETA: 1s - loss: 1.4432 - accuracy: 0.39 - ETA: 1s - loss: 1.4381 - accuracy: 0.38 - ETA: 1s - loss: 1.4446 - accuracy: 0.38 - ETA: 1s - loss: 1.4582 - accuracy: 0.38 - ETA: 1s - loss: 1.4717 - accuracy: 0.38 - ETA: 1s - loss: 1.4812 - accuracy: 0.37 - ETA: 1s - loss: 1.4801 - accuracy: 0.37 - ETA: 1s - loss: 1.4775 - accuracy: 0.37 - ETA: 1s - loss: 1.4756 - accuracy: 0.37 - ETA: 1s - loss: 1.4784 - accuracy: 0.37 - ETA: 0s - loss: 1.4847 - accuracy: 0.37 - ETA: 0s - loss: 1.4963 - accuracy: 0.37 - ETA: 0s - loss: 1.4904 - accuracy: 0.37 - ETA: 0s - loss: 1.4809 - accuracy: 0.37 - ETA: 0s - loss: 1.4894 - accuracy: 0.37 - ETA: 0s - loss: 1.4908 - accuracy: 0.37 - ETA: 0s - loss: 1.4979 - accuracy: 0.37 - ETA: 0s - loss: 1.5028 - accuracy: 0.37 - ETA: 0s - loss: 1.5065 - accuracy: 0.36 - ETA: 0s - loss: 1.5017 - accuracy: 0.36 - ETA: 0s - loss: 1.5013 - accuracy: 0.36 - ETA: 0s - loss: 1.4933 - accuracy: 0.37 - ETA: 0s - loss: 1.4886 - accuracy: 0.37 - ETA: 0s - loss: 1.4888 - accuracy: 0.37 - ETA: 0s - loss: 1.4895 - accuracy: 0.37 - 3s 3ms/step - loss: 1.4893 - accuracy: 0.3720 - val_loss: 1.8514 - val_accuracy: 0.3449\n",
      "\n",
      "Epoch 00015: val_loss did not improve from 1.78088\n",
      "Epoch 16/50\n",
      "1121/1121 [==============================] - ETA: 2s - loss: 1.5487 - accuracy: 0.40 - ETA: 2s - loss: 1.4333 - accuracy: 0.39 - ETA: 2s - loss: 1.4598 - accuracy: 0.41 - ETA: 2s - loss: 1.5147 - accuracy: 0.37 - ETA: 2s - loss: 1.4889 - accuracy: 0.38 - ETA: 2s - loss: 1.4869 - accuracy: 0.36 - ETA: 2s - loss: 1.4715 - accuracy: 0.35 - ETA: 1s - loss: 1.4824 - accuracy: 0.33 - ETA: 1s - loss: 1.5009 - accuracy: 0.33 - ETA: 1s - loss: 1.5065 - accuracy: 0.33 - ETA: 1s - loss: 1.5061 - accuracy: 0.34 - ETA: 1s - loss: 1.5137 - accuracy: 0.34 - ETA: 1s - loss: 1.4904 - accuracy: 0.36 - ETA: 1s - loss: 1.4693 - accuracy: 0.36 - ETA: 1s - loss: 1.4712 - accuracy: 0.36 - ETA: 1s - loss: 1.4668 - accuracy: 0.36 - ETA: 1s - loss: 1.4705 - accuracy: 0.36 - ETA: 1s - loss: 1.4587 - accuracy: 0.37 - ETA: 1s - loss: 1.4706 - accuracy: 0.37 - ETA: 1s - loss: 1.4713 - accuracy: 0.36 - ETA: 0s - loss: 1.4623 - accuracy: 0.37 - ETA: 0s - loss: 1.4698 - accuracy: 0.37 - ETA: 0s - loss: 1.4794 - accuracy: 0.36 - ETA: 0s - loss: 1.4713 - accuracy: 0.36 - ETA: 0s - loss: 1.4721 - accuracy: 0.36 - ETA: 0s - loss: 1.4726 - accuracy: 0.37 - ETA: 0s - loss: 1.4779 - accuracy: 0.37 - ETA: 0s - loss: 1.4758 - accuracy: 0.37 - ETA: 0s - loss: 1.4755 - accuracy: 0.38 - ETA: 0s - loss: 1.4861 - accuracy: 0.37 - ETA: 0s - loss: 1.4826 - accuracy: 0.37 - ETA: 0s - loss: 1.4868 - accuracy: 0.37 - ETA: 0s - loss: 1.4902 - accuracy: 0.36 - ETA: 0s - loss: 1.4920 - accuracy: 0.36 - ETA: 0s - loss: 1.4871 - accuracy: 0.37 - 3s 3ms/step - loss: 1.4867 - accuracy: 0.3729 - val_loss: 1.8517 - val_accuracy: 0.3449\n",
      "\n",
      "Epoch 00016: val_loss did not improve from 1.78088\n",
      "Epoch 17/50\n",
      "1024/1121 [==========================>...] - ETA: 2s - loss: 1.6103 - accuracy: 0.37 - ETA: 2s - loss: 1.4666 - accuracy: 0.35 - ETA: 2s - loss: 1.5140 - accuracy: 0.36 - ETA: 2s - loss: 1.5047 - accuracy: 0.35 - ETA: 2s - loss: 1.4828 - accuracy: 0.38 - ETA: 2s - loss: 1.4697 - accuracy: 0.41 - ETA: 1s - loss: 1.4701 - accuracy: 0.38 - ETA: 1s - loss: 1.4631 - accuracy: 0.38 - ETA: 1s - loss: 1.4559 - accuracy: 0.39 - ETA: 1s - loss: 1.4600 - accuracy: 0.38 - ETA: 1s - loss: 1.4739 - accuracy: 0.38 - ETA: 1s - loss: 1.4906 - accuracy: 0.37 - ETA: 1s - loss: 1.4885 - accuracy: 0.37 - ETA: 1s - loss: 1.4751 - accuracy: 0.37 - ETA: 1s - loss: 1.4649 - accuracy: 0.38 - ETA: 1s - loss: 1.4626 - accuracy: 0.38 - ETA: 1s - loss: 1.4675 - accuracy: 0.38 - ETA: 1s - loss: 1.4787 - accuracy: 0.38 - ETA: 1s - loss: 1.4848 - accuracy: 0.38 - ETA: 1s - loss: 1.4810 - accuracy: 0.37 - ETA: 1s - loss: 1.4751 - accuracy: 0.38 - ETA: 0s - loss: 1.4701 - accuracy: 0.38 - ETA: 0s - loss: 1.4730 - accuracy: 0.38 - ETA: 0s - loss: 1.4725 - accuracy: 0.39 - ETA: 0s - loss: 1.4798 - accuracy: 0.38 - ETA: 0s - loss: 1.4783 - accuracy: 0.39 - ETA: 0s - loss: 1.4735 - accuracy: 0.39 - ETA: 0s - loss: 1.4692 - accuracy: 0.39 - ETA: 0s - loss: 1.4736 - accuracy: 0.39 - ETA: 0s - loss: 1.4708 - accuracy: 0.39 - ETA: 0s - loss: 1.4735 - accuracy: 0.39 - ETA: 0s - loss: 1.4808 - accuracy: 0.3926"
     ]
    },
    {
     "ename": "KeyboardInterrupt",
     "evalue": "",
     "output_type": "error",
     "traceback": [
      "\u001b[1;31m---------------------------------------------------------------------------\u001b[0m",
      "\u001b[1;31mKeyboardInterrupt\u001b[0m                         Traceback (most recent call last)",
      "\u001b[1;32m<ipython-input-255-88b85244757c>\u001b[0m in \u001b[0;36m<module>\u001b[1;34m\u001b[0m\n\u001b[0;32m      4\u001b[0m \u001b[1;33m\u001b[0m\u001b[0m\n\u001b[0;32m      5\u001b[0m history = model.fit(X_train, to_categorical(y_train_coded), batch_size=batch_size, epochs=epochs, \n\u001b[1;32m----> 6\u001b[1;33m                     validation_data=[X_val, to_categorical(y_val_coded)], callbacks=[checkpoints, reduce_lr])\n\u001b[0m",
      "\u001b[1;32md:\\anaconda\\lib\\site-packages\\keras\\engine\\training.py\u001b[0m in \u001b[0;36mfit\u001b[1;34m(self, x, y, batch_size, epochs, verbose, callbacks, validation_split, validation_data, shuffle, class_weight, sample_weight, initial_epoch, steps_per_epoch, validation_steps, validation_freq, max_queue_size, workers, use_multiprocessing, **kwargs)\u001b[0m\n\u001b[0;32m   1237\u001b[0m                                         \u001b[0msteps_per_epoch\u001b[0m\u001b[1;33m=\u001b[0m\u001b[0msteps_per_epoch\u001b[0m\u001b[1;33m,\u001b[0m\u001b[1;33m\u001b[0m\u001b[1;33m\u001b[0m\u001b[0m\n\u001b[0;32m   1238\u001b[0m                                         \u001b[0mvalidation_steps\u001b[0m\u001b[1;33m=\u001b[0m\u001b[0mvalidation_steps\u001b[0m\u001b[1;33m,\u001b[0m\u001b[1;33m\u001b[0m\u001b[1;33m\u001b[0m\u001b[0m\n\u001b[1;32m-> 1239\u001b[1;33m                                         validation_freq=validation_freq)\n\u001b[0m\u001b[0;32m   1240\u001b[0m \u001b[1;33m\u001b[0m\u001b[0m\n\u001b[0;32m   1241\u001b[0m     def evaluate(self,\n",
      "\u001b[1;32md:\\anaconda\\lib\\site-packages\\keras\\engine\\training_arrays.py\u001b[0m in \u001b[0;36mfit_loop\u001b[1;34m(model, fit_function, fit_inputs, out_labels, batch_size, epochs, verbose, callbacks, val_function, val_inputs, shuffle, initial_epoch, steps_per_epoch, validation_steps, validation_freq)\u001b[0m\n\u001b[0;32m    194\u001b[0m                     \u001b[0mins_batch\u001b[0m\u001b[1;33m[\u001b[0m\u001b[0mi\u001b[0m\u001b[1;33m]\u001b[0m \u001b[1;33m=\u001b[0m \u001b[0mins_batch\u001b[0m\u001b[1;33m[\u001b[0m\u001b[0mi\u001b[0m\u001b[1;33m]\u001b[0m\u001b[1;33m.\u001b[0m\u001b[0mtoarray\u001b[0m\u001b[1;33m(\u001b[0m\u001b[1;33m)\u001b[0m\u001b[1;33m\u001b[0m\u001b[1;33m\u001b[0m\u001b[0m\n\u001b[0;32m    195\u001b[0m \u001b[1;33m\u001b[0m\u001b[0m\n\u001b[1;32m--> 196\u001b[1;33m                 \u001b[0mouts\u001b[0m \u001b[1;33m=\u001b[0m \u001b[0mfit_function\u001b[0m\u001b[1;33m(\u001b[0m\u001b[0mins_batch\u001b[0m\u001b[1;33m)\u001b[0m\u001b[1;33m\u001b[0m\u001b[1;33m\u001b[0m\u001b[0m\n\u001b[0m\u001b[0;32m    197\u001b[0m                 \u001b[0mouts\u001b[0m \u001b[1;33m=\u001b[0m \u001b[0mto_list\u001b[0m\u001b[1;33m(\u001b[0m\u001b[0mouts\u001b[0m\u001b[1;33m)\u001b[0m\u001b[1;33m\u001b[0m\u001b[1;33m\u001b[0m\u001b[0m\n\u001b[0;32m    198\u001b[0m                 \u001b[1;32mfor\u001b[0m \u001b[0ml\u001b[0m\u001b[1;33m,\u001b[0m \u001b[0mo\u001b[0m \u001b[1;32min\u001b[0m \u001b[0mzip\u001b[0m\u001b[1;33m(\u001b[0m\u001b[0mout_labels\u001b[0m\u001b[1;33m,\u001b[0m \u001b[0mouts\u001b[0m\u001b[1;33m)\u001b[0m\u001b[1;33m:\u001b[0m\u001b[1;33m\u001b[0m\u001b[1;33m\u001b[0m\u001b[0m\n",
      "\u001b[1;32m~\\AppData\\Roaming\\Python\\Python37\\site-packages\\tensorflow_core\\python\\keras\\backend.py\u001b[0m in \u001b[0;36m__call__\u001b[1;34m(self, inputs)\u001b[0m\n\u001b[0;32m   3738\u001b[0m         \u001b[0mvalue\u001b[0m \u001b[1;33m=\u001b[0m \u001b[0mmath_ops\u001b[0m\u001b[1;33m.\u001b[0m\u001b[0mcast\u001b[0m\u001b[1;33m(\u001b[0m\u001b[0mvalue\u001b[0m\u001b[1;33m,\u001b[0m \u001b[0mtensor\u001b[0m\u001b[1;33m.\u001b[0m\u001b[0mdtype\u001b[0m\u001b[1;33m)\u001b[0m\u001b[1;33m\u001b[0m\u001b[1;33m\u001b[0m\u001b[0m\n\u001b[0;32m   3739\u001b[0m       \u001b[0mconverted_inputs\u001b[0m\u001b[1;33m.\u001b[0m\u001b[0mappend\u001b[0m\u001b[1;33m(\u001b[0m\u001b[0mvalue\u001b[0m\u001b[1;33m)\u001b[0m\u001b[1;33m\u001b[0m\u001b[1;33m\u001b[0m\u001b[0m\n\u001b[1;32m-> 3740\u001b[1;33m     \u001b[0moutputs\u001b[0m \u001b[1;33m=\u001b[0m \u001b[0mself\u001b[0m\u001b[1;33m.\u001b[0m\u001b[0m_graph_fn\u001b[0m\u001b[1;33m(\u001b[0m\u001b[1;33m*\u001b[0m\u001b[0mconverted_inputs\u001b[0m\u001b[1;33m)\u001b[0m\u001b[1;33m\u001b[0m\u001b[1;33m\u001b[0m\u001b[0m\n\u001b[0m\u001b[0;32m   3741\u001b[0m \u001b[1;33m\u001b[0m\u001b[0m\n\u001b[0;32m   3742\u001b[0m     \u001b[1;31m# EagerTensor.numpy() will often make a copy to ensure memory safety.\u001b[0m\u001b[1;33m\u001b[0m\u001b[1;33m\u001b[0m\u001b[1;33m\u001b[0m\u001b[0m\n",
      "\u001b[1;32m~\\AppData\\Roaming\\Python\\Python37\\site-packages\\tensorflow_core\\python\\eager\\function.py\u001b[0m in \u001b[0;36m__call__\u001b[1;34m(self, *args, **kwargs)\u001b[0m\n\u001b[0;32m   1079\u001b[0m       \u001b[0mTypeError\u001b[0m\u001b[1;33m:\u001b[0m \u001b[0mFor\u001b[0m \u001b[0minvalid\u001b[0m \u001b[0mpositional\u001b[0m\u001b[1;33m/\u001b[0m\u001b[0mkeyword\u001b[0m \u001b[0margument\u001b[0m \u001b[0mcombinations\u001b[0m\u001b[1;33m.\u001b[0m\u001b[1;33m\u001b[0m\u001b[1;33m\u001b[0m\u001b[0m\n\u001b[0;32m   1080\u001b[0m     \"\"\"\n\u001b[1;32m-> 1081\u001b[1;33m     \u001b[1;32mreturn\u001b[0m \u001b[0mself\u001b[0m\u001b[1;33m.\u001b[0m\u001b[0m_call_impl\u001b[0m\u001b[1;33m(\u001b[0m\u001b[0margs\u001b[0m\u001b[1;33m,\u001b[0m \u001b[0mkwargs\u001b[0m\u001b[1;33m)\u001b[0m\u001b[1;33m\u001b[0m\u001b[1;33m\u001b[0m\u001b[0m\n\u001b[0m\u001b[0;32m   1082\u001b[0m \u001b[1;33m\u001b[0m\u001b[0m\n\u001b[0;32m   1083\u001b[0m   \u001b[1;32mdef\u001b[0m \u001b[0m_call_impl\u001b[0m\u001b[1;33m(\u001b[0m\u001b[0mself\u001b[0m\u001b[1;33m,\u001b[0m \u001b[0margs\u001b[0m\u001b[1;33m,\u001b[0m \u001b[0mkwargs\u001b[0m\u001b[1;33m,\u001b[0m \u001b[0mcancellation_manager\u001b[0m\u001b[1;33m=\u001b[0m\u001b[1;32mNone\u001b[0m\u001b[1;33m)\u001b[0m\u001b[1;33m:\u001b[0m\u001b[1;33m\u001b[0m\u001b[1;33m\u001b[0m\u001b[0m\n",
      "\u001b[1;32m~\\AppData\\Roaming\\Python\\Python37\\site-packages\\tensorflow_core\\python\\eager\\function.py\u001b[0m in \u001b[0;36m_call_impl\u001b[1;34m(self, args, kwargs, cancellation_manager)\u001b[0m\n\u001b[0;32m   1119\u001b[0m       raise TypeError(\"Keyword arguments {} unknown. Expected {}.\".format(\n\u001b[0;32m   1120\u001b[0m           list(kwargs.keys()), list(self._arg_keywords)))\n\u001b[1;32m-> 1121\u001b[1;33m     \u001b[1;32mreturn\u001b[0m \u001b[0mself\u001b[0m\u001b[1;33m.\u001b[0m\u001b[0m_call_flat\u001b[0m\u001b[1;33m(\u001b[0m\u001b[0margs\u001b[0m\u001b[1;33m,\u001b[0m \u001b[0mself\u001b[0m\u001b[1;33m.\u001b[0m\u001b[0mcaptured_inputs\u001b[0m\u001b[1;33m,\u001b[0m \u001b[0mcancellation_manager\u001b[0m\u001b[1;33m)\u001b[0m\u001b[1;33m\u001b[0m\u001b[1;33m\u001b[0m\u001b[0m\n\u001b[0m\u001b[0;32m   1122\u001b[0m \u001b[1;33m\u001b[0m\u001b[0m\n\u001b[0;32m   1123\u001b[0m   \u001b[1;32mdef\u001b[0m \u001b[0m_filtered_call\u001b[0m\u001b[1;33m(\u001b[0m\u001b[0mself\u001b[0m\u001b[1;33m,\u001b[0m \u001b[0margs\u001b[0m\u001b[1;33m,\u001b[0m \u001b[0mkwargs\u001b[0m\u001b[1;33m)\u001b[0m\u001b[1;33m:\u001b[0m\u001b[1;33m\u001b[0m\u001b[1;33m\u001b[0m\u001b[0m\n",
      "\u001b[1;32m~\\AppData\\Roaming\\Python\\Python37\\site-packages\\tensorflow_core\\python\\eager\\function.py\u001b[0m in \u001b[0;36m_call_flat\u001b[1;34m(self, args, captured_inputs, cancellation_manager)\u001b[0m\n\u001b[0;32m   1222\u001b[0m     \u001b[1;32mif\u001b[0m \u001b[0mexecuting_eagerly\u001b[0m\u001b[1;33m:\u001b[0m\u001b[1;33m\u001b[0m\u001b[1;33m\u001b[0m\u001b[0m\n\u001b[0;32m   1223\u001b[0m       flat_outputs = forward_function.call(\n\u001b[1;32m-> 1224\u001b[1;33m           ctx, args, cancellation_manager=cancellation_manager)\n\u001b[0m\u001b[0;32m   1225\u001b[0m     \u001b[1;32melse\u001b[0m\u001b[1;33m:\u001b[0m\u001b[1;33m\u001b[0m\u001b[1;33m\u001b[0m\u001b[0m\n\u001b[0;32m   1226\u001b[0m       \u001b[0mgradient_name\u001b[0m \u001b[1;33m=\u001b[0m \u001b[0mself\u001b[0m\u001b[1;33m.\u001b[0m\u001b[0m_delayed_rewrite_functions\u001b[0m\u001b[1;33m.\u001b[0m\u001b[0mregister\u001b[0m\u001b[1;33m(\u001b[0m\u001b[1;33m)\u001b[0m\u001b[1;33m\u001b[0m\u001b[1;33m\u001b[0m\u001b[0m\n",
      "\u001b[1;32m~\\AppData\\Roaming\\Python\\Python37\\site-packages\\tensorflow_core\\python\\eager\\function.py\u001b[0m in \u001b[0;36mcall\u001b[1;34m(self, ctx, args, cancellation_manager)\u001b[0m\n\u001b[0;32m    509\u001b[0m               \u001b[0minputs\u001b[0m\u001b[1;33m=\u001b[0m\u001b[0margs\u001b[0m\u001b[1;33m,\u001b[0m\u001b[1;33m\u001b[0m\u001b[1;33m\u001b[0m\u001b[0m\n\u001b[0;32m    510\u001b[0m               \u001b[0mattrs\u001b[0m\u001b[1;33m=\u001b[0m\u001b[1;33m(\u001b[0m\u001b[1;34m\"executor_type\"\u001b[0m\u001b[1;33m,\u001b[0m \u001b[0mexecutor_type\u001b[0m\u001b[1;33m,\u001b[0m \u001b[1;34m\"config_proto\"\u001b[0m\u001b[1;33m,\u001b[0m \u001b[0mconfig\u001b[0m\u001b[1;33m)\u001b[0m\u001b[1;33m,\u001b[0m\u001b[1;33m\u001b[0m\u001b[1;33m\u001b[0m\u001b[0m\n\u001b[1;32m--> 511\u001b[1;33m               ctx=ctx)\n\u001b[0m\u001b[0;32m    512\u001b[0m         \u001b[1;32melse\u001b[0m\u001b[1;33m:\u001b[0m\u001b[1;33m\u001b[0m\u001b[1;33m\u001b[0m\u001b[0m\n\u001b[0;32m    513\u001b[0m           outputs = execute.execute_with_cancellation(\n",
      "\u001b[1;32m~\\AppData\\Roaming\\Python\\Python37\\site-packages\\tensorflow_core\\python\\eager\\execute.py\u001b[0m in \u001b[0;36mquick_execute\u001b[1;34m(op_name, num_outputs, inputs, attrs, ctx, name)\u001b[0m\n\u001b[0;32m     59\u001b[0m     tensors = pywrap_tensorflow.TFE_Py_Execute(ctx._handle, device_name,\n\u001b[0;32m     60\u001b[0m                                                \u001b[0mop_name\u001b[0m\u001b[1;33m,\u001b[0m \u001b[0minputs\u001b[0m\u001b[1;33m,\u001b[0m \u001b[0mattrs\u001b[0m\u001b[1;33m,\u001b[0m\u001b[1;33m\u001b[0m\u001b[1;33m\u001b[0m\u001b[0m\n\u001b[1;32m---> 61\u001b[1;33m                                                num_outputs)\n\u001b[0m\u001b[0;32m     62\u001b[0m   \u001b[1;32mexcept\u001b[0m \u001b[0mcore\u001b[0m\u001b[1;33m.\u001b[0m\u001b[0m_NotOkStatusException\u001b[0m \u001b[1;32mas\u001b[0m \u001b[0me\u001b[0m\u001b[1;33m:\u001b[0m\u001b[1;33m\u001b[0m\u001b[1;33m\u001b[0m\u001b[0m\n\u001b[0;32m     63\u001b[0m     \u001b[1;32mif\u001b[0m \u001b[0mname\u001b[0m \u001b[1;32mis\u001b[0m \u001b[1;32mnot\u001b[0m \u001b[1;32mNone\u001b[0m\u001b[1;33m:\u001b[0m\u001b[1;33m\u001b[0m\u001b[1;33m\u001b[0m\u001b[0m\n",
      "\u001b[1;31mKeyboardInterrupt\u001b[0m: "
     ]
    }
   ],
   "source": [
    "mapping_labels = {lab:code for code, lab in enumerate(np.unique(y_train))}\n",
    "y_train_coded = [mapping_labels[lab] for lab in y_train]\n",
    "y_val_coded = [mapping_labels[lab] for lab in y_val]\n",
    "\n",
    "history = model.fit(X_train, to_categorical(y_train_coded), batch_size=batch_size, epochs=epochs, \n",
    "                    validation_data=[X_val, to_categorical(y_val_coded)], callbacks=[checkpoints, reduce_lr])"
   ]
  },
  {
   "cell_type": "markdown",
   "metadata": {},
   "source": [
    "# Analysis of the predictions"
   ]
  },
  {
   "cell_type": "code",
   "execution_count": 364,
   "metadata": {},
   "outputs": [],
   "source": [
    "indices = (predictions.argmax(axis=1) != local_test.class_codes.values)"
   ]
  },
  {
   "cell_type": "code",
   "execution_count": 365,
   "metadata": {},
   "outputs": [
    {
     "data": {
      "image/png": "[encoded data removed]",
      "text/plain": [
       "<Figure size 432x288 with 1 Axes>"
      ]
     },
     "metadata": {
      "needs_background": "light"
     },
     "output_type": "display_data"
    }
   ],
   "source": [
    "dicc = dict(np.array(train_hosts[[\"class\",\"class_codes\"]].drop_duplicates()))\n",
    "inv_dicc = {v:k for k, v in dicc.items()}\n",
    "pd.Series(predictions[indices].argmax(axis=1)).map(inv_dicc).value_counts(sort=False).plot(kind=\"bar\");"
   ]
  },
  {
   "cell_type": "code",
   "execution_count": 366,
   "metadata": {},
   "outputs": [],
   "source": [
    "the_model_predicted_probas = predictions[indices][predictions[indices].argmax(axis=1) == 2]\n",
    "corresponding_real_classes = local_test.class_codes.values[indices][predictions[indices].argmax(axis=1) == 2]"
   ]
  },
  {
   "cell_type": "code",
   "execution_count": 367,
   "metadata": {},
   "outputs": [],
   "source": [
    "dico_probas = {i:[] for i in range(8)}\n",
    "for j, real_class in enumerate(local_test.class_codes.values[indices]) :\n",
    "    dico_probas[real_class].append(predictions[indices][j, real_class])"
   ]
  },
  {
   "cell_type": "code",
   "execution_count": 371,
   "metadata": {},
   "outputs": [
    {
     "data": {
      "image/png": "[encoded data removed]",
      "text/plain": [
       "<Figure size 1080x504 with 8 Axes>"
      ]
     },
     "metadata": {
      "needs_background": "light"
     },
     "output_type": "display_data"
    }
   ],
   "source": [
    "fig, axs = plt.subplots(2, 4, figsize=(15,7))\n",
    "for j in range(4):\n",
    "    for i in range(2) :\n",
    "        axs[i,j].set_title(\"{}\".format(inv_dicc[int(i*4)+j]))\n",
    "        axs[i,j].hist(dico_probas[int(i*4)+j], range=(0,0.5), edgecolor=\"k\")"
   ]
  },
  {
   "cell_type": "markdown",
   "metadata": {},
   "source": []
  },
  {
   "cell_type": "code",
   "execution_count": null,
   "metadata": {},
   "outputs": [],
   "source": []
  },
  {
   "cell_type": "code",
   "execution_count": null,
   "metadata": {},
   "outputs": [],
   "source": []
  },
  {
   "cell_type": "code",
   "execution_count": null,
   "metadata": {},
   "outputs": [],
   "source": []
  },
  {
   "cell_type": "code",
   "execution_count": null,
   "metadata": {},
   "outputs": [],
   "source": []
  },
  {
   "cell_type": "code",
   "execution_count": null,
   "metadata": {},
   "outputs": [],
   "source": []
  }
 ],
 "metadata": {
  "kernelspec": {
   "display_name": "Python 3",
   "language": "python",
   "name": "python3"
  },
  "language_info": {
   "codemirror_mode": {
    "name": "ipython",
    "version": 3
   },
   "file_extension": ".py",
   "mimetype": "text/x-python",
   "name": "python",
   "nbconvert_exporter": "python",
   "pygments_lexer": "ipython3",
   "version": "3.7.3"
  },
  "toc": {
   "base_numbering": 1,
   "nav_menu": {},
   "number_sections": true,
   "sideBar": true,
   "skip_h1_title": false,
   "title_cell": "Table of Contents",
   "title_sidebar": "Contents",
   "toc_cell": true,
   "toc_position": {
    "height": "calc(100% - 180px)",
    "left": "10px",
    "top": "150px",
    "width": "409.6px"
   },
   "toc_section_display": true,
   "toc_window_display": true
  }
 },
 "nbformat": 4,
 "nbformat_minor": 2
}
